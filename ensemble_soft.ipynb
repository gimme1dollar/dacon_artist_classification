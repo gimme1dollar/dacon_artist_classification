{
 "cells": [
  {
   "cell_type": "code",
   "execution_count": null,
   "id": "8cde5a20-9b44-4d8c-8f85-b98956c5c9e3",
   "metadata": {},
   "outputs": [],
   "source": [
    "import random\n",
    "import pandas as pd\n",
    "import numpy as np\n",
    "import os\n",
    "import json\n",
    "import torch\n",
    "import torch.nn as nn\n",
    "from sklearn import preprocessing\n",
    "\n",
    "from glob import glob\n",
    "\n",
    "import warnings\n",
    "warnings.filterwarnings(action='ignore') "
   ]
  },
  {
   "cell_type": "code",
   "execution_count": null,
   "id": "3538117a-2289-43c7-9efb-559d5e87aae8",
   "metadata": {},
   "outputs": [],
   "source": [
    "device = torch. device('cuda') if torch.cuda.is_available() else torch.device('cpu')"
   ]
  },
  {
   "cell_type": "code",
   "execution_count": null,
   "id": "4596dcc2-0e14-496b-891b-cbab46d356fe",
   "metadata": {},
   "outputs": [],
   "source": [
    "CFG = {\n",
    "    'IMG_SIZE':384,\n",
    "    'EPOCHS':50,\n",
    "    'LEARNING_RATE':1e-4,\n",
    "    'BATCH_SIZE':32,\n",
    "    'SEED':41\n",
    "}"
   ]
  },
  {
   "cell_type": "code",
   "execution_count": null,
   "id": "c47e3d6a-1e59-49df-badf-5c60a8cbc40d",
   "metadata": {},
   "outputs": [],
   "source": [
    "def seed_everything(seed):\n",
    "    random.seed(seed)\n",
    "    os.environ['PYTHONHASHSEED'] = str(seed)\n",
    "    np.random.seed(seed)\n",
    "    torch.manual_seed(seed)\n",
    "    torch.cuda.manual_seed(seed)\n",
    "    torch.backends.cudnn.deterministic = True\n",
    "    torch.backends.cudnn.benchmark = True\n",
    "\n",
    "seed_everything(CFG['SEED']) # Seed 고정"
   ]
  },
  {
   "cell_type": "code",
   "execution_count": null,
   "id": "5873a7ee-0fd0-4760-a27d-3d04210a87f2",
   "metadata": {},
   "outputs": [],
   "source": [
    "df = pd.read_csv('train.csv')\n",
    "df.head()"
   ]
  },
  {
   "cell_type": "code",
   "execution_count": null,
   "id": "9d58cd8d-66bb-4273-99bd-1aad32c7f82b",
   "metadata": {},
   "outputs": [],
   "source": [
    "# Label Encoding\n",
    "le = preprocessing.LabelEncoder()\n",
    "df['artist'] = le.fit_transform(df['artist'].values)"
   ]
  },
  {
   "cell_type": "code",
   "execution_count": null,
   "id": "9bba1a16-ab9c-4b52-ba2a-55ed64ad6d69",
   "metadata": {},
   "outputs": [],
   "source": [
    "def softmax_softvoting(save_file_name):\n",
    "    all_files = glob(f'./csv_files_last/*.csv')\n",
    "    preds = []\n",
    "    softmax = nn.Softmax(dim = 1)\n",
    "    for filename in all_files:\n",
    "        df = pd.read_csv(filename,index_col=None,header=0)\n",
    "        \n",
    "        if len(preds) == 0:\n",
    "            preds = df['artist']\n",
    "            for i in range(len(preds)):\n",
    "                x = [json.loads(preds[i])]\n",
    "                x = softmax(torch.tensor(x))\n",
    "                preds[i] = x.tolist()\n",
    "            # print(preds.shape)\n",
    "        else:\n",
    "            for i in range(len(preds)):\n",
    "                x = preds[i]\n",
    "                x = torch.tensor(x)\n",
    "                \n",
    "                y = [json.loads(df['artist'][i])]\n",
    "                y = softmax(torch.tensor(y))\n",
    "                preds[i] = (x.add(y)).tolist()\n",
    "                # if i == 0:\n",
    "                #     print(x)\n",
    "                #     print(y)\n",
    "                #     print(x.add(y))\n",
    "            # print(preds)\n",
    "    \n",
    "    submit = pd.read_csv('sample_submission.csv')\n",
    "    \n",
    "    preds = torch.tensor(preds).argmax(dim=-1)\n",
    "    # preds = preds.argmax(dim=-1)\n",
    "    preds = le.inverse_transform(preds)\n",
    "    submit['artist'] = preds\n",
    "    \n",
    "    submit.to_csv(f'./{save_file_name}.csv', index = False)\n",
    "    \n",
    "def softvoting(save_file_name):\n",
    "    all_files = glob(f'./csv_files_num/*.csv')\n",
    "    preds = []\n",
    "    for filename in all_files:\n",
    "        df = pd.read_csv(filename,index_col=None,header=0)\n",
    "        \n",
    "        if len(preds) == 0:\n",
    "            preds = df['artist']\n",
    "            for i in range(len(preds)):\n",
    "                x = [json.loads(preds[i])]\n",
    "                x = torch.tensor(x)\n",
    "                preds[i] = x.tolist()\n",
    "            # print(preds.shape)\n",
    "        else:\n",
    "            for i in range(len(preds)):\n",
    "                x = preds[i]\n",
    "                # print(torch.tensor(x))\n",
    "                x = torch.tensor(x)\n",
    "                y = [json.loads(df['artist'][i])]\n",
    "                y = torch.tensor(y)\n",
    "                preds[i] = (x.add(y)).tolist()\n",
    "                # if i == 0:\n",
    "                #     print(x)\n",
    "                #     print(y)\n",
    "                #     print(x.add(y))\n",
    "            # print(preds)\n",
    "    \n",
    "    submit = pd.read_csv('sample_submission.csv')\n",
    "    \n",
    "    preds = torch.tensor(preds).argmax(dim=-1)\n",
    "    # preds = preds.argmax(dim=-1)\n",
    "    preds = le.inverse_transform(preds)\n",
    "    submit['artist'] = preds\n",
    "    \n",
    "    submit.to_csv(f'./{save_file_name}.csv', index = False)"
   ]
  },
  {
   "cell_type": "code",
   "execution_count": null,
   "id": "760c5c1e-c4ce-4a22-ba51-246b765d91ef",
   "metadata": {},
   "outputs": [],
   "source": [
    "softmax_softvoting('ensemble_submit.csv')  # 제출용 csv 파일 생성"
   ]
  }
 ],
 "metadata": {
  "kernelspec": {
   "display_name": "Python 3 (ipykernel)",
   "language": "python",
   "name": "python3"
  },
  "language_info": {
   "codemirror_mode": {
    "name": "ipython",
    "version": 3
   },
   "file_extension": ".py",
   "mimetype": "text/x-python",
   "name": "python",
   "nbconvert_exporter": "python",
   "pygments_lexer": "ipython3",
   "version": "3.8.5"
  }
 },
 "nbformat": 4,
 "nbformat_minor": 5
}
