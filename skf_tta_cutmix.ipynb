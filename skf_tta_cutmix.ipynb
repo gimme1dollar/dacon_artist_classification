{
 "cells": [
  {
   "cell_type": "code",
   "execution_count": 1,
   "metadata": {
    "id": "NjgwI4EFocbe"
   },
   "outputs": [
    {
     "name": "stderr",
     "output_type": "stream",
     "text": [
      "/opt/conda/envs/dacon/lib/python3.8/site-packages/tqdm/auto.py:22: TqdmWarning: IProgress not found. Please update jupyter and ipywidgets. See https://ipywidgets.readthedocs.io/en/stable/user_install.html\n",
      "  from .autonotebook import tqdm as notebook_tqdm\n"
     ]
    }
   ],
   "source": [
    "import random\n",
    "import pandas as pd\n",
    "import numpy as np\n",
    "import os\n",
    "import cv2\n",
    "import math\n",
    "import multiprocessing\n",
    "import torchvision.transforms as transforms\n",
    "import torch.optim as optim\n",
    "from torch.optim.lr_scheduler import MultiStepLR, CosineAnnealingLR\n",
    "from torch.optim import lr_scheduler\n",
    "from torch.autograd import Variable\n",
    "from Cream.TinyViT.models.tiny_vit import tiny_vit_21m_224, tiny_vit_21m_384\n",
    "from sklearn.model_selection import StratifiedKFold\n",
    "\n",
    "from sklearn import preprocessing\n",
    "from sklearn.model_selection import train_test_split\n",
    "\n",
    "import torch\n",
    "import torch.nn as nn\n",
    "import torch.optim as optim\n",
    "import torch.nn.functional as F\n",
    "from torch.utils.data import Dataset, DataLoader\n",
    "\n",
    "from tqdm.auto import tqdm\n",
    "\n",
    "import albumentations as A\n",
    "from albumentations.pytorch.transforms import ToTensorV2\n",
    "\n",
    "import torchvision.models as models\n",
    "\n",
    "from sklearn.metrics import f1_score\n",
    "\n",
    "import warnings\n",
    "warnings.filterwarnings(action='ignore') "
   ]
  },
  {
   "cell_type": "code",
   "execution_count": 2,
   "metadata": {
    "id": "JoYsmI9qoj24"
   },
   "outputs": [],
   "source": [
    "device = torch. device('cuda') if torch.cuda.is_available() else torch.device('cpu')"
   ]
  },
  {
   "cell_type": "code",
   "execution_count": null,
   "metadata": {
    "colab": {
     "base_uri": "https://localhost:8080/"
    },
    "id": "AZzKS7ftooTR",
    "outputId": "d33cdabd-b720-4dbe-fb84-90bf504f3f1a"
   },
   "outputs": [
    {
     "data": {
      "text/plain": [
       "device(type='cuda')"
      ]
     },
     "execution_count": 3,
     "metadata": {},
     "output_type": "execute_result"
    }
   ],
   "source": [
    "device"
   ]
  },
  {
   "cell_type": "markdown",
   "metadata": {},
   "source": [
    "## Hyperparameter Setting"
   ]
  },
  {
   "cell_type": "code",
   "execution_count": 4,
   "metadata": {
    "id": "7Keca161ops2"
   },
   "outputs": [],
   "source": [
    "CFG = {\n",
    "    'IMG_SIZE':384,\n",
    "    'EPOCHS':50,\n",
    "    'LEARNING_RATE':1e-4,\n",
    "    'BATCH_SIZE':32,\n",
    "    'SEED':41\n",
    "}"
   ]
  },
  {
   "cell_type": "markdown",
   "metadata": {},
   "source": [
    "## Fix Randomseed"
   ]
  },
  {
   "cell_type": "code",
   "execution_count": 5,
   "metadata": {
    "colab": {
     "base_uri": "https://localhost:8080/",
     "height": 424
    },
    "id": "IrUSTr_nowFt",
    "outputId": "3f7b50c8-dddc-43ac-8d88-f5fed82ed8e3"
   },
   "outputs": [],
   "source": [
    "def seed_everything(seed):\n",
    "    random.seed(seed)\n",
    "    os.environ['PYTHONHASHSEED'] = str(seed)\n",
    "    np.random.seed(seed)\n",
    "    torch.manual_seed(seed)\n",
    "    torch.cuda.manual_seed(seed)\n",
    "    torch.backends.cudnn.deterministic = True\n",
    "    torch.backends.cudnn.benchmark = True\n",
    "\n",
    "seed_everything(CFG['SEED']) # Seed 고정"
   ]
  },
  {
   "cell_type": "markdown",
   "metadata": {
    "id": "hJKRL9j1P_K0"
   },
   "source": [
    "## Data Preprocessing"
   ]
  },
  {
   "cell_type": "code",
   "execution_count": 7,
   "metadata": {
    "colab": {
     "base_uri": "https://localhost:8080/",
     "height": 206
    },
    "id": "rCjuy62Toxdn",
    "outputId": "27c2e814-a759-4bbb-be4f-24e50ce44f17"
   },
   "outputs": [
    {
     "data": {
      "text/html": [
       "<div>\n",
       "<style scoped>\n",
       "    .dataframe tbody tr th:only-of-type {\n",
       "        vertical-align: middle;\n",
       "    }\n",
       "\n",
       "    .dataframe tbody tr th {\n",
       "        vertical-align: top;\n",
       "    }\n",
       "\n",
       "    .dataframe thead th {\n",
       "        text-align: right;\n",
       "    }\n",
       "</style>\n",
       "<table border=\"1\" class=\"dataframe\">\n",
       "  <thead>\n",
       "    <tr style=\"text-align: right;\">\n",
       "      <th></th>\n",
       "      <th>id</th>\n",
       "      <th>img_path</th>\n",
       "      <th>artist</th>\n",
       "    </tr>\n",
       "  </thead>\n",
       "  <tbody>\n",
       "    <tr>\n",
       "      <th>0</th>\n",
       "      <td>0</td>\n",
       "      <td>./train/0000.jpg</td>\n",
       "      <td>Diego Velazquez</td>\n",
       "    </tr>\n",
       "    <tr>\n",
       "      <th>1</th>\n",
       "      <td>1</td>\n",
       "      <td>./train/0001.jpg</td>\n",
       "      <td>Vincent van Gogh</td>\n",
       "    </tr>\n",
       "    <tr>\n",
       "      <th>2</th>\n",
       "      <td>2</td>\n",
       "      <td>./train/0002.jpg</td>\n",
       "      <td>Claude Monet</td>\n",
       "    </tr>\n",
       "    <tr>\n",
       "      <th>3</th>\n",
       "      <td>3</td>\n",
       "      <td>./train/0003.jpg</td>\n",
       "      <td>Edgar Degas</td>\n",
       "    </tr>\n",
       "    <tr>\n",
       "      <th>4</th>\n",
       "      <td>4</td>\n",
       "      <td>./train/0004.jpg</td>\n",
       "      <td>Hieronymus Bosch</td>\n",
       "    </tr>\n",
       "  </tbody>\n",
       "</table>\n",
       "</div>"
      ],
      "text/plain": [
       "   id          img_path            artist\n",
       "0   0  ./train/0000.jpg   Diego Velazquez\n",
       "1   1  ./train/0001.jpg  Vincent van Gogh\n",
       "2   2  ./train/0002.jpg      Claude Monet\n",
       "3   3  ./train/0003.jpg       Edgar Degas\n",
       "4   4  ./train/0004.jpg  Hieronymus Bosch"
      ]
     },
     "execution_count": 7,
     "metadata": {},
     "output_type": "execute_result"
    }
   ],
   "source": [
    "df = pd.read_csv('train.csv')\n",
    "df.head()"
   ]
  },
  {
   "cell_type": "code",
   "execution_count": 8,
   "metadata": {
    "id": "EPQZutPIoy9P"
   },
   "outputs": [],
   "source": [
    "# Label Encoding\n",
    "le = preprocessing.LabelEncoder()\n",
    "df['artist'] = le.fit_transform(df['artist'].values)"
   ]
  },
  {
   "cell_type": "code",
   "execution_count": 9,
   "metadata": {
    "id": "fwGCOspzpqpZ"
   },
   "outputs": [],
   "source": [
    "train_df, val_df, _, _ = train_test_split(df, df['artist'].values, test_size=0.2, random_state=CFG['SEED'])"
   ]
  },
  {
   "cell_type": "code",
   "execution_count": 10,
   "metadata": {
    "colab": {
     "base_uri": "https://localhost:8080/",
     "height": 206
    },
    "id": "XjU0zYI8qEMZ",
    "outputId": "dfaf09b6-6342-4f9f-aa29-299d0ca1c0d4"
   },
   "outputs": [
    {
     "data": {
      "text/html": [
       "<div>\n",
       "<style scoped>\n",
       "    .dataframe tbody tr th:only-of-type {\n",
       "        vertical-align: middle;\n",
       "    }\n",
       "\n",
       "    .dataframe tbody tr th {\n",
       "        vertical-align: top;\n",
       "    }\n",
       "\n",
       "    .dataframe thead th {\n",
       "        text-align: right;\n",
       "    }\n",
       "</style>\n",
       "<table border=\"1\" class=\"dataframe\">\n",
       "  <thead>\n",
       "    <tr style=\"text-align: right;\">\n",
       "      <th></th>\n",
       "      <th>id</th>\n",
       "      <th>img_path</th>\n",
       "      <th>artist</th>\n",
       "    </tr>\n",
       "  </thead>\n",
       "  <tbody>\n",
       "    <tr>\n",
       "      <th>0</th>\n",
       "      <td>0</td>\n",
       "      <td>./train/0000.jpg</td>\n",
       "      <td>9</td>\n",
       "    </tr>\n",
       "    <tr>\n",
       "      <th>2</th>\n",
       "      <td>2</td>\n",
       "      <td>./train/0002.jpg</td>\n",
       "      <td>7</td>\n",
       "    </tr>\n",
       "    <tr>\n",
       "      <th>3</th>\n",
       "      <td>3</td>\n",
       "      <td>./train/0003.jpg</td>\n",
       "      <td>10</td>\n",
       "    </tr>\n",
       "    <tr>\n",
       "      <th>5</th>\n",
       "      <td>5</td>\n",
       "      <td>./train/0005.jpg</td>\n",
       "      <td>38</td>\n",
       "    </tr>\n",
       "    <tr>\n",
       "      <th>6</th>\n",
       "      <td>6</td>\n",
       "      <td>./train/0006.jpg</td>\n",
       "      <td>43</td>\n",
       "    </tr>\n",
       "  </tbody>\n",
       "</table>\n",
       "</div>"
      ],
      "text/plain": [
       "   id          img_path  artist\n",
       "0   0  ./train/0000.jpg       9\n",
       "2   2  ./train/0002.jpg       7\n",
       "3   3  ./train/0003.jpg      10\n",
       "5   5  ./train/0005.jpg      38\n",
       "6   6  ./train/0006.jpg      43"
      ]
     },
     "execution_count": 10,
     "metadata": {},
     "output_type": "execute_result"
    }
   ],
   "source": [
    "train_df = train_df.sort_values(by=['id'])\n",
    "train_df.head()"
   ]
  },
  {
   "cell_type": "code",
   "execution_count": 11,
   "metadata": {
    "colab": {
     "base_uri": "https://localhost:8080/",
     "height": 206
    },
    "id": "NcrSZLEAqF-s",
    "outputId": "31556772-bb8e-4174-b4fd-356493f8cfc2"
   },
   "outputs": [
    {
     "data": {
      "text/html": [
       "<div>\n",
       "<style scoped>\n",
       "    .dataframe tbody tr th:only-of-type {\n",
       "        vertical-align: middle;\n",
       "    }\n",
       "\n",
       "    .dataframe tbody tr th {\n",
       "        vertical-align: top;\n",
       "    }\n",
       "\n",
       "    .dataframe thead th {\n",
       "        text-align: right;\n",
       "    }\n",
       "</style>\n",
       "<table border=\"1\" class=\"dataframe\">\n",
       "  <thead>\n",
       "    <tr style=\"text-align: right;\">\n",
       "      <th></th>\n",
       "      <th>id</th>\n",
       "      <th>img_path</th>\n",
       "      <th>artist</th>\n",
       "    </tr>\n",
       "  </thead>\n",
       "  <tbody>\n",
       "    <tr>\n",
       "      <th>1</th>\n",
       "      <td>1</td>\n",
       "      <td>./train/0001.jpg</td>\n",
       "      <td>48</td>\n",
       "    </tr>\n",
       "    <tr>\n",
       "      <th>4</th>\n",
       "      <td>4</td>\n",
       "      <td>./train/0004.jpg</td>\n",
       "      <td>24</td>\n",
       "    </tr>\n",
       "    <tr>\n",
       "      <th>17</th>\n",
       "      <td>17</td>\n",
       "      <td>./train/0017.jpg</td>\n",
       "      <td>10</td>\n",
       "    </tr>\n",
       "    <tr>\n",
       "      <th>21</th>\n",
       "      <td>21</td>\n",
       "      <td>./train/0021.jpg</td>\n",
       "      <td>29</td>\n",
       "    </tr>\n",
       "    <tr>\n",
       "      <th>29</th>\n",
       "      <td>29</td>\n",
       "      <td>./train/0029.jpg</td>\n",
       "      <td>28</td>\n",
       "    </tr>\n",
       "  </tbody>\n",
       "</table>\n",
       "</div>"
      ],
      "text/plain": [
       "    id          img_path  artist\n",
       "1    1  ./train/0001.jpg      48\n",
       "4    4  ./train/0004.jpg      24\n",
       "17  17  ./train/0017.jpg      10\n",
       "21  21  ./train/0021.jpg      29\n",
       "29  29  ./train/0029.jpg      28"
      ]
     },
     "execution_count": 11,
     "metadata": {},
     "output_type": "execute_result"
    }
   ],
   "source": [
    "val_df = val_df.sort_values(by=['id'])\n",
    "val_df.head()"
   ]
  },
  {
   "cell_type": "markdown",
   "metadata": {
    "id": "VYQEFhdxqLVI"
   },
   "source": [
    "## Data Load"
   ]
  },
  {
   "cell_type": "code",
   "execution_count": 12,
   "metadata": {
    "id": "khRGqasEqGmv"
   },
   "outputs": [],
   "source": [
    "def get_data(df, infer=False):\n",
    "    if infer:\n",
    "        return df['img_path'].values\n",
    "    return df['img_path'].values, df['artist'].values"
   ]
  },
  {
   "cell_type": "code",
   "execution_count": 13,
   "metadata": {
    "id": "9ONfCNu6qGtN"
   },
   "outputs": [],
   "source": [
    "train_img_paths, train_labels = get_data(train_df)\n",
    "val_img_paths, val_labels = get_data(val_df)\n",
    "all_img_paths, all_labels = get_data(df)"
   ]
  },
  {
   "cell_type": "markdown",
   "metadata": {
    "id": "4_Xix29tqPtb"
   },
   "source": [
    "## CustomDataset"
   ]
  },
  {
   "cell_type": "code",
   "execution_count": 14,
   "metadata": {
    "id": "dNYUqWQnqG00"
   },
   "outputs": [],
   "source": [
    "class CustomDataset(Dataset):\n",
    "    def __init__(self, img_paths, labels, transforms=None):\n",
    "        self.img_paths = img_paths\n",
    "        self.labels = labels\n",
    "        self.transforms = transforms\n",
    "\n",
    "    def __getitem__(self, index):\n",
    "        img_path = self.img_paths[index]\n",
    "        image = cv2.imread(img_path)\n",
    "        image = cv2.cvtColor(image, cv2.COLOR_BGR2RGB)\n",
    "        \n",
    "        if self.transforms is not None:\n",
    "            image = self.transforms(image=image)['image']\n",
    "        \n",
    "        if self.labels is not None:\n",
    "            label = self.labels[index]\n",
    "            return image, label\n",
    "        else:\n",
    "            return image\n",
    "    \n",
    "    def __len__(self):\n",
    "        return len(self.img_paths)"
   ]
  },
  {
   "cell_type": "code",
   "execution_count": 15,
   "metadata": {
    "id": "k8_zGBV3qG6y"
   },
   "outputs": [],
   "source": [
    "from numpy.lib.function_base import angle\n",
    "train_transform = A.Compose([\n",
    "                            A.Resize(800,800), \n",
    "                            A.RandomCrop(384,384), # 약 4분의1 size로 crop\n",
    "                            A.HorizontalFlip(p=0.5),\n",
    "                            # A.RandomRotate90(p=0.5),\n",
    "                            # A.VerticalFlip(p=0.5),\n",
    "                            A.Normalize(mean=(0.485, 0.456, 0.406), std=(0.229, 0.224, 0.225), max_pixel_value=255.0, always_apply=False, p=1.0),\n",
    "                            ToTensorV2()\n",
    "                            ])\n",
    "val_transform = A.Compose([\n",
    "                            A.Resize(800,800),  # 약 4분의1 size로 crop\n",
    "                            A.RandomCrop(384,384),\n",
    "\n",
    "                            A.Normalize(mean=(0.485, 0.456, 0.406), std=(0.229, 0.224, 0.225), max_pixel_value=255.0, always_apply=False, p=1.0),\n",
    "                            ToTensorV2()\n",
    "                            ])\n",
    "\n",
    "test_transform = A.Compose([\n",
    "                            A.Resize(CFG['IMG_SIZE'],CFG['IMG_SIZE']),  # test와 val transform 분리\n",
    "                            A.Normalize(mean=(0.485, 0.456, 0.406), std=(0.229, 0.224, 0.225), max_pixel_value=255.0, always_apply=False, p=1.0),\n",
    "                            ToTensorV2()\n",
    "                            ])"
   ]
  },
  {
   "cell_type": "markdown",
   "metadata": {},
   "source": [
    "## cutmix"
   ]
  },
  {
   "cell_type": "code",
   "execution_count": 16,
   "metadata": {},
   "outputs": [],
   "source": [
    "def cutmix(batch, alpha=1.0):\n",
    "    '''\n",
    "    alpha 값을 1.0으로 설정하여 beta 분포가 uniform 분포가 되도록 함으로써, \n",
    "    두 이미지를 랜덤하게 combine하는 Cutmix\n",
    "    '''\n",
    "    data, targets = batch\n",
    "    indices = torch.randperm(data.size(0))\n",
    "    shuffled_data = data[indices]\n",
    "    shuffled_targets = targets[indices]\n",
    "    lam = np.random.beta(alpha, alpha)\n",
    "\n",
    "    image_h, image_w = data.shape[2:]\n",
    "    cx = np.random.uniform(0, image_w)\n",
    "    cy = np.random.uniform(0, image_h)\n",
    "    w = image_w * np.sqrt(1 - lam)\n",
    "    h = image_h * np.sqrt(1 - lam)\n",
    "    x0 = int(np.round(max(cx - w / 2, 0)))\n",
    "    x1 = int(np.round(min(cx + w / 2, image_w)))\n",
    "    y0 = int(np.round(max(cy - h / 2, 0)))\n",
    "    y1 = int(np.round(min(cy + h / 2, image_h)))\n",
    "\n",
    "    data[:, :, y0:y1, x0:x1] = shuffled_data[:, :, y0:y1, x0:x1]\n",
    "    targets = (targets, shuffled_targets, lam)\n",
    "    \n",
    "    return data, targets\n",
    "\n",
    "\n",
    "class CutMixCollator:\n",
    "    def __init__(self, alpha):\n",
    "        self.alpha = alpha\n",
    "\n",
    "    def __call__(self, batch):\n",
    "        batch = torch.utils.data.dataloader.default_collate(batch)\n",
    "        batch = cutmix(batch, self.alpha)\n",
    "        return batch\n",
    "\n",
    "\n",
    "class CutMixCriterion:\n",
    "    def __init__(self):\n",
    "        self.criterion = nn.CrossEntropyLoss().to(device)\n",
    "\n",
    "    def __call__(self, preds, targets):\n",
    "        targets1, targets2, lam = targets\n",
    "        return lam * self.criterion(\n",
    "            preds, targets1) + (1 - lam) * self.criterion(preds, targets2)"
   ]
  },
  {
   "cell_type": "code",
   "execution_count": 17,
   "metadata": {},
   "outputs": [],
   "source": [
    "collator = CutMixCollator(alpha=1.0)"
   ]
  },
  {
   "cell_type": "code",
   "execution_count": null,
   "metadata": {
    "id": "eDaz0ifbqG_q"
   },
   "outputs": [],
   "source": [
    "train_dataset = CustomDataset(train_img_paths, train_labels, train_transform)\n",
    "train_loader = DataLoader(train_dataset, batch_size = CFG['BATCH_SIZE'], shuffle=True, num_workers=multiprocessing.cpu_count() // 2, collate_fn = collator)\n",
    "\n",
    "val_dataset = CustomDataset(val_img_paths, val_labels, val_transform)\n",
    "val_loader = DataLoader(val_dataset, batch_size=CFG['BATCH_SIZE'], shuffle=False, num_workers=multiprocessing.cpu_count() // 2)"
   ]
  },
  {
   "cell_type": "markdown",
   "metadata": {},
   "source": [
    "## Model Define"
   ]
  },
  {
   "cell_type": "code",
   "execution_count": 19,
   "metadata": {
    "id": "-JBr_PhqqHDK"
   },
   "outputs": [],
   "source": [
    "class BaseModel(nn.Module):\n",
    "    def __init__(self, num_classes=len(le.classes_)):\n",
    "        super(BaseModel, self).__init__()\n",
    "        self.backbone = tiny_vit_21m_384(pretrained=True) # backbone 모델을 tiny_vit384로 설정\n",
    "        self.classifier = nn.Linear(1000, num_classes)\n",
    "\n",
    "    def forward(self, x):\n",
    "        x = self.backbone(x)\n",
    "        x = self.classifier(x)\n",
    "        return x"
   ]
  },
  {
   "cell_type": "markdown",
   "metadata": {
    "id": "Dp82EFbVqdEx"
   },
   "source": [
    "## Train"
   ]
  },
  {
   "cell_type": "code",
   "execution_count": 20,
   "metadata": {},
   "outputs": [],
   "source": [
    "'''\n",
    "https://discuss.pytorch.org/t/changing-transforms-after-creating-a-dataset/64929/7 참고\n",
    "train과 val에 다른 transformation을 적용하기 위해, 다른 transformation이 적용된 2개의 dataset 생성 후,\n",
    "각 dataset에서 index 이용해, 하나에선 train, 나머지 하나에선 val dataset 생성\n",
    "'''\n",
    "train_transform_dataset = CustomDataset(all_img_paths, all_labels, train_transform)\n",
    "val_transform_dataset = CustomDataset(all_img_paths, all_labels, val_transform)\n",
    "\n",
    "test_df = pd.read_csv('test.csv')\n",
    "test_img_paths = get_data(test_df, infer=True)\n",
    "test_dataset = CustomDataset(test_img_paths, None, test_transform)\n",
    "test_loader = DataLoader(test_dataset, batch_size=CFG['BATCH_SIZE'], shuffle=False, num_workers=multiprocessing.cpu_count() // 2)\n",
    "\n",
    "def getDataloader(train_transform_dataset, val_transform_dataset, train_idx, valid_idx, batch_size, num_workers, collator):\n",
    "\n",
    "    # train_transform이 적용된 train_transform_dataset에서 train_idx에 해당하는 Subset 추출\n",
    "    train_set = torch.utils.data.Subset(train_transform_dataset,\n",
    "                                        indices=train_idx)\n",
    "    # val_transform이 적용된 val_transform_dataset에서 valid_idx에 해당하는 Subset 추출\n",
    "    val_set   = torch.utils.data.Subset(val_transform_dataset,\n",
    "                                        indices=valid_idx)\n",
    "    \n",
    "    # 추출된 Train Subset으로 DataLoader 생성\n",
    "    train_loader = DataLoader(train_dataset, \n",
    "                              batch_size = batch_size, \n",
    "                              shuffle=True, \n",
    "                              num_workers=num_workers, \n",
    "                              collate_fn = collator)\n",
    "    # 추출된 Valid Subset으로 DataLoader 생성\n",
    "    val_loader = DataLoader(val_dataset, \n",
    "                            batch_size= batch_size, \n",
    "                            shuffle=False, \n",
    "                            num_workers=num_workers)\n",
    "    \n",
    "    # 생성한 DataLoader 반환\n",
    "    return train_loader, val_loader\n",
    "\n",
    "def train_stratified_kfold(device):\n",
    "\n",
    "    \n",
    "    n_splits = 7  # 7 fold\n",
    "    skf = StratifiedKFold(n_splits=n_splits)\n",
    "    labels = train_df.artist.to_list()\n",
    "\n",
    "    train_criterion = CutMixCriterion()\n",
    "    val_criterion = nn.CrossEntropyLoss().to(device)\n",
    "    \n",
    "    patience = 10  # 10 epoch동안 성능 향상 없을 시, early stopping\n",
    "    oof_pred = None\n",
    "    \n",
    "    for i, (train_idx, valid_idx) in enumerate(skf.split(train_df.img_path.to_list(), labels)):\n",
    "        \n",
    "        num_workers=multiprocessing.cpu_count() // 2\n",
    "        train_loader, val_loader = getDataloader(train_transform_dataset, val_transform_dataset, train_idx, valid_idx, CFG['BATCH_SIZE'], num_workers, collator)\n",
    "            \n",
    "        model = BaseModel()\n",
    "        model.to(device)\n",
    "        \n",
    "        optimizer = torch.optim.Adam(params = model.parameters(), lr = 0)\n",
    "        scheduler = CosineAnnealingWarmUpRestarts(optimizer, T_0=10, T_mult=1, eta_max=0.001,  T_up=3, gamma=0.5)\n",
    "        \n",
    "        best_score = 0\n",
    "        best_model = None\n",
    "        counter = 0\n",
    "        \n",
    "        for epoch in range(1,CFG[\"EPOCHS\"]+1):\n",
    "            model.train()\n",
    "            train_loss = []\n",
    "            for img, label in tqdm(iter(train_loader)):\n",
    "                img = img.float().to(device)\n",
    "                targets1, targets2, lam = label  # cutmix 사용하기에 label split\n",
    "                label = (targets1.to(device), targets2.to(device), lam)\n",
    "\n",
    "                optimizer.zero_grad()\n",
    "\n",
    "                model_pred = model(img)\n",
    "\n",
    "                loss = train_criterion(model_pred, label)\n",
    "\n",
    "                loss.backward()\n",
    "                optimizer.step()\n",
    "\n",
    "                train_loss.append(loss.item())\n",
    "\n",
    "            tr_loss = np.mean(train_loss)\n",
    "\n",
    "            val_loss, val_score = validation(model, val_criterion, val_loader, device)\n",
    "\n",
    "            print(f'Epoch [{epoch}], Train Loss : [{tr_loss:.5f}] Val Loss : [{val_loss:.5f}] Val F1 Score : [{val_score:.5f}]')\n",
    "\n",
    "            if scheduler is not None:\n",
    "                scheduler.step()\n",
    "\n",
    "            if best_score < val_score:\n",
    "                best_model = model\n",
    "                best_score = val_score\n",
    "                counter=0\n",
    "                # 갱신 시마다  best model 저장 -> fold별 마지막 weight이 fold별 best weight\n",
    "                torch.save(model, f\"weights/fold{i}_{epoch:03}_f1score_{val_score:4.2%}.pt\")\n",
    "            else:\n",
    "                counter+=1\n",
    "                \n",
    "            if counter > patience:\n",
    "                print(\"Early Stopping...\")\n",
    "                break\n",
    "           \n",
    "        all_predictions = []\n",
    "        with torch.no_grad():\n",
    "            for images in test_loader:\n",
    "                \n",
    "                images = images.float().to(device)\n",
    "            \n",
    "                # Test Time Augmentation\n",
    "                pred = best_model(images) / 2  # 원본 이미지를 예측하고\n",
    "                pred += best_model(torch.flip(images, dims=(-1,))) / 2  # horizontal_flip으로 뒤집어 예측하여 누적\n",
    "                all_predictions.extend(pred.cpu().numpy())\n",
    "\n",
    "            fold_pred = np.array(all_predictions)\n",
    "\n",
    "        # OOF\n",
    "        if oof_pred is None:\n",
    "            oof_pred = fold_pred / n_splits\n",
    "        else:\n",
    "            oof_pred += fold_pred / n_splits\n",
    "        \n",
    "        \n",
    "        oof_pred_list = []\n",
    "        if i == n_splits-1:\n",
    "\n",
    "            # 제출용 csv 생성\n",
    "            oof_pred = torch.from_numpy(oof_pred)\n",
    "            oof_pred_ans = oof_pred.argmax(dim=-1)\n",
    "            oof_pred_ans = oof_pred_ans.detach().cpu().numpy().tolist()\n",
    "            preds = le.inverse_transform(oof_pred_ans)\n",
    "            submit = pd.read_csv('sample_submission.csv')\n",
    "            submit['artist'] = preds\n",
    "            save_answer_path = './output/stratified_7fold_tta_answer.csv'\n",
    "            submit.to_csv(save_answer_path, index=False)\n",
    "            \n",
    "            # ensemble을 위한 logit csv 생성\n",
    "            oof_pred = oof_pred.detach().cpu().numpy().tolist()\n",
    "            submit_logit = pd.read_csv('logit_sample_submission.csv')\n",
    "            submit_logit['artist'] = oof_pred\n",
    "            save_answer_path2 = './output/stratified_7fold_tta_logit.csv'\n",
    "            submit_logit.to_csv(save_answer_path2, index=False)\n",
    "            \n",
    "            \n",
    "            \n",
    "\n",
    "            print(f\"Inference Done! Inference result saved at {save_answer_path}\")"
   ]
  },
  {
   "cell_type": "code",
   "execution_count": 21,
   "metadata": {
    "id": "QkPaZ85FqHJh"
   },
   "outputs": [],
   "source": [
    "def competition_metric(true, pred):\n",
    "    return f1_score(true, pred, average=\"macro\")\n",
    "\n",
    "def validation(model, criterion, val_loader, device):\n",
    "    model.eval()\n",
    "    \n",
    "    model_preds = []\n",
    "    true_labels = []\n",
    "    \n",
    "    val_loss = []\n",
    "    \n",
    "    with torch.no_grad():\n",
    "        for img, label in tqdm(iter(val_loader)):\n",
    "            img, label = img.float().to(device), label.to(device)\n",
    "            \n",
    "            model_pred = model(img)\n",
    "            \n",
    "            loss = criterion(model_pred, label)\n",
    "            \n",
    "            val_loss.append(loss.item())\n",
    "            \n",
    "            model_preds += model_pred.argmax(1).detach().cpu().numpy().tolist()\n",
    "            true_labels += label.detach().cpu().numpy().tolist()\n",
    "        \n",
    "    val_f1 = competition_metric(true_labels, model_preds)\n",
    "    return np.mean(val_loss), val_f1\n",
    "\n",
    "# def validation_tta(model, criterion, val_loader, device):\n",
    "#     # 다 똑같은 조건에서 validation 시, tta를 한것과 하지 않은 것의 val f1 score 비교 위해 생성\n",
    "#     model.eval()\n",
    "    \n",
    "#     model_preds = []\n",
    "#     true_labels = []\n",
    "    \n",
    "#     val_loss = []\n",
    "    \n",
    "#     with torch.no_grad():\n",
    "#         for img, label in tqdm(iter(val_loader)):\n",
    "#             img, label = img.float().to(device), label.to(device)\n",
    "            \n",
    "#             # tta를 사용하여 validation\n",
    "#             model_pred = model(img) / 2 # 원본 이미지를 예측하고\n",
    "#             model_pred += model(torch.flip(img, dims=(-1,))) / 2 # horizontal_flip으로 뒤집어 예측 \n",
    "            \n",
    "# #             model_pred = model(img)\n",
    "            \n",
    "#             loss = criterion(model_pred, label)\n",
    "            \n",
    "#             val_loss.append(loss.item())\n",
    "            \n",
    "#             model_preds += model_pred.argmax(1).detach().cpu().numpy().tolist()\n",
    "#             true_labels += label.detach().cpu().numpy().tolist()\n",
    "        \n",
    "#     val_f1 = competition_metric(true_labels, model_preds)\n",
    "#     return np.mean(val_loss), val_f1"
   ]
  },
  {
   "cell_type": "code",
   "execution_count": 22,
   "metadata": {
    "id": "JUrcfAu0kbA4"
   },
   "outputs": [],
   "source": [
    "class CosineAnnealingWarmUpRestarts(lr_scheduler._LRScheduler):\n",
    "    def __init__(self, optimizer, T_0, T_mult=1, eta_max=0.1, T_up=0, gamma=1., last_epoch=-1):\n",
    "        if T_0 <= 0 or not isinstance(T_0, int):\n",
    "            raise ValueError(\"Expected positive integer T_0, but got {}\".format(T_0))\n",
    "        if T_mult < 1 or not isinstance(T_mult, int):\n",
    "            raise ValueError(\"Expected integer T_mult >= 1, but got {}\".format(T_mult))\n",
    "        if T_up < 0 or not isinstance(T_up, int):\n",
    "            raise ValueError(\"Expected positive integer T_up, but got {}\".format(T_up))\n",
    "        self.T_0 = T_0\n",
    "        self.T_mult = T_mult\n",
    "        self.base_eta_max = eta_max\n",
    "        self.eta_max = eta_max\n",
    "        self.T_up = T_up\n",
    "        self.T_i = T_0\n",
    "        self.gamma = gamma\n",
    "        self.cycle = 0\n",
    "        self.T_cur = last_epoch\n",
    "        super(CosineAnnealingWarmUpRestarts, self).__init__(optimizer, last_epoch)\n",
    "\n",
    "    def get_lr(self):\n",
    "        if self.T_cur == -1:\n",
    "            return self.base_lrs\n",
    "        elif self.T_cur < self.T_up:\n",
    "            return [(self.eta_max - base_lr) * self.T_cur / self.T_up + base_lr for base_lr in self.base_lrs]\n",
    "        else:\n",
    "            return [base_lr + (self.eta_max - base_lr) * (\n",
    "                        1 + math.cos(math.pi * (self.T_cur - self.T_up) / (self.T_i - self.T_up))) / 2\n",
    "                    for base_lr in self.base_lrs]\n",
    "\n",
    "    def step(self, epoch=None):\n",
    "        if epoch is None:\n",
    "            epoch = self.last_epoch + 1\n",
    "            self.T_cur = self.T_cur + 1\n",
    "            if self.T_cur >= self.T_i:\n",
    "                self.cycle += 1\n",
    "                self.T_cur = self.T_cur - self.T_i\n",
    "                self.T_i = (self.T_i - self.T_up) * self.T_mult + self.T_up\n",
    "        else:\n",
    "            if epoch >= self.T_0:\n",
    "                if self.T_mult == 1:\n",
    "                    self.T_cur = epoch % self.T_0\n",
    "                    self.cycle = epoch // self.T_0\n",
    "                else:\n",
    "                    n = int(math.log((epoch / self.T_0 * (self.T_mult - 1) + 1), self.T_mult))\n",
    "                    self.cycle = n\n",
    "                    self.T_cur = epoch - self.T_0 * (self.T_mult ** n - 1) / (self.T_mult - 1)\n",
    "                    self.T_i = self.T_0 * self.T_mult ** (n)\n",
    "            else:\n",
    "                self.T_i = self.T_0\n",
    "                self.T_cur = epoch\n",
    "\n",
    "        self.eta_max = self.base_eta_max * (self.gamma ** self.cycle)\n",
    "        self.last_epoch = math.floor(epoch)\n",
    "        for param_group, lr in zip(self.optimizer.param_groups, self.get_lr()):\n",
    "            param_group['lr'] = lr"
   ]
  },
  {
   "cell_type": "code",
   "execution_count": 23,
   "metadata": {},
   "outputs": [],
   "source": [
    "torch.cuda.empty_cache()"
   ]
  },
  {
   "cell_type": "markdown",
   "metadata": {},
   "source": [
    "## RUN!!"
   ]
  },
  {
   "cell_type": "code",
   "execution_count": 24,
   "metadata": {
    "colab": {
     "base_uri": "https://localhost:8080/",
     "height": 499
    },
    "id": "HMyX1NXnqHMg",
    "outputId": "a955fc4a-5a8d-4574-a5db-18bcc99343c5"
   },
   "outputs": [
    {
     "name": "stdout",
     "output_type": "stream",
     "text": [
      "LR SCALES: [1.0, 1.0, 1.0, 1.0, 1.0, 1.0, 1.0, 1.0, 1.0, 1.0, 1.0, 1.0]\n",
      "LR SCALES: [1.0, 1.0, 1.0, 1.0, 1.0, 1.0, 1.0, 1.0, 1.0, 1.0, 1.0, 1.0]\n"
     ]
    },
    {
     "name": "stderr",
     "output_type": "stream",
     "text": [
      "100%|██████████| 148/148 [01:26<00:00,  1.71it/s]\n",
      "100%|██████████| 37/37 [00:08<00:00,  4.60it/s]\n"
     ]
    },
    {
     "name": "stdout",
     "output_type": "stream",
     "text": [
      "Epoch [1], Train Loss : [4.19538] Val Loss : [4.18988] Val F1 Score : [0.01257]\n"
     ]
    },
    {
     "name": "stderr",
     "output_type": "stream",
     "text": [
      "100%|██████████| 148/148 [01:24<00:00,  1.74it/s]\n",
      "100%|██████████| 37/37 [00:08<00:00,  4.53it/s]\n"
     ]
    },
    {
     "name": "stdout",
     "output_type": "stream",
     "text": [
      "Epoch [2], Train Loss : [2.84494] Val Loss : [1.38183] Val F1 Score : [0.53077]\n"
     ]
    },
    {
     "name": "stderr",
     "output_type": "stream",
     "text": [
      "100%|██████████| 148/148 [01:24<00:00,  1.75it/s]\n",
      "100%|██████████| 37/37 [00:08<00:00,  4.44it/s]\n"
     ]
    },
    {
     "name": "stdout",
     "output_type": "stream",
     "text": [
      "Epoch [3], Train Loss : [2.32902] Val Loss : [1.18426] Val F1 Score : [0.60762]\n"
     ]
    },
    {
     "name": "stderr",
     "output_type": "stream",
     "text": [
      "100%|██████████| 148/148 [01:24<00:00,  1.75it/s]\n",
      "100%|██████████| 37/37 [00:07<00:00,  4.64it/s]"
     ]
    },
    {
     "name": "stdout",
     "output_type": "stream",
     "text": [
      "Epoch [4], Train Loss : [2.36861] Val Loss : [1.51649] Val F1 Score : [0.51940]\n"
     ]
    },
    {
     "name": "stderr",
     "output_type": "stream",
     "text": [
      "\n",
      "100%|██████████| 148/148 [01:24<00:00,  1.75it/s]\n",
      "100%|██████████| 37/37 [00:08<00:00,  4.61it/s]\n"
     ]
    },
    {
     "name": "stdout",
     "output_type": "stream",
     "text": [
      "Epoch [5], Train Loss : [2.19321] Val Loss : [1.21013] Val F1 Score : [0.61252]\n"
     ]
    },
    {
     "name": "stderr",
     "output_type": "stream",
     "text": [
      "100%|██████████| 148/148 [01:24<00:00,  1.75it/s]\n",
      "100%|██████████| 37/37 [00:07<00:00,  4.70it/s]"
     ]
    },
    {
     "name": "stdout",
     "output_type": "stream",
     "text": [
      "Epoch [6], Train Loss : [1.91936] Val Loss : [1.16168] Val F1 Score : [0.60612]\n"
     ]
    },
    {
     "name": "stderr",
     "output_type": "stream",
     "text": [
      "\n",
      "100%|██████████| 148/148 [01:24<00:00,  1.75it/s]\n",
      "100%|██████████| 37/37 [00:07<00:00,  4.72it/s]\n"
     ]
    },
    {
     "name": "stdout",
     "output_type": "stream",
     "text": [
      "Epoch [7], Train Loss : [1.70298] Val Loss : [0.79812] Val F1 Score : [0.69862]\n"
     ]
    },
    {
     "name": "stderr",
     "output_type": "stream",
     "text": [
      "100%|██████████| 148/148 [01:24<00:00,  1.75it/s]\n",
      "100%|██████████| 37/37 [00:08<00:00,  4.61it/s]\n"
     ]
    },
    {
     "name": "stdout",
     "output_type": "stream",
     "text": [
      "Epoch [8], Train Loss : [1.47309] Val Loss : [0.72302] Val F1 Score : [0.74316]\n"
     ]
    },
    {
     "name": "stderr",
     "output_type": "stream",
     "text": [
      "100%|██████████| 148/148 [01:24<00:00,  1.75it/s]\n",
      "100%|██████████| 37/37 [00:08<00:00,  4.37it/s]\n"
     ]
    },
    {
     "name": "stdout",
     "output_type": "stream",
     "text": [
      "Epoch [9], Train Loss : [1.36051] Val Loss : [0.64412] Val F1 Score : [0.77014]\n"
     ]
    },
    {
     "name": "stderr",
     "output_type": "stream",
     "text": [
      "100%|██████████| 148/148 [01:24<00:00,  1.75it/s]\n",
      "100%|██████████| 37/37 [00:08<00:00,  4.62it/s]\n"
     ]
    },
    {
     "name": "stdout",
     "output_type": "stream",
     "text": [
      "Epoch [10], Train Loss : [1.26324] Val Loss : [0.58836] Val F1 Score : [0.77611]\n"
     ]
    },
    {
     "name": "stderr",
     "output_type": "stream",
     "text": [
      "100%|██████████| 148/148 [01:24<00:00,  1.75it/s]\n",
      "100%|██████████| 37/37 [00:08<00:00,  4.58it/s]\n"
     ]
    },
    {
     "name": "stdout",
     "output_type": "stream",
     "text": [
      "Epoch [11], Train Loss : [1.27551] Val Loss : [0.57742] Val F1 Score : [0.79817]\n"
     ]
    },
    {
     "name": "stderr",
     "output_type": "stream",
     "text": [
      "100%|██████████| 148/148 [01:24<00:00,  1.75it/s]\n",
      "100%|██████████| 37/37 [00:07<00:00,  4.70it/s]"
     ]
    },
    {
     "name": "stdout",
     "output_type": "stream",
     "text": [
      "Epoch [12], Train Loss : [1.24297] Val Loss : [0.58594] Val F1 Score : [0.79172]\n"
     ]
    },
    {
     "name": "stderr",
     "output_type": "stream",
     "text": [
      "\n",
      "100%|██████████| 148/148 [01:24<00:00,  1.75it/s]\n",
      "100%|██████████| 37/37 [00:07<00:00,  4.70it/s]"
     ]
    },
    {
     "name": "stdout",
     "output_type": "stream",
     "text": [
      "Epoch [13], Train Loss : [1.34711] Val Loss : [0.63616] Val F1 Score : [0.77945]\n"
     ]
    },
    {
     "name": "stderr",
     "output_type": "stream",
     "text": [
      "\n",
      "100%|██████████| 148/148 [01:24<00:00,  1.75it/s]\n",
      "100%|██████████| 37/37 [00:08<00:00,  4.53it/s]"
     ]
    },
    {
     "name": "stdout",
     "output_type": "stream",
     "text": [
      "Epoch [14], Train Loss : [1.34452] Val Loss : [0.78592] Val F1 Score : [0.72264]\n"
     ]
    },
    {
     "name": "stderr",
     "output_type": "stream",
     "text": [
      "\n",
      "100%|██████████| 148/148 [01:24<00:00,  1.75it/s]\n",
      "100%|██████████| 37/37 [00:08<00:00,  4.60it/s]"
     ]
    },
    {
     "name": "stdout",
     "output_type": "stream",
     "text": [
      "Epoch [15], Train Loss : [1.41446] Val Loss : [0.66412] Val F1 Score : [0.76286]\n"
     ]
    },
    {
     "name": "stderr",
     "output_type": "stream",
     "text": [
      "\n",
      "100%|██████████| 148/148 [01:24<00:00,  1.75it/s]\n",
      "100%|██████████| 37/37 [00:08<00:00,  4.51it/s]"
     ]
    },
    {
     "name": "stdout",
     "output_type": "stream",
     "text": [
      "Epoch [16], Train Loss : [1.27133] Val Loss : [0.60559] Val F1 Score : [0.76837]\n"
     ]
    },
    {
     "name": "stderr",
     "output_type": "stream",
     "text": [
      "\n",
      "100%|██████████| 148/148 [01:24<00:00,  1.75it/s]\n",
      "100%|██████████| 37/37 [00:08<00:00,  4.58it/s]\n"
     ]
    },
    {
     "name": "stdout",
     "output_type": "stream",
     "text": [
      "Epoch [17], Train Loss : [1.29488] Val Loss : [0.56885] Val F1 Score : [0.79856]\n"
     ]
    },
    {
     "name": "stderr",
     "output_type": "stream",
     "text": [
      "100%|██████████| 148/148 [01:24<00:00,  1.75it/s]\n",
      "100%|██████████| 37/37 [00:08<00:00,  4.57it/s]\n"
     ]
    },
    {
     "name": "stdout",
     "output_type": "stream",
     "text": [
      "Epoch [18], Train Loss : [1.18762] Val Loss : [0.54821] Val F1 Score : [0.81217]\n"
     ]
    },
    {
     "name": "stderr",
     "output_type": "stream",
     "text": [
      "100%|██████████| 148/148 [01:24<00:00,  1.75it/s]\n",
      "100%|██████████| 37/37 [00:07<00:00,  4.65it/s]\n"
     ]
    },
    {
     "name": "stdout",
     "output_type": "stream",
     "text": [
      "Epoch [19], Train Loss : [1.13236] Val Loss : [0.50288] Val F1 Score : [0.81343]\n"
     ]
    },
    {
     "name": "stderr",
     "output_type": "stream",
     "text": [
      "100%|██████████| 148/148 [01:24<00:00,  1.75it/s]\n",
      "100%|██████████| 37/37 [00:07<00:00,  4.63it/s]\n"
     ]
    },
    {
     "name": "stdout",
     "output_type": "stream",
     "text": [
      "Epoch [20], Train Loss : [1.03712] Val Loss : [0.50736] Val F1 Score : [0.81666]\n"
     ]
    },
    {
     "name": "stderr",
     "output_type": "stream",
     "text": [
      "100%|██████████| 148/148 [01:24<00:00,  1.75it/s]\n",
      "100%|██████████| 37/37 [00:08<00:00,  4.48it/s]"
     ]
    },
    {
     "name": "stdout",
     "output_type": "stream",
     "text": [
      "Epoch [21], Train Loss : [1.03739] Val Loss : [0.52205] Val F1 Score : [0.81399]\n"
     ]
    },
    {
     "name": "stderr",
     "output_type": "stream",
     "text": [
      "\n",
      "100%|██████████| 148/148 [01:24<00:00,  1.74it/s]\n",
      "100%|██████████| 37/37 [00:08<00:00,  4.43it/s]\n"
     ]
    },
    {
     "name": "stdout",
     "output_type": "stream",
     "text": [
      "Epoch [22], Train Loss : [1.05636] Val Loss : [0.49876] Val F1 Score : [0.82444]\n"
     ]
    },
    {
     "name": "stderr",
     "output_type": "stream",
     "text": [
      "100%|██████████| 148/148 [01:24<00:00,  1.75it/s]\n",
      "100%|██████████| 37/37 [00:07<00:00,  4.67it/s]"
     ]
    },
    {
     "name": "stdout",
     "output_type": "stream",
     "text": [
      "Epoch [23], Train Loss : [1.10308] Val Loss : [0.52629] Val F1 Score : [0.79392]\n"
     ]
    },
    {
     "name": "stderr",
     "output_type": "stream",
     "text": [
      "\n",
      "100%|██████████| 148/148 [01:24<00:00,  1.75it/s]\n",
      "100%|██████████| 37/37 [00:07<00:00,  4.72it/s]"
     ]
    },
    {
     "name": "stdout",
     "output_type": "stream",
     "text": [
      "Epoch [24], Train Loss : [1.06510] Val Loss : [0.53896] Val F1 Score : [0.80823]\n"
     ]
    },
    {
     "name": "stderr",
     "output_type": "stream",
     "text": [
      "\n",
      "100%|██████████| 148/148 [01:24<00:00,  1.75it/s]\n",
      "100%|██████████| 37/37 [00:07<00:00,  4.64it/s]"
     ]
    },
    {
     "name": "stdout",
     "output_type": "stream",
     "text": [
      "Epoch [25], Train Loss : [1.02907] Val Loss : [0.53601] Val F1 Score : [0.79418]\n"
     ]
    },
    {
     "name": "stderr",
     "output_type": "stream",
     "text": [
      "\n",
      "100%|██████████| 148/148 [01:24<00:00,  1.75it/s]\n",
      "100%|██████████| 37/37 [00:08<00:00,  4.56it/s]"
     ]
    },
    {
     "name": "stdout",
     "output_type": "stream",
     "text": [
      "Epoch [26], Train Loss : [1.10456] Val Loss : [0.53280] Val F1 Score : [0.82037]\n"
     ]
    },
    {
     "name": "stderr",
     "output_type": "stream",
     "text": [
      "\n",
      "100%|██████████| 148/148 [01:24<00:00,  1.75it/s]\n",
      "100%|██████████| 37/37 [00:07<00:00,  4.68it/s]"
     ]
    },
    {
     "name": "stdout",
     "output_type": "stream",
     "text": [
      "Epoch [27], Train Loss : [1.04466] Val Loss : [0.53287] Val F1 Score : [0.82231]\n"
     ]
    },
    {
     "name": "stderr",
     "output_type": "stream",
     "text": [
      "\n",
      "100%|██████████| 148/148 [01:24<00:00,  1.75it/s]\n",
      "100%|██████████| 37/37 [00:07<00:00,  4.69it/s]\n"
     ]
    },
    {
     "name": "stdout",
     "output_type": "stream",
     "text": [
      "Epoch [28], Train Loss : [0.97643] Val Loss : [0.52209] Val F1 Score : [0.82505]\n"
     ]
    },
    {
     "name": "stderr",
     "output_type": "stream",
     "text": [
      "100%|██████████| 148/148 [01:24<00:00,  1.75it/s]\n",
      "100%|██████████| 37/37 [00:07<00:00,  4.69it/s]\n"
     ]
    },
    {
     "name": "stdout",
     "output_type": "stream",
     "text": [
      "Epoch [29], Train Loss : [0.95088] Val Loss : [0.45600] Val F1 Score : [0.83627]\n"
     ]
    },
    {
     "name": "stderr",
     "output_type": "stream",
     "text": [
      "100%|██████████| 148/148 [01:24<00:00,  1.74it/s]\n",
      "100%|██████████| 37/37 [00:08<00:00,  4.50it/s]"
     ]
    },
    {
     "name": "stdout",
     "output_type": "stream",
     "text": [
      "Epoch [30], Train Loss : [0.94342] Val Loss : [0.46260] Val F1 Score : [0.82625]\n"
     ]
    },
    {
     "name": "stderr",
     "output_type": "stream",
     "text": [
      "\n",
      "100%|██████████| 148/148 [01:24<00:00,  1.75it/s]\n",
      "100%|██████████| 37/37 [00:07<00:00,  4.68it/s]\n"
     ]
    },
    {
     "name": "stdout",
     "output_type": "stream",
     "text": [
      "Epoch [31], Train Loss : [0.97380] Val Loss : [0.46420] Val F1 Score : [0.84576]\n"
     ]
    },
    {
     "name": "stderr",
     "output_type": "stream",
     "text": [
      "100%|██████████| 148/148 [01:24<00:00,  1.75it/s]\n",
      "100%|██████████| 37/37 [00:08<00:00,  4.58it/s]"
     ]
    },
    {
     "name": "stdout",
     "output_type": "stream",
     "text": [
      "Epoch [32], Train Loss : [0.93330] Val Loss : [0.48118] Val F1 Score : [0.83864]\n"
     ]
    },
    {
     "name": "stderr",
     "output_type": "stream",
     "text": [
      "\n",
      "100%|██████████| 148/148 [01:24<00:00,  1.75it/s]\n",
      "100%|██████████| 37/37 [00:08<00:00,  4.36it/s]"
     ]
    },
    {
     "name": "stdout",
     "output_type": "stream",
     "text": [
      "Epoch [33], Train Loss : [0.92368] Val Loss : [0.44396] Val F1 Score : [0.83062]\n"
     ]
    },
    {
     "name": "stderr",
     "output_type": "stream",
     "text": [
      "\n",
      "100%|██████████| 148/148 [01:24<00:00,  1.75it/s]\n",
      "100%|██████████| 37/37 [00:07<00:00,  4.68it/s]"
     ]
    },
    {
     "name": "stdout",
     "output_type": "stream",
     "text": [
      "Epoch [34], Train Loss : [0.94622] Val Loss : [0.46646] Val F1 Score : [0.83500]\n"
     ]
    },
    {
     "name": "stderr",
     "output_type": "stream",
     "text": [
      "\n",
      "100%|██████████| 148/148 [01:24<00:00,  1.74it/s]\n",
      "100%|██████████| 37/37 [00:08<00:00,  4.50it/s]"
     ]
    },
    {
     "name": "stdout",
     "output_type": "stream",
     "text": [
      "Epoch [35], Train Loss : [0.94244] Val Loss : [0.48324] Val F1 Score : [0.82323]\n"
     ]
    },
    {
     "name": "stderr",
     "output_type": "stream",
     "text": [
      "\n",
      "100%|██████████| 148/148 [01:24<00:00,  1.75it/s]\n",
      "100%|██████████| 37/37 [00:08<00:00,  4.60it/s]"
     ]
    },
    {
     "name": "stdout",
     "output_type": "stream",
     "text": [
      "Epoch [36], Train Loss : [0.90423] Val Loss : [0.44603] Val F1 Score : [0.84347]\n"
     ]
    },
    {
     "name": "stderr",
     "output_type": "stream",
     "text": [
      "\n",
      "100%|██████████| 148/148 [01:24<00:00,  1.75it/s]\n",
      "100%|██████████| 37/37 [00:08<00:00,  4.62it/s]"
     ]
    },
    {
     "name": "stdout",
     "output_type": "stream",
     "text": [
      "Epoch [37], Train Loss : [0.97040] Val Loss : [0.48309] Val F1 Score : [0.82232]\n"
     ]
    },
    {
     "name": "stderr",
     "output_type": "stream",
     "text": [
      "\n",
      "100%|██████████| 148/148 [01:24<00:00,  1.75it/s]\n",
      "100%|██████████| 37/37 [00:07<00:00,  4.65it/s]"
     ]
    },
    {
     "name": "stdout",
     "output_type": "stream",
     "text": [
      "Epoch [38], Train Loss : [0.89837] Val Loss : [0.44318] Val F1 Score : [0.83027]\n"
     ]
    },
    {
     "name": "stderr",
     "output_type": "stream",
     "text": [
      "\n",
      "100%|██████████| 148/148 [01:24<00:00,  1.75it/s]\n",
      "100%|██████████| 37/37 [00:08<00:00,  4.43it/s]"
     ]
    },
    {
     "name": "stdout",
     "output_type": "stream",
     "text": [
      "Epoch [39], Train Loss : [0.91955] Val Loss : [0.48883] Val F1 Score : [0.83256]\n"
     ]
    },
    {
     "name": "stderr",
     "output_type": "stream",
     "text": [
      "\n",
      "100%|██████████| 148/148 [01:24<00:00,  1.75it/s]\n",
      "100%|██████████| 37/37 [00:07<00:00,  4.71it/s]"
     ]
    },
    {
     "name": "stdout",
     "output_type": "stream",
     "text": [
      "Epoch [40], Train Loss : [0.88374] Val Loss : [0.45018] Val F1 Score : [0.84153]\n"
     ]
    },
    {
     "name": "stderr",
     "output_type": "stream",
     "text": [
      "\n",
      "100%|██████████| 148/148 [01:24<00:00,  1.75it/s]\n",
      "100%|██████████| 37/37 [00:07<00:00,  4.71it/s]\n"
     ]
    },
    {
     "name": "stdout",
     "output_type": "stream",
     "text": [
      "Epoch [41], Train Loss : [0.86612] Val Loss : [0.44782] Val F1 Score : [0.85279]\n"
     ]
    },
    {
     "name": "stderr",
     "output_type": "stream",
     "text": [
      "100%|██████████| 148/148 [01:24<00:00,  1.75it/s]\n",
      "100%|██████████| 37/37 [00:08<00:00,  4.47it/s]"
     ]
    },
    {
     "name": "stdout",
     "output_type": "stream",
     "text": [
      "Epoch [42], Train Loss : [0.88873] Val Loss : [0.43058] Val F1 Score : [0.83885]\n"
     ]
    },
    {
     "name": "stderr",
     "output_type": "stream",
     "text": [
      "\n",
      "100%|██████████| 148/148 [01:24<00:00,  1.75it/s]\n",
      "100%|██████████| 37/37 [00:07<00:00,  4.67it/s]"
     ]
    },
    {
     "name": "stdout",
     "output_type": "stream",
     "text": [
      "Epoch [43], Train Loss : [0.92489] Val Loss : [0.44659] Val F1 Score : [0.83840]\n"
     ]
    },
    {
     "name": "stderr",
     "output_type": "stream",
     "text": [
      "\n",
      "100%|██████████| 148/148 [01:24<00:00,  1.75it/s]\n",
      "100%|██████████| 37/37 [00:08<00:00,  4.55it/s]"
     ]
    },
    {
     "name": "stdout",
     "output_type": "stream",
     "text": [
      "Epoch [44], Train Loss : [0.90039] Val Loss : [0.45740] Val F1 Score : [0.82957]\n"
     ]
    },
    {
     "name": "stderr",
     "output_type": "stream",
     "text": [
      "\n",
      "100%|██████████| 148/148 [01:24<00:00,  1.75it/s]\n",
      "100%|██████████| 37/37 [00:08<00:00,  4.45it/s]"
     ]
    },
    {
     "name": "stdout",
     "output_type": "stream",
     "text": [
      "Epoch [45], Train Loss : [0.89838] Val Loss : [0.44788] Val F1 Score : [0.83622]\n"
     ]
    },
    {
     "name": "stderr",
     "output_type": "stream",
     "text": [
      "\n",
      "100%|██████████| 148/148 [01:24<00:00,  1.75it/s]\n",
      "100%|██████████| 37/37 [00:08<00:00,  4.52it/s]"
     ]
    },
    {
     "name": "stdout",
     "output_type": "stream",
     "text": [
      "Epoch [46], Train Loss : [0.88086] Val Loss : [0.46446] Val F1 Score : [0.84727]\n"
     ]
    },
    {
     "name": "stderr",
     "output_type": "stream",
     "text": [
      "\n",
      "100%|██████████| 148/148 [01:24<00:00,  1.75it/s]\n",
      "100%|██████████| 37/37 [00:08<00:00,  4.51it/s]"
     ]
    },
    {
     "name": "stdout",
     "output_type": "stream",
     "text": [
      "Epoch [47], Train Loss : [0.82101] Val Loss : [0.43946] Val F1 Score : [0.83955]\n"
     ]
    },
    {
     "name": "stderr",
     "output_type": "stream",
     "text": [
      "\n",
      "100%|██████████| 148/148 [01:24<00:00,  1.75it/s]\n",
      "100%|██████████| 37/37 [00:08<00:00,  4.55it/s]"
     ]
    },
    {
     "name": "stdout",
     "output_type": "stream",
     "text": [
      "Epoch [48], Train Loss : [0.79546] Val Loss : [0.45905] Val F1 Score : [0.81755]\n"
     ]
    },
    {
     "name": "stderr",
     "output_type": "stream",
     "text": [
      "\n",
      "100%|██████████| 148/148 [01:24<00:00,  1.75it/s]\n",
      "100%|██████████| 37/37 [00:07<00:00,  4.67it/s]"
     ]
    },
    {
     "name": "stdout",
     "output_type": "stream",
     "text": [
      "Epoch [49], Train Loss : [0.87401] Val Loss : [0.43955] Val F1 Score : [0.83598]\n"
     ]
    },
    {
     "name": "stderr",
     "output_type": "stream",
     "text": [
      "\n",
      "100%|██████████| 148/148 [01:24<00:00,  1.75it/s]\n",
      "100%|██████████| 37/37 [00:08<00:00,  4.47it/s]"
     ]
    },
    {
     "name": "stdout",
     "output_type": "stream",
     "text": [
      "Epoch [50], Train Loss : [0.88701] Val Loss : [0.46407] Val F1 Score : [0.83292]\n"
     ]
    },
    {
     "name": "stderr",
     "output_type": "stream",
     "text": [
      "\n"
     ]
    },
    {
     "name": "stdout",
     "output_type": "stream",
     "text": [
      "LR SCALES: [1.0, 1.0, 1.0, 1.0, 1.0, 1.0, 1.0, 1.0, 1.0, 1.0, 1.0, 1.0]\n"
     ]
    },
    {
     "name": "stderr",
     "output_type": "stream",
     "text": [
      "100%|██████████| 148/148 [01:24<00:00,  1.75it/s]\n",
      "100%|██████████| 37/37 [00:08<00:00,  4.52it/s]\n"
     ]
    },
    {
     "name": "stdout",
     "output_type": "stream",
     "text": [
      "Epoch [1], Train Loss : [4.19859] Val Loss : [4.20006] Val F1 Score : [0.01364]\n"
     ]
    },
    {
     "name": "stderr",
     "output_type": "stream",
     "text": [
      "100%|██████████| 148/148 [01:24<00:00,  1.75it/s]\n",
      "100%|██████████| 37/37 [00:07<00:00,  4.66it/s]\n"
     ]
    },
    {
     "name": "stdout",
     "output_type": "stream",
     "text": [
      "Epoch [2], Train Loss : [2.81587] Val Loss : [1.43373] Val F1 Score : [0.51733]\n"
     ]
    },
    {
     "name": "stderr",
     "output_type": "stream",
     "text": [
      "100%|██████████| 148/148 [01:24<00:00,  1.74it/s]\n",
      "100%|██████████| 37/37 [00:08<00:00,  4.53it/s]\n"
     ]
    },
    {
     "name": "stdout",
     "output_type": "stream",
     "text": [
      "Epoch [3], Train Loss : [2.35985] Val Loss : [1.33120] Val F1 Score : [0.54457]\n"
     ]
    },
    {
     "name": "stderr",
     "output_type": "stream",
     "text": [
      "100%|██████████| 148/148 [01:24<00:00,  1.74it/s]\n",
      "100%|██████████| 37/37 [00:08<00:00,  4.55it/s]\n"
     ]
    },
    {
     "name": "stdout",
     "output_type": "stream",
     "text": [
      "Epoch [4], Train Loss : [2.29770] Val Loss : [1.46476] Val F1 Score : [0.54703]\n"
     ]
    },
    {
     "name": "stderr",
     "output_type": "stream",
     "text": [
      "100%|██████████| 148/148 [01:24<00:00,  1.75it/s]\n",
      "100%|██████████| 37/37 [00:08<00:00,  4.54it/s]\n"
     ]
    },
    {
     "name": "stdout",
     "output_type": "stream",
     "text": [
      "Epoch [5], Train Loss : [2.09265] Val Loss : [1.12709] Val F1 Score : [0.63482]\n"
     ]
    },
    {
     "name": "stderr",
     "output_type": "stream",
     "text": [
      "100%|██████████| 148/148 [01:24<00:00,  1.75it/s]\n",
      "100%|██████████| 37/37 [00:07<00:00,  4.70it/s]\n"
     ]
    },
    {
     "name": "stdout",
     "output_type": "stream",
     "text": [
      "Epoch [6], Train Loss : [1.93095] Val Loss : [1.04400] Val F1 Score : [0.64917]\n"
     ]
    },
    {
     "name": "stderr",
     "output_type": "stream",
     "text": [
      "100%|██████████| 148/148 [01:24<00:00,  1.75it/s]\n",
      "100%|██████████| 37/37 [00:08<00:00,  4.52it/s]\n"
     ]
    },
    {
     "name": "stdout",
     "output_type": "stream",
     "text": [
      "Epoch [7], Train Loss : [1.69991] Val Loss : [0.90067] Val F1 Score : [0.69167]\n"
     ]
    },
    {
     "name": "stderr",
     "output_type": "stream",
     "text": [
      "100%|██████████| 148/148 [01:24<00:00,  1.75it/s]\n",
      "100%|██████████| 37/37 [00:08<00:00,  4.53it/s]\n"
     ]
    },
    {
     "name": "stdout",
     "output_type": "stream",
     "text": [
      "Epoch [8], Train Loss : [1.47876] Val Loss : [0.70656] Val F1 Score : [0.74204]\n"
     ]
    },
    {
     "name": "stderr",
     "output_type": "stream",
     "text": [
      "100%|██████████| 148/148 [01:24<00:00,  1.75it/s]\n",
      "100%|██████████| 37/37 [00:08<00:00,  4.56it/s]\n"
     ]
    },
    {
     "name": "stdout",
     "output_type": "stream",
     "text": [
      "Epoch [9], Train Loss : [1.34725] Val Loss : [0.61457] Val F1 Score : [0.78038]\n"
     ]
    },
    {
     "name": "stderr",
     "output_type": "stream",
     "text": [
      "100%|██████████| 148/148 [01:24<00:00,  1.75it/s]\n",
      "100%|██████████| 37/37 [00:07<00:00,  4.67it/s]\n"
     ]
    },
    {
     "name": "stdout",
     "output_type": "stream",
     "text": [
      "Epoch [10], Train Loss : [1.23826] Val Loss : [0.58635] Val F1 Score : [0.78941]\n"
     ]
    },
    {
     "name": "stderr",
     "output_type": "stream",
     "text": [
      "100%|██████████| 148/148 [01:24<00:00,  1.74it/s]\n",
      "100%|██████████| 37/37 [00:07<00:00,  4.73it/s]\n"
     ]
    },
    {
     "name": "stdout",
     "output_type": "stream",
     "text": [
      "Epoch [11], Train Loss : [1.20949] Val Loss : [0.58477] Val F1 Score : [0.79124]\n"
     ]
    },
    {
     "name": "stderr",
     "output_type": "stream",
     "text": [
      "100%|██████████| 148/148 [01:24<00:00,  1.75it/s]\n",
      "100%|██████████| 37/37 [00:08<00:00,  4.54it/s]"
     ]
    },
    {
     "name": "stdout",
     "output_type": "stream",
     "text": [
      "Epoch [12], Train Loss : [1.24057] Val Loss : [0.61843] Val F1 Score : [0.77399]\n"
     ]
    },
    {
     "name": "stderr",
     "output_type": "stream",
     "text": [
      "\n",
      "100%|██████████| 148/148 [01:24<00:00,  1.75it/s]\n",
      "100%|██████████| 37/37 [00:08<00:00,  4.58it/s]"
     ]
    },
    {
     "name": "stdout",
     "output_type": "stream",
     "text": [
      "Epoch [13], Train Loss : [1.28159] Val Loss : [0.66960] Val F1 Score : [0.76294]\n"
     ]
    },
    {
     "name": "stderr",
     "output_type": "stream",
     "text": [
      "\n",
      "100%|██████████| 148/148 [01:25<00:00,  1.74it/s]\n",
      "100%|██████████| 37/37 [00:08<00:00,  4.51it/s]"
     ]
    },
    {
     "name": "stdout",
     "output_type": "stream",
     "text": [
      "Epoch [14], Train Loss : [1.41891] Val Loss : [0.75898] Val F1 Score : [0.73588]\n"
     ]
    },
    {
     "name": "stderr",
     "output_type": "stream",
     "text": [
      "\n",
      "100%|██████████| 148/148 [01:24<00:00,  1.75it/s]\n",
      "100%|██████████| 37/37 [00:08<00:00,  4.48it/s]"
     ]
    },
    {
     "name": "stdout",
     "output_type": "stream",
     "text": [
      "Epoch [15], Train Loss : [1.38424] Val Loss : [0.76478] Val F1 Score : [0.74382]\n"
     ]
    },
    {
     "name": "stderr",
     "output_type": "stream",
     "text": [
      "\n",
      "100%|██████████| 148/148 [01:24<00:00,  1.75it/s]\n",
      "100%|██████████| 37/37 [00:08<00:00,  4.54it/s]"
     ]
    },
    {
     "name": "stdout",
     "output_type": "stream",
     "text": [
      "Epoch [16], Train Loss : [1.31773] Val Loss : [0.63613] Val F1 Score : [0.76076]\n"
     ]
    },
    {
     "name": "stderr",
     "output_type": "stream",
     "text": [
      "\n",
      "100%|██████████| 148/148 [01:24<00:00,  1.75it/s]\n",
      "100%|██████████| 37/37 [00:07<00:00,  4.65it/s]"
     ]
    },
    {
     "name": "stdout",
     "output_type": "stream",
     "text": [
      "Epoch [17], Train Loss : [1.23629] Val Loss : [0.64032] Val F1 Score : [0.78904]\n"
     ]
    },
    {
     "name": "stderr",
     "output_type": "stream",
     "text": [
      "\n",
      "100%|██████████| 148/148 [01:24<00:00,  1.75it/s]\n",
      "100%|██████████| 37/37 [00:07<00:00,  4.68it/s]"
     ]
    },
    {
     "name": "stdout",
     "output_type": "stream",
     "text": [
      "Epoch [18], Train Loss : [1.11466] Val Loss : [0.56167] Val F1 Score : [0.78675]\n"
     ]
    },
    {
     "name": "stderr",
     "output_type": "stream",
     "text": [
      "\n",
      "100%|██████████| 148/148 [01:24<00:00,  1.75it/s]\n",
      "100%|██████████| 37/37 [00:07<00:00,  4.67it/s]\n"
     ]
    },
    {
     "name": "stdout",
     "output_type": "stream",
     "text": [
      "Epoch [19], Train Loss : [1.10439] Val Loss : [0.50217] Val F1 Score : [0.81397]\n"
     ]
    },
    {
     "name": "stderr",
     "output_type": "stream",
     "text": [
      "100%|██████████| 148/148 [01:24<00:00,  1.75it/s]\n",
      "100%|██████████| 37/37 [00:08<00:00,  4.58it/s]\n"
     ]
    },
    {
     "name": "stdout",
     "output_type": "stream",
     "text": [
      "Epoch [20], Train Loss : [1.04252] Val Loss : [0.50390] Val F1 Score : [0.82129]\n"
     ]
    },
    {
     "name": "stderr",
     "output_type": "stream",
     "text": [
      "100%|██████████| 148/148 [01:24<00:00,  1.75it/s]\n",
      "100%|██████████| 37/37 [00:07<00:00,  4.68it/s]"
     ]
    },
    {
     "name": "stdout",
     "output_type": "stream",
     "text": [
      "Epoch [21], Train Loss : [1.05147] Val Loss : [0.52297] Val F1 Score : [0.80623]\n"
     ]
    },
    {
     "name": "stderr",
     "output_type": "stream",
     "text": [
      "\n",
      "100%|██████████| 148/148 [01:24<00:00,  1.74it/s]\n",
      "100%|██████████| 37/37 [00:07<00:00,  4.67it/s]"
     ]
    },
    {
     "name": "stdout",
     "output_type": "stream",
     "text": [
      "Epoch [22], Train Loss : [1.03005] Val Loss : [0.53873] Val F1 Score : [0.80720]\n"
     ]
    },
    {
     "name": "stderr",
     "output_type": "stream",
     "text": [
      "\n",
      "100%|██████████| 148/148 [01:24<00:00,  1.75it/s]\n",
      "100%|██████████| 37/37 [00:08<00:00,  4.39it/s]"
     ]
    },
    {
     "name": "stdout",
     "output_type": "stream",
     "text": [
      "Epoch [23], Train Loss : [1.06619] Val Loss : [0.53142] Val F1 Score : [0.80894]\n"
     ]
    },
    {
     "name": "stderr",
     "output_type": "stream",
     "text": [
      "\n",
      "100%|██████████| 148/148 [01:24<00:00,  1.75it/s]\n",
      "100%|██████████| 37/37 [00:07<00:00,  4.71it/s]"
     ]
    },
    {
     "name": "stdout",
     "output_type": "stream",
     "text": [
      "Epoch [24], Train Loss : [1.08016] Val Loss : [0.54860] Val F1 Score : [0.80973]\n"
     ]
    },
    {
     "name": "stderr",
     "output_type": "stream",
     "text": [
      "\n",
      "100%|██████████| 148/148 [01:24<00:00,  1.75it/s]\n",
      "100%|██████████| 37/37 [00:07<00:00,  4.66it/s]"
     ]
    },
    {
     "name": "stdout",
     "output_type": "stream",
     "text": [
      "Epoch [25], Train Loss : [1.04884] Val Loss : [0.56080] Val F1 Score : [0.80134]\n"
     ]
    },
    {
     "name": "stderr",
     "output_type": "stream",
     "text": [
      "\n",
      "100%|██████████| 148/148 [01:24<00:00,  1.75it/s]\n",
      "100%|██████████| 37/37 [00:07<00:00,  4.65it/s]"
     ]
    },
    {
     "name": "stdout",
     "output_type": "stream",
     "text": [
      "Epoch [26], Train Loss : [1.04193] Val Loss : [0.52466] Val F1 Score : [0.80502]\n"
     ]
    },
    {
     "name": "stderr",
     "output_type": "stream",
     "text": [
      "\n",
      "100%|██████████| 148/148 [01:24<00:00,  1.75it/s]\n",
      "100%|██████████| 37/37 [00:07<00:00,  4.69it/s]\n"
     ]
    },
    {
     "name": "stdout",
     "output_type": "stream",
     "text": [
      "Epoch [27], Train Loss : [1.02463] Val Loss : [0.50147] Val F1 Score : [0.82468]\n"
     ]
    },
    {
     "name": "stderr",
     "output_type": "stream",
     "text": [
      "100%|██████████| 148/148 [01:24<00:00,  1.75it/s]\n",
      "100%|██████████| 37/37 [00:07<00:00,  4.68it/s]\n"
     ]
    },
    {
     "name": "stdout",
     "output_type": "stream",
     "text": [
      "Epoch [28], Train Loss : [0.93685] Val Loss : [0.49861] Val F1 Score : [0.82530]\n"
     ]
    },
    {
     "name": "stderr",
     "output_type": "stream",
     "text": [
      "100%|██████████| 148/148 [01:24<00:00,  1.75it/s]\n",
      "100%|██████████| 37/37 [00:08<00:00,  4.41it/s]\n"
     ]
    },
    {
     "name": "stdout",
     "output_type": "stream",
     "text": [
      "Epoch [29], Train Loss : [0.88209] Val Loss : [0.47238] Val F1 Score : [0.82683]\n"
     ]
    },
    {
     "name": "stderr",
     "output_type": "stream",
     "text": [
      "100%|██████████| 148/148 [01:24<00:00,  1.75it/s]\n",
      "100%|██████████| 37/37 [00:08<00:00,  4.54it/s]"
     ]
    },
    {
     "name": "stdout",
     "output_type": "stream",
     "text": [
      "Epoch [30], Train Loss : [0.96753] Val Loss : [0.48254] Val F1 Score : [0.81431]\n"
     ]
    },
    {
     "name": "stderr",
     "output_type": "stream",
     "text": [
      "\n",
      "100%|██████████| 148/148 [01:24<00:00,  1.75it/s]\n",
      "100%|██████████| 37/37 [00:08<00:00,  4.57it/s]"
     ]
    },
    {
     "name": "stdout",
     "output_type": "stream",
     "text": [
      "Epoch [31], Train Loss : [0.89581] Val Loss : [0.47352] Val F1 Score : [0.81997]\n"
     ]
    },
    {
     "name": "stderr",
     "output_type": "stream",
     "text": [
      "\n",
      "100%|██████████| 148/148 [01:24<00:00,  1.75it/s]\n",
      "100%|██████████| 37/37 [00:07<00:00,  4.81it/s]\n"
     ]
    },
    {
     "name": "stdout",
     "output_type": "stream",
     "text": [
      "Epoch [32], Train Loss : [0.98922] Val Loss : [0.48252] Val F1 Score : [0.82730]\n"
     ]
    },
    {
     "name": "stderr",
     "output_type": "stream",
     "text": [
      "100%|██████████| 148/148 [01:24<00:00,  1.74it/s]\n",
      "100%|██████████| 37/37 [00:07<00:00,  4.71it/s]\n"
     ]
    },
    {
     "name": "stdout",
     "output_type": "stream",
     "text": [
      "Epoch [33], Train Loss : [0.94850] Val Loss : [0.43671] Val F1 Score : [0.83977]\n"
     ]
    },
    {
     "name": "stderr",
     "output_type": "stream",
     "text": [
      "100%|██████████| 148/148 [01:24<00:00,  1.75it/s]\n",
      "100%|██████████| 37/37 [00:08<00:00,  4.53it/s]"
     ]
    },
    {
     "name": "stdout",
     "output_type": "stream",
     "text": [
      "Epoch [34], Train Loss : [0.95370] Val Loss : [0.47725] Val F1 Score : [0.81277]\n"
     ]
    },
    {
     "name": "stderr",
     "output_type": "stream",
     "text": [
      "\n",
      "100%|██████████| 148/148 [01:24<00:00,  1.74it/s]\n",
      "100%|██████████| 37/37 [00:07<00:00,  4.64it/s]"
     ]
    },
    {
     "name": "stdout",
     "output_type": "stream",
     "text": [
      "Epoch [35], Train Loss : [0.93153] Val Loss : [0.49467] Val F1 Score : [0.82202]\n"
     ]
    },
    {
     "name": "stderr",
     "output_type": "stream",
     "text": [
      "\n",
      "100%|██████████| 148/148 [01:24<00:00,  1.75it/s]\n",
      "100%|██████████| 37/37 [00:08<00:00,  4.61it/s]"
     ]
    },
    {
     "name": "stdout",
     "output_type": "stream",
     "text": [
      "Epoch [36], Train Loss : [0.88771] Val Loss : [0.46937] Val F1 Score : [0.82832]\n"
     ]
    },
    {
     "name": "stderr",
     "output_type": "stream",
     "text": [
      "\n",
      "100%|██████████| 148/148 [01:24<00:00,  1.75it/s]\n",
      "100%|██████████| 37/37 [00:07<00:00,  4.68it/s]"
     ]
    },
    {
     "name": "stdout",
     "output_type": "stream",
     "text": [
      "Epoch [37], Train Loss : [0.91580] Val Loss : [0.48379] Val F1 Score : [0.82784]\n"
     ]
    },
    {
     "name": "stderr",
     "output_type": "stream",
     "text": [
      "\n",
      "100%|██████████| 148/148 [01:24<00:00,  1.75it/s]\n",
      "100%|██████████| 37/37 [00:08<00:00,  4.54it/s]\n"
     ]
    },
    {
     "name": "stdout",
     "output_type": "stream",
     "text": [
      "Epoch [38], Train Loss : [0.87456] Val Loss : [0.44448] Val F1 Score : [0.84801]\n"
     ]
    },
    {
     "name": "stderr",
     "output_type": "stream",
     "text": [
      "100%|██████████| 148/148 [01:24<00:00,  1.75it/s]\n",
      "100%|██████████| 37/37 [00:07<00:00,  4.68it/s]"
     ]
    },
    {
     "name": "stdout",
     "output_type": "stream",
     "text": [
      "Epoch [39], Train Loss : [0.82527] Val Loss : [0.47475] Val F1 Score : [0.82274]\n"
     ]
    },
    {
     "name": "stderr",
     "output_type": "stream",
     "text": [
      "\n",
      "100%|██████████| 148/148 [01:24<00:00,  1.75it/s]\n",
      "100%|██████████| 37/37 [00:07<00:00,  4.65it/s]"
     ]
    },
    {
     "name": "stdout",
     "output_type": "stream",
     "text": [
      "Epoch [40], Train Loss : [0.90925] Val Loss : [0.46612] Val F1 Score : [0.83552]\n"
     ]
    },
    {
     "name": "stderr",
     "output_type": "stream",
     "text": [
      "\n",
      "100%|██████████| 148/148 [01:24<00:00,  1.75it/s]\n",
      "100%|██████████| 37/37 [00:07<00:00,  4.66it/s]"
     ]
    },
    {
     "name": "stdout",
     "output_type": "stream",
     "text": [
      "Epoch [41], Train Loss : [0.87783] Val Loss : [0.48560] Val F1 Score : [0.82542]\n"
     ]
    },
    {
     "name": "stderr",
     "output_type": "stream",
     "text": [
      "\n",
      "100%|██████████| 148/148 [01:25<00:00,  1.74it/s]\n",
      "100%|██████████| 37/37 [00:07<00:00,  4.68it/s]"
     ]
    },
    {
     "name": "stdout",
     "output_type": "stream",
     "text": [
      "Epoch [42], Train Loss : [0.92402] Val Loss : [0.47998] Val F1 Score : [0.83816]\n"
     ]
    },
    {
     "name": "stderr",
     "output_type": "stream",
     "text": [
      "\n",
      "100%|██████████| 148/148 [01:24<00:00,  1.75it/s]\n",
      "100%|██████████| 37/37 [00:08<00:00,  4.62it/s]"
     ]
    },
    {
     "name": "stdout",
     "output_type": "stream",
     "text": [
      "Epoch [43], Train Loss : [0.82041] Val Loss : [0.49405] Val F1 Score : [0.83392]\n"
     ]
    },
    {
     "name": "stderr",
     "output_type": "stream",
     "text": [
      "\n",
      "100%|██████████| 148/148 [01:24<00:00,  1.75it/s]\n",
      "100%|██████████| 37/37 [00:07<00:00,  4.67it/s]"
     ]
    },
    {
     "name": "stdout",
     "output_type": "stream",
     "text": [
      "Epoch [44], Train Loss : [0.88867] Val Loss : [0.44275] Val F1 Score : [0.84151]\n"
     ]
    },
    {
     "name": "stderr",
     "output_type": "stream",
     "text": [
      "\n",
      "100%|██████████| 148/148 [01:24<00:00,  1.75it/s]\n",
      "100%|██████████| 37/37 [00:07<00:00,  4.65it/s]"
     ]
    },
    {
     "name": "stdout",
     "output_type": "stream",
     "text": [
      "Epoch [45], Train Loss : [0.91624] Val Loss : [0.45973] Val F1 Score : [0.82558]\n"
     ]
    },
    {
     "name": "stderr",
     "output_type": "stream",
     "text": [
      "\n",
      "100%|██████████| 148/148 [01:24<00:00,  1.75it/s]\n",
      "100%|██████████| 37/37 [00:07<00:00,  4.70it/s]"
     ]
    },
    {
     "name": "stdout",
     "output_type": "stream",
     "text": [
      "Epoch [46], Train Loss : [0.86428] Val Loss : [0.43545] Val F1 Score : [0.84112]\n"
     ]
    },
    {
     "name": "stderr",
     "output_type": "stream",
     "text": [
      "\n",
      "100%|██████████| 148/148 [01:24<00:00,  1.74it/s]\n",
      "100%|██████████| 37/37 [00:07<00:00,  4.69it/s]"
     ]
    },
    {
     "name": "stdout",
     "output_type": "stream",
     "text": [
      "Epoch [47], Train Loss : [0.90689] Val Loss : [0.45793] Val F1 Score : [0.84577]\n"
     ]
    },
    {
     "name": "stderr",
     "output_type": "stream",
     "text": [
      "\n",
      "100%|██████████| 148/148 [01:24<00:00,  1.75it/s]\n",
      "100%|██████████| 37/37 [00:07<00:00,  4.69it/s]"
     ]
    },
    {
     "name": "stdout",
     "output_type": "stream",
     "text": [
      "Epoch [48], Train Loss : [0.86394] Val Loss : [0.45264] Val F1 Score : [0.83433]\n"
     ]
    },
    {
     "name": "stderr",
     "output_type": "stream",
     "text": [
      "\n",
      "100%|██████████| 148/148 [01:24<00:00,  1.75it/s]\n",
      "100%|██████████| 37/37 [00:07<00:00,  4.64it/s]"
     ]
    },
    {
     "name": "stdout",
     "output_type": "stream",
     "text": [
      "Epoch [49], Train Loss : [0.85482] Val Loss : [0.43727] Val F1 Score : [0.84355]\n",
      "Early Stopping...\n"
     ]
    },
    {
     "name": "stderr",
     "output_type": "stream",
     "text": [
      "\n"
     ]
    },
    {
     "name": "stdout",
     "output_type": "stream",
     "text": [
      "LR SCALES: [1.0, 1.0, 1.0, 1.0, 1.0, 1.0, 1.0, 1.0, 1.0, 1.0, 1.0, 1.0]\n"
     ]
    },
    {
     "name": "stderr",
     "output_type": "stream",
     "text": [
      "100%|██████████| 148/148 [01:24<00:00,  1.75it/s]\n",
      "100%|██████████| 37/37 [00:08<00:00,  4.61it/s]\n"
     ]
    },
    {
     "name": "stdout",
     "output_type": "stream",
     "text": [
      "Epoch [1], Train Loss : [4.20152] Val Loss : [4.27607] Val F1 Score : [0.01208]\n"
     ]
    },
    {
     "name": "stderr",
     "output_type": "stream",
     "text": [
      "100%|██████████| 148/148 [01:24<00:00,  1.74it/s]\n",
      "100%|██████████| 37/37 [00:08<00:00,  4.58it/s]\n"
     ]
    },
    {
     "name": "stdout",
     "output_type": "stream",
     "text": [
      "Epoch [2], Train Loss : [2.88775] Val Loss : [1.47498] Val F1 Score : [0.51377]\n"
     ]
    },
    {
     "name": "stderr",
     "output_type": "stream",
     "text": [
      "100%|██████████| 148/148 [01:24<00:00,  1.75it/s]\n",
      "100%|██████████| 37/37 [00:08<00:00,  4.53it/s]"
     ]
    },
    {
     "name": "stdout",
     "output_type": "stream",
     "text": [
      "Epoch [3], Train Loss : [2.42729] Val Loss : [1.39765] Val F1 Score : [0.50252]\n"
     ]
    },
    {
     "name": "stderr",
     "output_type": "stream",
     "text": [
      "\n",
      "100%|██████████| 148/148 [01:24<00:00,  1.75it/s]\n",
      "100%|██████████| 37/37 [00:08<00:00,  4.62it/s]\n"
     ]
    },
    {
     "name": "stdout",
     "output_type": "stream",
     "text": [
      "Epoch [4], Train Loss : [2.34658] Val Loss : [1.33674] Val F1 Score : [0.55378]\n"
     ]
    },
    {
     "name": "stderr",
     "output_type": "stream",
     "text": [
      "100%|██████████| 148/148 [01:24<00:00,  1.75it/s]\n",
      "100%|██████████| 37/37 [00:08<00:00,  4.46it/s]\n"
     ]
    },
    {
     "name": "stdout",
     "output_type": "stream",
     "text": [
      "Epoch [5], Train Loss : [2.13107] Val Loss : [1.19935] Val F1 Score : [0.56209]\n"
     ]
    },
    {
     "name": "stderr",
     "output_type": "stream",
     "text": [
      "100%|██████████| 148/148 [01:24<00:00,  1.75it/s]\n",
      "100%|██████████| 37/37 [00:07<00:00,  4.70it/s]\n"
     ]
    },
    {
     "name": "stdout",
     "output_type": "stream",
     "text": [
      "Epoch [6], Train Loss : [1.86733] Val Loss : [1.08004] Val F1 Score : [0.60739]\n"
     ]
    },
    {
     "name": "stderr",
     "output_type": "stream",
     "text": [
      "100%|██████████| 148/148 [01:24<00:00,  1.74it/s]\n",
      "100%|██████████| 37/37 [00:08<00:00,  4.57it/s]\n"
     ]
    },
    {
     "name": "stdout",
     "output_type": "stream",
     "text": [
      "Epoch [7], Train Loss : [1.68105] Val Loss : [0.82945] Val F1 Score : [0.69530]\n"
     ]
    },
    {
     "name": "stderr",
     "output_type": "stream",
     "text": [
      "100%|██████████| 148/148 [01:24<00:00,  1.75it/s]\n",
      "100%|██████████| 37/37 [00:07<00:00,  4.67it/s]\n"
     ]
    },
    {
     "name": "stdout",
     "output_type": "stream",
     "text": [
      "Epoch [8], Train Loss : [1.53911] Val Loss : [0.67972] Val F1 Score : [0.75465]\n"
     ]
    },
    {
     "name": "stderr",
     "output_type": "stream",
     "text": [
      "100%|██████████| 148/148 [01:24<00:00,  1.75it/s]\n",
      "100%|██████████| 37/37 [00:07<00:00,  4.72it/s]\n"
     ]
    },
    {
     "name": "stdout",
     "output_type": "stream",
     "text": [
      "Epoch [9], Train Loss : [1.33823] Val Loss : [0.61662] Val F1 Score : [0.77650]\n"
     ]
    },
    {
     "name": "stderr",
     "output_type": "stream",
     "text": [
      "100%|██████████| 148/148 [01:24<00:00,  1.75it/s]\n",
      "100%|██████████| 37/37 [00:07<00:00,  4.67it/s]"
     ]
    },
    {
     "name": "stdout",
     "output_type": "stream",
     "text": [
      "Epoch [10], Train Loss : [1.30007] Val Loss : [0.61339] Val F1 Score : [0.76160]\n"
     ]
    },
    {
     "name": "stderr",
     "output_type": "stream",
     "text": [
      "\n",
      "100%|██████████| 148/148 [01:24<00:00,  1.75it/s]\n",
      "100%|██████████| 37/37 [00:08<00:00,  4.54it/s]\n"
     ]
    },
    {
     "name": "stdout",
     "output_type": "stream",
     "text": [
      "Epoch [11], Train Loss : [1.24453] Val Loss : [0.56892] Val F1 Score : [0.78944]\n"
     ]
    },
    {
     "name": "stderr",
     "output_type": "stream",
     "text": [
      "100%|██████████| 148/148 [01:24<00:00,  1.75it/s]\n",
      "100%|██████████| 37/37 [00:08<00:00,  4.51it/s]"
     ]
    },
    {
     "name": "stdout",
     "output_type": "stream",
     "text": [
      "Epoch [12], Train Loss : [1.28113] Val Loss : [0.59294] Val F1 Score : [0.78303]\n"
     ]
    },
    {
     "name": "stderr",
     "output_type": "stream",
     "text": [
      "\n",
      "100%|██████████| 148/148 [01:24<00:00,  1.75it/s]\n",
      "100%|██████████| 37/37 [00:08<00:00,  4.40it/s]"
     ]
    },
    {
     "name": "stdout",
     "output_type": "stream",
     "text": [
      "Epoch [13], Train Loss : [1.31274] Val Loss : [0.63074] Val F1 Score : [0.76866]\n"
     ]
    },
    {
     "name": "stderr",
     "output_type": "stream",
     "text": [
      "\n",
      "100%|██████████| 148/148 [01:24<00:00,  1.75it/s]\n",
      "100%|██████████| 37/37 [00:07<00:00,  4.65it/s]"
     ]
    },
    {
     "name": "stdout",
     "output_type": "stream",
     "text": [
      "Epoch [14], Train Loss : [1.40091] Val Loss : [0.72528] Val F1 Score : [0.74755]\n"
     ]
    },
    {
     "name": "stderr",
     "output_type": "stream",
     "text": [
      "\n",
      "100%|██████████| 148/148 [01:24<00:00,  1.75it/s]\n",
      "100%|██████████| 37/37 [00:08<00:00,  4.56it/s]"
     ]
    },
    {
     "name": "stdout",
     "output_type": "stream",
     "text": [
      "Epoch [15], Train Loss : [1.32763] Val Loss : [0.67901] Val F1 Score : [0.77033]\n"
     ]
    },
    {
     "name": "stderr",
     "output_type": "stream",
     "text": [
      "\n",
      "100%|██████████| 148/148 [01:24<00:00,  1.75it/s]\n",
      "100%|██████████| 37/37 [00:08<00:00,  4.48it/s]"
     ]
    },
    {
     "name": "stdout",
     "output_type": "stream",
     "text": [
      "Epoch [16], Train Loss : [1.31994] Val Loss : [0.64845] Val F1 Score : [0.77595]\n"
     ]
    },
    {
     "name": "stderr",
     "output_type": "stream",
     "text": [
      "\n",
      "100%|██████████| 148/148 [01:24<00:00,  1.75it/s]\n",
      "100%|██████████| 37/37 [00:08<00:00,  4.62it/s]"
     ]
    },
    {
     "name": "stdout",
     "output_type": "stream",
     "text": [
      "Epoch [17], Train Loss : [1.19912] Val Loss : [0.55661] Val F1 Score : [0.78782]\n"
     ]
    },
    {
     "name": "stderr",
     "output_type": "stream",
     "text": [
      "\n",
      "100%|██████████| 148/148 [01:24<00:00,  1.75it/s]\n",
      "100%|██████████| 37/37 [00:08<00:00,  4.57it/s]\n"
     ]
    },
    {
     "name": "stdout",
     "output_type": "stream",
     "text": [
      "Epoch [18], Train Loss : [1.13265] Val Loss : [0.54109] Val F1 Score : [0.80877]\n"
     ]
    },
    {
     "name": "stderr",
     "output_type": "stream",
     "text": [
      "100%|██████████| 148/148 [01:24<00:00,  1.75it/s]\n",
      "100%|██████████| 37/37 [00:08<00:00,  4.60it/s]"
     ]
    },
    {
     "name": "stdout",
     "output_type": "stream",
     "text": [
      "Epoch [19], Train Loss : [1.09048] Val Loss : [0.52093] Val F1 Score : [0.80524]\n"
     ]
    },
    {
     "name": "stderr",
     "output_type": "stream",
     "text": [
      "\n",
      "100%|██████████| 148/148 [01:24<00:00,  1.75it/s]\n",
      "100%|██████████| 37/37 [00:08<00:00,  4.52it/s]"
     ]
    },
    {
     "name": "stdout",
     "output_type": "stream",
     "text": [
      "Epoch [20], Train Loss : [1.06535] Val Loss : [0.53384] Val F1 Score : [0.80049]\n"
     ]
    },
    {
     "name": "stderr",
     "output_type": "stream",
     "text": [
      "\n",
      "100%|██████████| 148/148 [01:24<00:00,  1.75it/s]\n",
      "100%|██████████| 37/37 [00:08<00:00,  4.57it/s]\n"
     ]
    },
    {
     "name": "stdout",
     "output_type": "stream",
     "text": [
      "Epoch [21], Train Loss : [1.06441] Val Loss : [0.52107] Val F1 Score : [0.81369]\n"
     ]
    },
    {
     "name": "stderr",
     "output_type": "stream",
     "text": [
      "100%|██████████| 148/148 [01:24<00:00,  1.75it/s]\n",
      "100%|██████████| 37/37 [00:08<00:00,  4.56it/s]"
     ]
    },
    {
     "name": "stdout",
     "output_type": "stream",
     "text": [
      "Epoch [22], Train Loss : [1.07294] Val Loss : [0.51574] Val F1 Score : [0.80757]\n"
     ]
    },
    {
     "name": "stderr",
     "output_type": "stream",
     "text": [
      "\n",
      "100%|██████████| 148/148 [01:24<00:00,  1.75it/s]\n",
      "100%|██████████| 37/37 [00:08<00:00,  4.62it/s]\n"
     ]
    },
    {
     "name": "stdout",
     "output_type": "stream",
     "text": [
      "Epoch [23], Train Loss : [1.05040] Val Loss : [0.50646] Val F1 Score : [0.81796]\n"
     ]
    },
    {
     "name": "stderr",
     "output_type": "stream",
     "text": [
      "100%|██████████| 148/148 [01:24<00:00,  1.74it/s]\n",
      "100%|██████████| 37/37 [00:08<00:00,  4.52it/s]"
     ]
    },
    {
     "name": "stdout",
     "output_type": "stream",
     "text": [
      "Epoch [24], Train Loss : [1.04847] Val Loss : [0.59006] Val F1 Score : [0.78657]\n"
     ]
    },
    {
     "name": "stderr",
     "output_type": "stream",
     "text": [
      "\n",
      "100%|██████████| 148/148 [01:24<00:00,  1.74it/s]\n",
      "100%|██████████| 37/37 [00:07<00:00,  4.63it/s]\n"
     ]
    },
    {
     "name": "stdout",
     "output_type": "stream",
     "text": [
      "Epoch [25], Train Loss : [1.13387] Val Loss : [0.54810] Val F1 Score : [0.81997]\n"
     ]
    },
    {
     "name": "stderr",
     "output_type": "stream",
     "text": [
      "100%|██████████| 148/148 [01:24<00:00,  1.75it/s]\n",
      "100%|██████████| 37/37 [00:08<00:00,  4.47it/s]"
     ]
    },
    {
     "name": "stdout",
     "output_type": "stream",
     "text": [
      "Epoch [26], Train Loss : [1.03700] Val Loss : [0.55928] Val F1 Score : [0.79328]\n"
     ]
    },
    {
     "name": "stderr",
     "output_type": "stream",
     "text": [
      "\n",
      "100%|██████████| 148/148 [01:24<00:00,  1.74it/s]\n",
      "100%|██████████| 37/37 [00:08<00:00,  4.54it/s]\n"
     ]
    },
    {
     "name": "stdout",
     "output_type": "stream",
     "text": [
      "Epoch [27], Train Loss : [1.01098] Val Loss : [0.50128] Val F1 Score : [0.82658]\n"
     ]
    },
    {
     "name": "stderr",
     "output_type": "stream",
     "text": [
      "100%|██████████| 148/148 [01:24<00:00,  1.75it/s]\n",
      "100%|██████████| 37/37 [00:08<00:00,  4.55it/s]\n"
     ]
    },
    {
     "name": "stdout",
     "output_type": "stream",
     "text": [
      "Epoch [28], Train Loss : [0.97372] Val Loss : [0.47640] Val F1 Score : [0.82697]\n"
     ]
    },
    {
     "name": "stderr",
     "output_type": "stream",
     "text": [
      "100%|██████████| 148/148 [01:24<00:00,  1.75it/s]\n",
      "100%|██████████| 37/37 [00:08<00:00,  4.61it/s]"
     ]
    },
    {
     "name": "stdout",
     "output_type": "stream",
     "text": [
      "Epoch [29], Train Loss : [0.94119] Val Loss : [0.48007] Val F1 Score : [0.81571]\n"
     ]
    },
    {
     "name": "stderr",
     "output_type": "stream",
     "text": [
      "\n",
      "100%|██████████| 148/148 [01:24<00:00,  1.75it/s]\n",
      "100%|██████████| 37/37 [00:08<00:00,  4.55it/s]"
     ]
    },
    {
     "name": "stdout",
     "output_type": "stream",
     "text": [
      "Epoch [30], Train Loss : [0.96798] Val Loss : [0.48096] Val F1 Score : [0.82476]\n"
     ]
    },
    {
     "name": "stderr",
     "output_type": "stream",
     "text": [
      "\n",
      "100%|██████████| 148/148 [01:24<00:00,  1.74it/s]\n",
      "100%|██████████| 37/37 [00:08<00:00,  4.55it/s]\n"
     ]
    },
    {
     "name": "stdout",
     "output_type": "stream",
     "text": [
      "Epoch [31], Train Loss : [0.89949] Val Loss : [0.47300] Val F1 Score : [0.83948]\n"
     ]
    },
    {
     "name": "stderr",
     "output_type": "stream",
     "text": [
      "100%|██████████| 148/148 [01:24<00:00,  1.74it/s]\n",
      "100%|██████████| 37/37 [00:08<00:00,  4.59it/s]"
     ]
    },
    {
     "name": "stdout",
     "output_type": "stream",
     "text": [
      "Epoch [32], Train Loss : [0.97028] Val Loss : [0.46153] Val F1 Score : [0.83272]\n"
     ]
    },
    {
     "name": "stderr",
     "output_type": "stream",
     "text": [
      "\n",
      "100%|██████████| 148/148 [01:24<00:00,  1.75it/s]\n",
      "100%|██████████| 37/37 [00:08<00:00,  4.55it/s]\n"
     ]
    },
    {
     "name": "stdout",
     "output_type": "stream",
     "text": [
      "Epoch [33], Train Loss : [0.91330] Val Loss : [0.46228] Val F1 Score : [0.84380]\n"
     ]
    },
    {
     "name": "stderr",
     "output_type": "stream",
     "text": [
      "100%|██████████| 148/148 [01:24<00:00,  1.75it/s]\n",
      "100%|██████████| 37/37 [00:07<00:00,  4.69it/s]\n"
     ]
    },
    {
     "name": "stdout",
     "output_type": "stream",
     "text": [
      "Epoch [34], Train Loss : [0.95390] Val Loss : [0.45540] Val F1 Score : [0.85168]\n"
     ]
    },
    {
     "name": "stderr",
     "output_type": "stream",
     "text": [
      "100%|██████████| 148/148 [01:24<00:00,  1.75it/s]\n",
      "100%|██████████| 37/37 [00:08<00:00,  4.54it/s]"
     ]
    },
    {
     "name": "stdout",
     "output_type": "stream",
     "text": [
      "Epoch [35], Train Loss : [0.96478] Val Loss : [0.47842] Val F1 Score : [0.83263]\n"
     ]
    },
    {
     "name": "stderr",
     "output_type": "stream",
     "text": [
      "\n",
      "100%|██████████| 148/148 [01:24<00:00,  1.75it/s]\n",
      "100%|██████████| 37/37 [00:07<00:00,  4.68it/s]"
     ]
    },
    {
     "name": "stdout",
     "output_type": "stream",
     "text": [
      "Epoch [36], Train Loss : [0.92569] Val Loss : [0.47654] Val F1 Score : [0.81930]\n"
     ]
    },
    {
     "name": "stderr",
     "output_type": "stream",
     "text": [
      "\n",
      "100%|██████████| 148/148 [01:24<00:00,  1.75it/s]\n",
      "100%|██████████| 37/37 [00:08<00:00,  4.59it/s]"
     ]
    },
    {
     "name": "stdout",
     "output_type": "stream",
     "text": [
      "Epoch [37], Train Loss : [0.88522] Val Loss : [0.44015] Val F1 Score : [0.84913]\n"
     ]
    },
    {
     "name": "stderr",
     "output_type": "stream",
     "text": [
      "\n",
      "100%|██████████| 148/148 [01:24<00:00,  1.75it/s]\n",
      "100%|██████████| 37/37 [00:08<00:00,  4.45it/s]"
     ]
    },
    {
     "name": "stdout",
     "output_type": "stream",
     "text": [
      "Epoch [38], Train Loss : [0.89457] Val Loss : [0.48105] Val F1 Score : [0.81902]\n"
     ]
    },
    {
     "name": "stderr",
     "output_type": "stream",
     "text": [
      "\n",
      "100%|██████████| 148/148 [01:24<00:00,  1.74it/s]\n",
      "100%|██████████| 37/37 [00:08<00:00,  4.50it/s]"
     ]
    },
    {
     "name": "stdout",
     "output_type": "stream",
     "text": [
      "Epoch [39], Train Loss : [0.91431] Val Loss : [0.44701] Val F1 Score : [0.84094]\n"
     ]
    },
    {
     "name": "stderr",
     "output_type": "stream",
     "text": [
      "\n",
      "100%|██████████| 148/148 [01:24<00:00,  1.75it/s]\n",
      "100%|██████████| 37/37 [00:08<00:00,  4.58it/s]"
     ]
    },
    {
     "name": "stdout",
     "output_type": "stream",
     "text": [
      "Epoch [40], Train Loss : [0.86674] Val Loss : [0.43883] Val F1 Score : [0.83435]\n"
     ]
    },
    {
     "name": "stderr",
     "output_type": "stream",
     "text": [
      "\n",
      "100%|██████████| 148/148 [01:24<00:00,  1.75it/s]\n",
      "100%|██████████| 37/37 [00:08<00:00,  4.62it/s]\n"
     ]
    },
    {
     "name": "stdout",
     "output_type": "stream",
     "text": [
      "Epoch [41], Train Loss : [0.90142] Val Loss : [0.43139] Val F1 Score : [0.85541]\n"
     ]
    },
    {
     "name": "stderr",
     "output_type": "stream",
     "text": [
      "100%|██████████| 148/148 [01:24<00:00,  1.74it/s]\n",
      "100%|██████████| 37/37 [00:08<00:00,  4.47it/s]"
     ]
    },
    {
     "name": "stdout",
     "output_type": "stream",
     "text": [
      "Epoch [42], Train Loss : [0.86212] Val Loss : [0.47993] Val F1 Score : [0.82574]\n"
     ]
    },
    {
     "name": "stderr",
     "output_type": "stream",
     "text": [
      "\n",
      "100%|██████████| 148/148 [01:24<00:00,  1.75it/s]\n",
      "100%|██████████| 37/37 [00:07<00:00,  4.73it/s]"
     ]
    },
    {
     "name": "stdout",
     "output_type": "stream",
     "text": [
      "Epoch [43], Train Loss : [0.91224] Val Loss : [0.44721] Val F1 Score : [0.83629]\n"
     ]
    },
    {
     "name": "stderr",
     "output_type": "stream",
     "text": [
      "\n",
      "100%|██████████| 148/148 [01:24<00:00,  1.75it/s]\n",
      "100%|██████████| 37/37 [00:08<00:00,  4.53it/s]"
     ]
    },
    {
     "name": "stdout",
     "output_type": "stream",
     "text": [
      "Epoch [44], Train Loss : [0.86557] Val Loss : [0.47540] Val F1 Score : [0.83622]\n"
     ]
    },
    {
     "name": "stderr",
     "output_type": "stream",
     "text": [
      "\n",
      "100%|██████████| 148/148 [01:24<00:00,  1.75it/s]\n",
      "100%|██████████| 37/37 [00:07<00:00,  4.63it/s]"
     ]
    },
    {
     "name": "stdout",
     "output_type": "stream",
     "text": [
      "Epoch [45], Train Loss : [0.89840] Val Loss : [0.45798] Val F1 Score : [0.84303]\n"
     ]
    },
    {
     "name": "stderr",
     "output_type": "stream",
     "text": [
      "\n",
      "100%|██████████| 148/148 [01:24<00:00,  1.75it/s]\n",
      "100%|██████████| 37/37 [00:08<00:00,  4.59it/s]"
     ]
    },
    {
     "name": "stdout",
     "output_type": "stream",
     "text": [
      "Epoch [46], Train Loss : [0.88839] Val Loss : [0.46080] Val F1 Score : [0.84351]\n"
     ]
    },
    {
     "name": "stderr",
     "output_type": "stream",
     "text": [
      "\n",
      "100%|██████████| 148/148 [01:24<00:00,  1.75it/s]\n",
      "100%|██████████| 37/37 [00:08<00:00,  4.62it/s]"
     ]
    },
    {
     "name": "stdout",
     "output_type": "stream",
     "text": [
      "Epoch [47], Train Loss : [0.85002] Val Loss : [0.42286] Val F1 Score : [0.84733]\n"
     ]
    },
    {
     "name": "stderr",
     "output_type": "stream",
     "text": [
      "\n",
      "100%|██████████| 148/148 [01:24<00:00,  1.75it/s]\n",
      "100%|██████████| 37/37 [00:08<00:00,  4.54it/s]"
     ]
    },
    {
     "name": "stdout",
     "output_type": "stream",
     "text": [
      "Epoch [48], Train Loss : [0.82187] Val Loss : [0.43672] Val F1 Score : [0.83144]\n"
     ]
    },
    {
     "name": "stderr",
     "output_type": "stream",
     "text": [
      "\n",
      "100%|██████████| 148/148 [01:24<00:00,  1.75it/s]\n",
      "100%|██████████| 37/37 [00:08<00:00,  4.61it/s]"
     ]
    },
    {
     "name": "stdout",
     "output_type": "stream",
     "text": [
      "Epoch [49], Train Loss : [0.87659] Val Loss : [0.42273] Val F1 Score : [0.84782]\n"
     ]
    },
    {
     "name": "stderr",
     "output_type": "stream",
     "text": [
      "\n",
      "100%|██████████| 148/148 [01:24<00:00,  1.75it/s]\n",
      "100%|██████████| 37/37 [00:07<00:00,  4.65it/s]"
     ]
    },
    {
     "name": "stdout",
     "output_type": "stream",
     "text": [
      "Epoch [50], Train Loss : [0.83988] Val Loss : [0.46113] Val F1 Score : [0.81917]\n"
     ]
    },
    {
     "name": "stderr",
     "output_type": "stream",
     "text": [
      "\n"
     ]
    },
    {
     "name": "stdout",
     "output_type": "stream",
     "text": [
      "LR SCALES: [1.0, 1.0, 1.0, 1.0, 1.0, 1.0, 1.0, 1.0, 1.0, 1.0, 1.0, 1.0]\n"
     ]
    },
    {
     "name": "stderr",
     "output_type": "stream",
     "text": [
      "100%|██████████| 148/148 [01:24<00:00,  1.75it/s]\n",
      "100%|██████████| 37/37 [00:07<00:00,  4.71it/s]\n"
     ]
    },
    {
     "name": "stdout",
     "output_type": "stream",
     "text": [
      "Epoch [1], Train Loss : [4.17304] Val Loss : [4.20167] Val F1 Score : [0.00980]\n"
     ]
    },
    {
     "name": "stderr",
     "output_type": "stream",
     "text": [
      "100%|██████████| 148/148 [01:24<00:00,  1.75it/s]\n",
      "100%|██████████| 37/37 [00:07<00:00,  4.68it/s]\n"
     ]
    },
    {
     "name": "stdout",
     "output_type": "stream",
     "text": [
      "Epoch [2], Train Loss : [2.78765] Val Loss : [1.41539] Val F1 Score : [0.50118]\n"
     ]
    },
    {
     "name": "stderr",
     "output_type": "stream",
     "text": [
      "100%|██████████| 148/148 [01:24<00:00,  1.75it/s]\n",
      "100%|██████████| 37/37 [00:08<00:00,  4.53it/s]\n"
     ]
    },
    {
     "name": "stdout",
     "output_type": "stream",
     "text": [
      "Epoch [3], Train Loss : [2.39958] Val Loss : [1.29309] Val F1 Score : [0.59431]\n"
     ]
    },
    {
     "name": "stderr",
     "output_type": "stream",
     "text": [
      "100%|██████████| 148/148 [01:24<00:00,  1.75it/s]\n",
      "100%|██████████| 37/37 [00:08<00:00,  4.58it/s]"
     ]
    },
    {
     "name": "stdout",
     "output_type": "stream",
     "text": [
      "Epoch [4], Train Loss : [2.37962] Val Loss : [1.39900] Val F1 Score : [0.51785]\n"
     ]
    },
    {
     "name": "stderr",
     "output_type": "stream",
     "text": [
      "\n",
      "100%|██████████| 148/148 [01:24<00:00,  1.75it/s]\n",
      "100%|██████████| 37/37 [00:08<00:00,  4.56it/s]"
     ]
    },
    {
     "name": "stdout",
     "output_type": "stream",
     "text": [
      "Epoch [5], Train Loss : [2.12915] Val Loss : [1.28222] Val F1 Score : [0.57556]\n"
     ]
    },
    {
     "name": "stderr",
     "output_type": "stream",
     "text": [
      "\n",
      "100%|██████████| 148/148 [01:24<00:00,  1.75it/s]\n",
      "100%|██████████| 37/37 [00:08<00:00,  4.52it/s]\n"
     ]
    },
    {
     "name": "stdout",
     "output_type": "stream",
     "text": [
      "Epoch [6], Train Loss : [1.94262] Val Loss : [1.03314] Val F1 Score : [0.62918]\n"
     ]
    },
    {
     "name": "stderr",
     "output_type": "stream",
     "text": [
      "100%|██████████| 148/148 [01:24<00:00,  1.75it/s]\n",
      "100%|██████████| 37/37 [00:07<00:00,  4.71it/s]\n"
     ]
    },
    {
     "name": "stdout",
     "output_type": "stream",
     "text": [
      "Epoch [7], Train Loss : [1.71546] Val Loss : [0.84614] Val F1 Score : [0.68981]\n"
     ]
    },
    {
     "name": "stderr",
     "output_type": "stream",
     "text": [
      "100%|██████████| 148/148 [01:24<00:00,  1.75it/s]\n",
      "100%|██████████| 37/37 [00:07<00:00,  4.71it/s]\n"
     ]
    },
    {
     "name": "stdout",
     "output_type": "stream",
     "text": [
      "Epoch [8], Train Loss : [1.54196] Val Loss : [0.71679] Val F1 Score : [0.73459]\n"
     ]
    },
    {
     "name": "stderr",
     "output_type": "stream",
     "text": [
      "100%|██████████| 148/148 [01:24<00:00,  1.75it/s]\n",
      "100%|██████████| 37/37 [00:08<00:00,  4.58it/s]\n"
     ]
    },
    {
     "name": "stdout",
     "output_type": "stream",
     "text": [
      "Epoch [9], Train Loss : [1.40003] Val Loss : [0.66749] Val F1 Score : [0.77373]\n"
     ]
    },
    {
     "name": "stderr",
     "output_type": "stream",
     "text": [
      "100%|██████████| 148/148 [01:24<00:00,  1.75it/s]\n",
      "100%|██████████| 37/37 [00:08<00:00,  4.54it/s]\n"
     ]
    },
    {
     "name": "stdout",
     "output_type": "stream",
     "text": [
      "Epoch [10], Train Loss : [1.29794] Val Loss : [0.58737] Val F1 Score : [0.78240]\n"
     ]
    },
    {
     "name": "stderr",
     "output_type": "stream",
     "text": [
      "100%|██████████| 148/148 [01:24<00:00,  1.74it/s]\n",
      "100%|██████████| 37/37 [00:08<00:00,  4.56it/s]\n"
     ]
    },
    {
     "name": "stdout",
     "output_type": "stream",
     "text": [
      "Epoch [11], Train Loss : [1.25109] Val Loss : [0.59964] Val F1 Score : [0.79479]\n"
     ]
    },
    {
     "name": "stderr",
     "output_type": "stream",
     "text": [
      "100%|██████████| 148/148 [01:24<00:00,  1.75it/s]\n",
      "100%|██████████| 37/37 [00:07<00:00,  4.68it/s]"
     ]
    },
    {
     "name": "stdout",
     "output_type": "stream",
     "text": [
      "Epoch [12], Train Loss : [1.28596] Val Loss : [0.60163] Val F1 Score : [0.79169]\n"
     ]
    },
    {
     "name": "stderr",
     "output_type": "stream",
     "text": [
      "\n",
      "100%|██████████| 148/148 [01:24<00:00,  1.75it/s]\n",
      "100%|██████████| 37/37 [00:08<00:00,  4.61it/s]"
     ]
    },
    {
     "name": "stdout",
     "output_type": "stream",
     "text": [
      "Epoch [13], Train Loss : [1.32342] Val Loss : [0.69093] Val F1 Score : [0.75857]\n"
     ]
    },
    {
     "name": "stderr",
     "output_type": "stream",
     "text": [
      "\n",
      "100%|██████████| 148/148 [01:24<00:00,  1.75it/s]\n",
      "100%|██████████| 37/37 [00:08<00:00,  4.58it/s]"
     ]
    },
    {
     "name": "stdout",
     "output_type": "stream",
     "text": [
      "Epoch [14], Train Loss : [1.41727] Val Loss : [0.77015] Val F1 Score : [0.74707]\n"
     ]
    },
    {
     "name": "stderr",
     "output_type": "stream",
     "text": [
      "\n",
      "100%|██████████| 148/148 [01:24<00:00,  1.74it/s]\n",
      "100%|██████████| 37/37 [00:08<00:00,  4.52it/s]"
     ]
    },
    {
     "name": "stdout",
     "output_type": "stream",
     "text": [
      "Epoch [15], Train Loss : [1.36329] Val Loss : [0.73526] Val F1 Score : [0.75339]\n"
     ]
    },
    {
     "name": "stderr",
     "output_type": "stream",
     "text": [
      "\n",
      "100%|██████████| 148/148 [01:24<00:00,  1.75it/s]\n",
      "100%|██████████| 37/37 [00:08<00:00,  4.53it/s]"
     ]
    },
    {
     "name": "stdout",
     "output_type": "stream",
     "text": [
      "Epoch [16], Train Loss : [1.37409] Val Loss : [0.65133] Val F1 Score : [0.75839]\n"
     ]
    },
    {
     "name": "stderr",
     "output_type": "stream",
     "text": [
      "\n",
      "100%|██████████| 148/148 [01:24<00:00,  1.75it/s]\n",
      "100%|██████████| 37/37 [00:08<00:00,  4.59it/s]\n"
     ]
    },
    {
     "name": "stdout",
     "output_type": "stream",
     "text": [
      "Epoch [17], Train Loss : [1.26756] Val Loss : [0.57475] Val F1 Score : [0.80075]\n"
     ]
    },
    {
     "name": "stderr",
     "output_type": "stream",
     "text": [
      "100%|██████████| 148/148 [01:24<00:00,  1.75it/s]\n",
      "100%|██████████| 37/37 [00:08<00:00,  4.48it/s]\n"
     ]
    },
    {
     "name": "stdout",
     "output_type": "stream",
     "text": [
      "Epoch [18], Train Loss : [1.09597] Val Loss : [0.54602] Val F1 Score : [0.81667]\n"
     ]
    },
    {
     "name": "stderr",
     "output_type": "stream",
     "text": [
      "100%|██████████| 148/148 [01:24<00:00,  1.74it/s]\n",
      "100%|██████████| 37/37 [00:08<00:00,  4.55it/s]\n"
     ]
    },
    {
     "name": "stdout",
     "output_type": "stream",
     "text": [
      "Epoch [19], Train Loss : [1.12838] Val Loss : [0.51590] Val F1 Score : [0.83023]\n"
     ]
    },
    {
     "name": "stderr",
     "output_type": "stream",
     "text": [
      "100%|██████████| 148/148 [01:24<00:00,  1.75it/s]\n",
      "100%|██████████| 37/37 [00:08<00:00,  4.47it/s]"
     ]
    },
    {
     "name": "stdout",
     "output_type": "stream",
     "text": [
      "Epoch [20], Train Loss : [1.03683] Val Loss : [0.53771] Val F1 Score : [0.78817]\n"
     ]
    },
    {
     "name": "stderr",
     "output_type": "stream",
     "text": [
      "\n",
      "100%|██████████| 148/148 [01:24<00:00,  1.75it/s]\n",
      "100%|██████████| 37/37 [00:08<00:00,  4.57it/s]\n"
     ]
    },
    {
     "name": "stdout",
     "output_type": "stream",
     "text": [
      "Epoch [21], Train Loss : [1.07766] Val Loss : [0.49531] Val F1 Score : [0.83421]\n"
     ]
    },
    {
     "name": "stderr",
     "output_type": "stream",
     "text": [
      "100%|██████████| 148/148 [01:24<00:00,  1.75it/s]\n",
      "100%|██████████| 37/37 [00:08<00:00,  4.61it/s]"
     ]
    },
    {
     "name": "stdout",
     "output_type": "stream",
     "text": [
      "Epoch [22], Train Loss : [1.02865] Val Loss : [0.49457] Val F1 Score : [0.82722]\n"
     ]
    },
    {
     "name": "stderr",
     "output_type": "stream",
     "text": [
      "\n",
      "100%|██████████| 148/148 [01:24<00:00,  1.75it/s]\n",
      "100%|██████████| 37/37 [00:07<00:00,  4.65it/s]"
     ]
    },
    {
     "name": "stdout",
     "output_type": "stream",
     "text": [
      "Epoch [23], Train Loss : [1.07076] Val Loss : [0.52568] Val F1 Score : [0.81530]\n"
     ]
    },
    {
     "name": "stderr",
     "output_type": "stream",
     "text": [
      "\n",
      "100%|██████████| 148/148 [01:24<00:00,  1.75it/s]\n",
      "100%|██████████| 37/37 [00:07<00:00,  4.73it/s]"
     ]
    },
    {
     "name": "stdout",
     "output_type": "stream",
     "text": [
      "Epoch [24], Train Loss : [1.04424] Val Loss : [0.55933] Val F1 Score : [0.80205]\n"
     ]
    },
    {
     "name": "stderr",
     "output_type": "stream",
     "text": [
      "\n",
      "100%|██████████| 148/148 [01:24<00:00,  1.75it/s]\n",
      "100%|██████████| 37/37 [00:08<00:00,  4.43it/s]"
     ]
    },
    {
     "name": "stdout",
     "output_type": "stream",
     "text": [
      "Epoch [25], Train Loss : [1.05237] Val Loss : [0.57070] Val F1 Score : [0.80458]\n"
     ]
    },
    {
     "name": "stderr",
     "output_type": "stream",
     "text": [
      "\n",
      "100%|██████████| 148/148 [01:24<00:00,  1.75it/s]\n",
      "100%|██████████| 37/37 [00:08<00:00,  4.55it/s]"
     ]
    },
    {
     "name": "stdout",
     "output_type": "stream",
     "text": [
      "Epoch [26], Train Loss : [1.08079] Val Loss : [0.53320] Val F1 Score : [0.82125]\n"
     ]
    },
    {
     "name": "stderr",
     "output_type": "stream",
     "text": [
      "\n",
      "100%|██████████| 148/148 [01:24<00:00,  1.75it/s]\n",
      "100%|██████████| 37/37 [00:08<00:00,  4.59it/s]"
     ]
    },
    {
     "name": "stdout",
     "output_type": "stream",
     "text": [
      "Epoch [27], Train Loss : [1.07638] Val Loss : [0.50957] Val F1 Score : [0.82800]\n"
     ]
    },
    {
     "name": "stderr",
     "output_type": "stream",
     "text": [
      "\n",
      "100%|██████████| 148/148 [01:24<00:00,  1.74it/s]\n",
      "100%|██████████| 37/37 [00:08<00:00,  4.56it/s]\n"
     ]
    },
    {
     "name": "stdout",
     "output_type": "stream",
     "text": [
      "Epoch [28], Train Loss : [1.04432] Val Loss : [0.49950] Val F1 Score : [0.83595]\n"
     ]
    },
    {
     "name": "stderr",
     "output_type": "stream",
     "text": [
      "100%|██████████| 148/148 [01:24<00:00,  1.75it/s]\n",
      "100%|██████████| 37/37 [00:08<00:00,  4.48it/s]"
     ]
    },
    {
     "name": "stdout",
     "output_type": "stream",
     "text": [
      "Epoch [29], Train Loss : [0.98458] Val Loss : [0.47795] Val F1 Score : [0.82889]\n"
     ]
    },
    {
     "name": "stderr",
     "output_type": "stream",
     "text": [
      "\n",
      "100%|██████████| 148/148 [01:24<00:00,  1.75it/s]\n",
      "100%|██████████| 37/37 [00:08<00:00,  4.61it/s]\n"
     ]
    },
    {
     "name": "stdout",
     "output_type": "stream",
     "text": [
      "Epoch [30], Train Loss : [0.95280] Val Loss : [0.45913] Val F1 Score : [0.83605]\n"
     ]
    },
    {
     "name": "stderr",
     "output_type": "stream",
     "text": [
      "100%|██████████| 148/148 [01:24<00:00,  1.75it/s]\n",
      "100%|██████████| 37/37 [00:07<00:00,  4.65it/s]\n"
     ]
    },
    {
     "name": "stdout",
     "output_type": "stream",
     "text": [
      "Epoch [31], Train Loss : [0.94425] Val Loss : [0.47687] Val F1 Score : [0.83849]\n"
     ]
    },
    {
     "name": "stderr",
     "output_type": "stream",
     "text": [
      "100%|██████████| 148/148 [01:24<00:00,  1.75it/s]\n",
      "100%|██████████| 37/37 [00:07<00:00,  4.71it/s]"
     ]
    },
    {
     "name": "stdout",
     "output_type": "stream",
     "text": [
      "Epoch [32], Train Loss : [0.95601] Val Loss : [0.48196] Val F1 Score : [0.82799]\n"
     ]
    },
    {
     "name": "stderr",
     "output_type": "stream",
     "text": [
      "\n",
      "100%|██████████| 148/148 [01:24<00:00,  1.74it/s]\n",
      "100%|██████████| 37/37 [00:07<00:00,  4.69it/s]\n"
     ]
    },
    {
     "name": "stdout",
     "output_type": "stream",
     "text": [
      "Epoch [33], Train Loss : [0.97282] Val Loss : [0.46097] Val F1 Score : [0.85514]\n"
     ]
    },
    {
     "name": "stderr",
     "output_type": "stream",
     "text": [
      "100%|██████████| 148/148 [01:24<00:00,  1.75it/s]\n",
      "100%|██████████| 37/37 [00:08<00:00,  4.56it/s]"
     ]
    },
    {
     "name": "stdout",
     "output_type": "stream",
     "text": [
      "Epoch [34], Train Loss : [0.98524] Val Loss : [0.46629] Val F1 Score : [0.83881]\n"
     ]
    },
    {
     "name": "stderr",
     "output_type": "stream",
     "text": [
      "\n",
      "100%|██████████| 148/148 [01:24<00:00,  1.75it/s]\n",
      "100%|██████████| 37/37 [00:08<00:00,  4.52it/s]"
     ]
    },
    {
     "name": "stdout",
     "output_type": "stream",
     "text": [
      "Epoch [35], Train Loss : [0.89877] Val Loss : [0.47789] Val F1 Score : [0.83697]\n"
     ]
    },
    {
     "name": "stderr",
     "output_type": "stream",
     "text": [
      "\n",
      "100%|██████████| 148/148 [01:24<00:00,  1.75it/s]\n",
      "100%|██████████| 37/37 [00:07<00:00,  4.69it/s]"
     ]
    },
    {
     "name": "stdout",
     "output_type": "stream",
     "text": [
      "Epoch [36], Train Loss : [0.94096] Val Loss : [0.45984] Val F1 Score : [0.84149]\n"
     ]
    },
    {
     "name": "stderr",
     "output_type": "stream",
     "text": [
      "\n",
      "100%|██████████| 148/148 [01:24<00:00,  1.75it/s]\n",
      "100%|██████████| 37/37 [00:08<00:00,  4.52it/s]"
     ]
    },
    {
     "name": "stdout",
     "output_type": "stream",
     "text": [
      "Epoch [37], Train Loss : [0.96303] Val Loss : [0.46948] Val F1 Score : [0.83875]\n"
     ]
    },
    {
     "name": "stderr",
     "output_type": "stream",
     "text": [
      "\n",
      "100%|██████████| 148/148 [01:24<00:00,  1.75it/s]\n",
      "100%|██████████| 37/37 [00:08<00:00,  4.57it/s]"
     ]
    },
    {
     "name": "stdout",
     "output_type": "stream",
     "text": [
      "Epoch [38], Train Loss : [0.92037] Val Loss : [0.44634] Val F1 Score : [0.83700]\n"
     ]
    },
    {
     "name": "stderr",
     "output_type": "stream",
     "text": [
      "\n",
      "100%|██████████| 148/148 [01:24<00:00,  1.75it/s]\n",
      "100%|██████████| 37/37 [00:08<00:00,  4.58it/s]"
     ]
    },
    {
     "name": "stdout",
     "output_type": "stream",
     "text": [
      "Epoch [39], Train Loss : [0.90358] Val Loss : [0.48152] Val F1 Score : [0.84345]\n"
     ]
    },
    {
     "name": "stderr",
     "output_type": "stream",
     "text": [
      "\n",
      "100%|██████████| 148/148 [01:24<00:00,  1.75it/s]\n",
      "100%|██████████| 37/37 [00:08<00:00,  4.48it/s]"
     ]
    },
    {
     "name": "stdout",
     "output_type": "stream",
     "text": [
      "Epoch [40], Train Loss : [0.90669] Val Loss : [0.47422] Val F1 Score : [0.82455]\n"
     ]
    },
    {
     "name": "stderr",
     "output_type": "stream",
     "text": [
      "\n",
      "100%|██████████| 148/148 [01:24<00:00,  1.75it/s]\n",
      "100%|██████████| 37/37 [00:07<00:00,  4.66it/s]"
     ]
    },
    {
     "name": "stdout",
     "output_type": "stream",
     "text": [
      "Epoch [41], Train Loss : [0.89837] Val Loss : [0.46941] Val F1 Score : [0.83048]\n"
     ]
    },
    {
     "name": "stderr",
     "output_type": "stream",
     "text": [
      "\n",
      "100%|██████████| 148/148 [01:24<00:00,  1.74it/s]\n",
      "100%|██████████| 37/37 [00:08<00:00,  4.56it/s]"
     ]
    },
    {
     "name": "stdout",
     "output_type": "stream",
     "text": [
      "Epoch [42], Train Loss : [0.92394] Val Loss : [0.46396] Val F1 Score : [0.84395]\n"
     ]
    },
    {
     "name": "stderr",
     "output_type": "stream",
     "text": [
      "\n",
      "100%|██████████| 148/148 [01:24<00:00,  1.75it/s]\n",
      "100%|██████████| 37/37 [00:08<00:00,  4.62it/s]"
     ]
    },
    {
     "name": "stdout",
     "output_type": "stream",
     "text": [
      "Epoch [43], Train Loss : [0.87940] Val Loss : [0.45995] Val F1 Score : [0.83332]\n"
     ]
    },
    {
     "name": "stderr",
     "output_type": "stream",
     "text": [
      "\n",
      "100%|██████████| 148/148 [01:24<00:00,  1.75it/s]\n",
      "100%|██████████| 37/37 [00:08<00:00,  4.48it/s]"
     ]
    },
    {
     "name": "stdout",
     "output_type": "stream",
     "text": [
      "Epoch [44], Train Loss : [0.90453] Val Loss : [0.43730] Val F1 Score : [0.84681]\n",
      "Early Stopping...\n"
     ]
    },
    {
     "name": "stderr",
     "output_type": "stream",
     "text": [
      "\n"
     ]
    },
    {
     "name": "stdout",
     "output_type": "stream",
     "text": [
      "LR SCALES: [1.0, 1.0, 1.0, 1.0, 1.0, 1.0, 1.0, 1.0, 1.0, 1.0, 1.0, 1.0]\n"
     ]
    },
    {
     "name": "stderr",
     "output_type": "stream",
     "text": [
      "100%|██████████| 148/148 [01:24<00:00,  1.75it/s]\n",
      "100%|██████████| 37/37 [00:08<00:00,  4.55it/s]\n"
     ]
    },
    {
     "name": "stdout",
     "output_type": "stream",
     "text": [
      "Epoch [1], Train Loss : [4.20019] Val Loss : [4.21908] Val F1 Score : [0.00837]\n"
     ]
    },
    {
     "name": "stderr",
     "output_type": "stream",
     "text": [
      "100%|██████████| 148/148 [01:24<00:00,  1.74it/s]\n",
      "100%|██████████| 37/37 [00:08<00:00,  4.53it/s]\n"
     ]
    },
    {
     "name": "stdout",
     "output_type": "stream",
     "text": [
      "Epoch [2], Train Loss : [2.86795] Val Loss : [1.52919] Val F1 Score : [0.49449]\n"
     ]
    },
    {
     "name": "stderr",
     "output_type": "stream",
     "text": [
      "100%|██████████| 148/148 [01:24<00:00,  1.74it/s]\n",
      "100%|██████████| 37/37 [00:07<00:00,  4.71it/s]\n"
     ]
    },
    {
     "name": "stdout",
     "output_type": "stream",
     "text": [
      "Epoch [3], Train Loss : [2.38553] Val Loss : [1.41631] Val F1 Score : [0.51171]\n"
     ]
    },
    {
     "name": "stderr",
     "output_type": "stream",
     "text": [
      "100%|██████████| 148/148 [01:24<00:00,  1.75it/s]\n",
      "100%|██████████| 37/37 [00:07<00:00,  4.63it/s]"
     ]
    },
    {
     "name": "stdout",
     "output_type": "stream",
     "text": [
      "Epoch [4], Train Loss : [2.29208] Val Loss : [1.54114] Val F1 Score : [0.48750]\n"
     ]
    },
    {
     "name": "stderr",
     "output_type": "stream",
     "text": [
      "\n",
      "100%|██████████| 148/148 [01:24<00:00,  1.75it/s]\n",
      "100%|██████████| 37/37 [00:07<00:00,  4.67it/s]\n"
     ]
    },
    {
     "name": "stdout",
     "output_type": "stream",
     "text": [
      "Epoch [5], Train Loss : [2.11219] Val Loss : [1.19858] Val F1 Score : [0.58566]\n"
     ]
    },
    {
     "name": "stderr",
     "output_type": "stream",
     "text": [
      "100%|██████████| 148/148 [01:24<00:00,  1.75it/s]\n",
      "100%|██████████| 37/37 [00:07<00:00,  4.68it/s]\n"
     ]
    },
    {
     "name": "stdout",
     "output_type": "stream",
     "text": [
      "Epoch [6], Train Loss : [1.98723] Val Loss : [1.02843] Val F1 Score : [0.66505]\n"
     ]
    },
    {
     "name": "stderr",
     "output_type": "stream",
     "text": [
      "100%|██████████| 148/148 [01:24<00:00,  1.75it/s]\n",
      "100%|██████████| 37/37 [00:08<00:00,  4.62it/s]\n"
     ]
    },
    {
     "name": "stdout",
     "output_type": "stream",
     "text": [
      "Epoch [7], Train Loss : [1.69924] Val Loss : [0.87278] Val F1 Score : [0.70548]\n"
     ]
    },
    {
     "name": "stderr",
     "output_type": "stream",
     "text": [
      "100%|██████████| 148/148 [01:24<00:00,  1.74it/s]\n",
      "100%|██████████| 37/37 [00:07<00:00,  4.68it/s]\n"
     ]
    },
    {
     "name": "stdout",
     "output_type": "stream",
     "text": [
      "Epoch [8], Train Loss : [1.46539] Val Loss : [0.74958] Val F1 Score : [0.75340]\n"
     ]
    },
    {
     "name": "stderr",
     "output_type": "stream",
     "text": [
      "100%|██████████| 148/148 [01:24<00:00,  1.75it/s]\n",
      "100%|██████████| 37/37 [00:07<00:00,  4.68it/s]\n"
     ]
    },
    {
     "name": "stdout",
     "output_type": "stream",
     "text": [
      "Epoch [9], Train Loss : [1.34705] Val Loss : [0.64380] Val F1 Score : [0.77565]\n"
     ]
    },
    {
     "name": "stderr",
     "output_type": "stream",
     "text": [
      "100%|██████████| 148/148 [01:24<00:00,  1.75it/s]\n",
      "100%|██████████| 37/37 [00:07<00:00,  4.64it/s]\n"
     ]
    },
    {
     "name": "stdout",
     "output_type": "stream",
     "text": [
      "Epoch [10], Train Loss : [1.29736] Val Loss : [0.60072] Val F1 Score : [0.78363]\n"
     ]
    },
    {
     "name": "stderr",
     "output_type": "stream",
     "text": [
      "100%|██████████| 148/148 [01:24<00:00,  1.75it/s]\n",
      "100%|██████████| 37/37 [00:07<00:00,  4.67it/s]\n"
     ]
    },
    {
     "name": "stdout",
     "output_type": "stream",
     "text": [
      "Epoch [11], Train Loss : [1.26249] Val Loss : [0.61414] Val F1 Score : [0.78749]\n"
     ]
    },
    {
     "name": "stderr",
     "output_type": "stream",
     "text": [
      "100%|██████████| 148/148 [01:24<00:00,  1.75it/s]\n",
      "100%|██████████| 37/37 [00:07<00:00,  4.65it/s]\n"
     ]
    },
    {
     "name": "stdout",
     "output_type": "stream",
     "text": [
      "Epoch [12], Train Loss : [1.31250] Val Loss : [0.62601] Val F1 Score : [0.79138]\n"
     ]
    },
    {
     "name": "stderr",
     "output_type": "stream",
     "text": [
      "100%|██████████| 148/148 [01:24<00:00,  1.75it/s]\n",
      "100%|██████████| 37/37 [00:07<00:00,  4.69it/s]"
     ]
    },
    {
     "name": "stdout",
     "output_type": "stream",
     "text": [
      "Epoch [13], Train Loss : [1.35978] Val Loss : [0.68102] Val F1 Score : [0.76783]\n"
     ]
    },
    {
     "name": "stderr",
     "output_type": "stream",
     "text": [
      "\n",
      "100%|██████████| 148/148 [01:24<00:00,  1.75it/s]\n",
      "100%|██████████| 37/37 [00:08<00:00,  4.56it/s]"
     ]
    },
    {
     "name": "stdout",
     "output_type": "stream",
     "text": [
      "Epoch [14], Train Loss : [1.41425] Val Loss : [0.72471] Val F1 Score : [0.75027]\n"
     ]
    },
    {
     "name": "stderr",
     "output_type": "stream",
     "text": [
      "\n",
      "100%|██████████| 148/148 [01:24<00:00,  1.74it/s]\n",
      "100%|██████████| 37/37 [00:08<00:00,  4.53it/s]"
     ]
    },
    {
     "name": "stdout",
     "output_type": "stream",
     "text": [
      "Epoch [15], Train Loss : [1.39529] Val Loss : [0.71035] Val F1 Score : [0.76502]\n"
     ]
    },
    {
     "name": "stderr",
     "output_type": "stream",
     "text": [
      "\n",
      "100%|██████████| 148/148 [01:24<00:00,  1.75it/s]\n",
      "100%|██████████| 37/37 [00:07<00:00,  4.66it/s]"
     ]
    },
    {
     "name": "stdout",
     "output_type": "stream",
     "text": [
      "Epoch [16], Train Loss : [1.31558] Val Loss : [0.68801] Val F1 Score : [0.77742]\n"
     ]
    },
    {
     "name": "stderr",
     "output_type": "stream",
     "text": [
      "\n",
      "100%|██████████| 148/148 [01:24<00:00,  1.75it/s]\n",
      "100%|██████████| 37/37 [00:07<00:00,  4.74it/s]\n"
     ]
    },
    {
     "name": "stdout",
     "output_type": "stream",
     "text": [
      "Epoch [17], Train Loss : [1.21840] Val Loss : [0.60861] Val F1 Score : [0.79160]\n"
     ]
    },
    {
     "name": "stderr",
     "output_type": "stream",
     "text": [
      "100%|██████████| 148/148 [01:24<00:00,  1.75it/s]\n",
      "100%|██████████| 37/37 [00:08<00:00,  4.59it/s]\n"
     ]
    },
    {
     "name": "stdout",
     "output_type": "stream",
     "text": [
      "Epoch [18], Train Loss : [1.18086] Val Loss : [0.58273] Val F1 Score : [0.79377]\n"
     ]
    },
    {
     "name": "stderr",
     "output_type": "stream",
     "text": [
      "100%|██████████| 148/148 [01:24<00:00,  1.75it/s]\n",
      "100%|██████████| 37/37 [00:07<00:00,  4.65it/s]"
     ]
    },
    {
     "name": "stdout",
     "output_type": "stream",
     "text": [
      "Epoch [19], Train Loss : [1.10492] Val Loss : [0.55023] Val F1 Score : [0.78323]\n"
     ]
    },
    {
     "name": "stderr",
     "output_type": "stream",
     "text": [
      "\n",
      "100%|██████████| 148/148 [01:24<00:00,  1.74it/s]\n",
      "100%|██████████| 37/37 [00:07<00:00,  4.67it/s]\n"
     ]
    },
    {
     "name": "stdout",
     "output_type": "stream",
     "text": [
      "Epoch [20], Train Loss : [1.00555] Val Loss : [0.53188] Val F1 Score : [0.80537]\n"
     ]
    },
    {
     "name": "stderr",
     "output_type": "stream",
     "text": [
      "100%|██████████| 148/148 [01:25<00:00,  1.74it/s]\n",
      "100%|██████████| 37/37 [00:07<00:00,  4.72it/s]\n"
     ]
    },
    {
     "name": "stdout",
     "output_type": "stream",
     "text": [
      "Epoch [21], Train Loss : [1.04046] Val Loss : [0.49293] Val F1 Score : [0.81937]\n"
     ]
    },
    {
     "name": "stderr",
     "output_type": "stream",
     "text": [
      "100%|██████████| 148/148 [01:24<00:00,  1.75it/s]\n",
      "100%|██████████| 37/37 [00:07<00:00,  4.73it/s]"
     ]
    },
    {
     "name": "stdout",
     "output_type": "stream",
     "text": [
      "Epoch [22], Train Loss : [1.03959] Val Loss : [0.52065] Val F1 Score : [0.81873]\n"
     ]
    },
    {
     "name": "stderr",
     "output_type": "stream",
     "text": [
      "\n",
      "100%|██████████| 148/148 [01:24<00:00,  1.75it/s]\n",
      "100%|██████████| 37/37 [00:08<00:00,  4.59it/s]"
     ]
    },
    {
     "name": "stdout",
     "output_type": "stream",
     "text": [
      "Epoch [23], Train Loss : [1.05484] Val Loss : [0.54222] Val F1 Score : [0.80222]\n"
     ]
    },
    {
     "name": "stderr",
     "output_type": "stream",
     "text": [
      "\n",
      "100%|██████████| 148/148 [01:24<00:00,  1.75it/s]\n",
      "100%|██████████| 37/37 [00:07<00:00,  4.68it/s]"
     ]
    },
    {
     "name": "stdout",
     "output_type": "stream",
     "text": [
      "Epoch [24], Train Loss : [1.13478] Val Loss : [0.57854] Val F1 Score : [0.80338]\n"
     ]
    },
    {
     "name": "stderr",
     "output_type": "stream",
     "text": [
      "\n",
      "100%|██████████| 148/148 [01:24<00:00,  1.75it/s]\n",
      "100%|██████████| 37/37 [00:08<00:00,  4.58it/s]"
     ]
    },
    {
     "name": "stdout",
     "output_type": "stream",
     "text": [
      "Epoch [25], Train Loss : [1.09966] Val Loss : [0.52747] Val F1 Score : [0.80017]\n"
     ]
    },
    {
     "name": "stderr",
     "output_type": "stream",
     "text": [
      "\n",
      "100%|██████████| 148/148 [01:24<00:00,  1.75it/s]\n",
      "100%|██████████| 37/37 [00:07<00:00,  4.68it/s]\n"
     ]
    },
    {
     "name": "stdout",
     "output_type": "stream",
     "text": [
      "Epoch [26], Train Loss : [1.03916] Val Loss : [0.50846] Val F1 Score : [0.82124]\n"
     ]
    },
    {
     "name": "stderr",
     "output_type": "stream",
     "text": [
      "100%|██████████| 148/148 [01:24<00:00,  1.75it/s]\n",
      "100%|██████████| 37/37 [00:08<00:00,  4.62it/s]"
     ]
    },
    {
     "name": "stdout",
     "output_type": "stream",
     "text": [
      "Epoch [27], Train Loss : [1.00537] Val Loss : [0.52240] Val F1 Score : [0.81761]\n"
     ]
    },
    {
     "name": "stderr",
     "output_type": "stream",
     "text": [
      "\n",
      "100%|██████████| 148/148 [01:24<00:00,  1.76it/s]\n",
      "100%|██████████| 37/37 [00:08<00:00,  4.54it/s]\n"
     ]
    },
    {
     "name": "stdout",
     "output_type": "stream",
     "text": [
      "Epoch [28], Train Loss : [1.01459] Val Loss : [0.47324] Val F1 Score : [0.82418]\n"
     ]
    },
    {
     "name": "stderr",
     "output_type": "stream",
     "text": [
      "100%|██████████| 148/148 [01:24<00:00,  1.74it/s]\n",
      "100%|██████████| 37/37 [00:07<00:00,  4.72it/s]\n"
     ]
    },
    {
     "name": "stdout",
     "output_type": "stream",
     "text": [
      "Epoch [29], Train Loss : [0.95230] Val Loss : [0.47769] Val F1 Score : [0.83586]\n"
     ]
    },
    {
     "name": "stderr",
     "output_type": "stream",
     "text": [
      "100%|██████████| 148/148 [01:24<00:00,  1.75it/s]\n",
      "100%|██████████| 37/37 [00:07<00:00,  4.77it/s]"
     ]
    },
    {
     "name": "stdout",
     "output_type": "stream",
     "text": [
      "Epoch [30], Train Loss : [0.92645] Val Loss : [0.48489] Val F1 Score : [0.82900]\n"
     ]
    },
    {
     "name": "stderr",
     "output_type": "stream",
     "text": [
      "\n",
      "100%|██████████| 148/148 [01:24<00:00,  1.75it/s]\n",
      "100%|██████████| 37/37 [00:08<00:00,  4.58it/s]\n"
     ]
    },
    {
     "name": "stdout",
     "output_type": "stream",
     "text": [
      "Epoch [31], Train Loss : [0.90832] Val Loss : [0.49137] Val F1 Score : [0.83973]\n"
     ]
    },
    {
     "name": "stderr",
     "output_type": "stream",
     "text": [
      "100%|██████████| 148/148 [01:24<00:00,  1.74it/s]\n",
      "100%|██████████| 37/37 [00:08<00:00,  4.57it/s]"
     ]
    },
    {
     "name": "stdout",
     "output_type": "stream",
     "text": [
      "Epoch [32], Train Loss : [0.94861] Val Loss : [0.49680] Val F1 Score : [0.82348]\n"
     ]
    },
    {
     "name": "stderr",
     "output_type": "stream",
     "text": [
      "\n",
      "100%|██████████| 148/148 [01:24<00:00,  1.75it/s]\n",
      "100%|██████████| 37/37 [00:07<00:00,  4.71it/s]"
     ]
    },
    {
     "name": "stdout",
     "output_type": "stream",
     "text": [
      "Epoch [33], Train Loss : [0.89648] Val Loss : [0.48765] Val F1 Score : [0.82221]\n"
     ]
    },
    {
     "name": "stderr",
     "output_type": "stream",
     "text": [
      "\n",
      "100%|██████████| 148/148 [01:24<00:00,  1.75it/s]\n",
      "100%|██████████| 37/37 [00:07<00:00,  4.68it/s]"
     ]
    },
    {
     "name": "stdout",
     "output_type": "stream",
     "text": [
      "Epoch [34], Train Loss : [0.94649] Val Loss : [0.50019] Val F1 Score : [0.82565]\n"
     ]
    },
    {
     "name": "stderr",
     "output_type": "stream",
     "text": [
      "\n",
      "100%|██████████| 148/148 [01:24<00:00,  1.75it/s]\n",
      "100%|██████████| 37/37 [00:07<00:00,  4.69it/s]"
     ]
    },
    {
     "name": "stdout",
     "output_type": "stream",
     "text": [
      "Epoch [35], Train Loss : [0.93150] Val Loss : [0.50449] Val F1 Score : [0.82552]\n"
     ]
    },
    {
     "name": "stderr",
     "output_type": "stream",
     "text": [
      "\n",
      "100%|██████████| 148/148 [01:24<00:00,  1.75it/s]\n",
      "100%|██████████| 37/37 [00:08<00:00,  4.62it/s]\n"
     ]
    },
    {
     "name": "stdout",
     "output_type": "stream",
     "text": [
      "Epoch [36], Train Loss : [0.92080] Val Loss : [0.49512] Val F1 Score : [0.84306]\n"
     ]
    },
    {
     "name": "stderr",
     "output_type": "stream",
     "text": [
      "100%|██████████| 148/148 [01:24<00:00,  1.75it/s]\n",
      "100%|██████████| 37/37 [00:07<00:00,  4.68it/s]"
     ]
    },
    {
     "name": "stdout",
     "output_type": "stream",
     "text": [
      "Epoch [37], Train Loss : [0.93299] Val Loss : [0.50750] Val F1 Score : [0.80975]\n"
     ]
    },
    {
     "name": "stderr",
     "output_type": "stream",
     "text": [
      "\n",
      "100%|██████████| 148/148 [01:24<00:00,  1.75it/s]\n",
      "100%|██████████| 37/37 [00:07<00:00,  4.70it/s]"
     ]
    },
    {
     "name": "stdout",
     "output_type": "stream",
     "text": [
      "Epoch [38], Train Loss : [0.90378] Val Loss : [0.45826] Val F1 Score : [0.82754]\n"
     ]
    },
    {
     "name": "stderr",
     "output_type": "stream",
     "text": [
      "\n",
      "100%|██████████| 148/148 [01:24<00:00,  1.74it/s]\n",
      "100%|██████████| 37/37 [00:08<00:00,  4.60it/s]"
     ]
    },
    {
     "name": "stdout",
     "output_type": "stream",
     "text": [
      "Epoch [39], Train Loss : [0.94285] Val Loss : [0.46091] Val F1 Score : [0.82775]\n"
     ]
    },
    {
     "name": "stderr",
     "output_type": "stream",
     "text": [
      "\n",
      "100%|██████████| 148/148 [01:24<00:00,  1.75it/s]\n",
      "100%|██████████| 37/37 [00:07<00:00,  4.64it/s]"
     ]
    },
    {
     "name": "stdout",
     "output_type": "stream",
     "text": [
      "Epoch [40], Train Loss : [0.90144] Val Loss : [0.47704] Val F1 Score : [0.83272]\n"
     ]
    },
    {
     "name": "stderr",
     "output_type": "stream",
     "text": [
      "\n",
      "100%|██████████| 148/148 [01:24<00:00,  1.75it/s]\n",
      "100%|██████████| 37/37 [00:07<00:00,  4.72it/s]"
     ]
    },
    {
     "name": "stdout",
     "output_type": "stream",
     "text": [
      "Epoch [41], Train Loss : [0.88613] Val Loss : [0.49023] Val F1 Score : [0.82961]\n"
     ]
    },
    {
     "name": "stderr",
     "output_type": "stream",
     "text": [
      "\n",
      "100%|██████████| 148/148 [01:24<00:00,  1.75it/s]\n",
      "100%|██████████| 37/37 [00:08<00:00,  4.56it/s]"
     ]
    },
    {
     "name": "stdout",
     "output_type": "stream",
     "text": [
      "Epoch [42], Train Loss : [0.87801] Val Loss : [0.47268] Val F1 Score : [0.82497]\n"
     ]
    },
    {
     "name": "stderr",
     "output_type": "stream",
     "text": [
      "\n",
      "100%|██████████| 148/148 [01:24<00:00,  1.75it/s]\n",
      "100%|██████████| 37/37 [00:07<00:00,  4.63it/s]"
     ]
    },
    {
     "name": "stdout",
     "output_type": "stream",
     "text": [
      "Epoch [43], Train Loss : [0.83927] Val Loss : [0.47247] Val F1 Score : [0.82321]\n"
     ]
    },
    {
     "name": "stderr",
     "output_type": "stream",
     "text": [
      "\n",
      "100%|██████████| 148/148 [01:24<00:00,  1.75it/s]\n",
      "100%|██████████| 37/37 [00:07<00:00,  4.66it/s]"
     ]
    },
    {
     "name": "stdout",
     "output_type": "stream",
     "text": [
      "Epoch [44], Train Loss : [0.86741] Val Loss : [0.45485] Val F1 Score : [0.83531]\n"
     ]
    },
    {
     "name": "stderr",
     "output_type": "stream",
     "text": [
      "\n",
      "100%|██████████| 148/148 [01:24<00:00,  1.75it/s]\n",
      "100%|██████████| 37/37 [00:08<00:00,  4.59it/s]"
     ]
    },
    {
     "name": "stdout",
     "output_type": "stream",
     "text": [
      "Epoch [45], Train Loss : [0.87804] Val Loss : [0.44805] Val F1 Score : [0.83203]\n"
     ]
    },
    {
     "name": "stderr",
     "output_type": "stream",
     "text": [
      "\n",
      "100%|██████████| 148/148 [01:24<00:00,  1.75it/s]\n",
      "100%|██████████| 37/37 [00:07<00:00,  4.66it/s]"
     ]
    },
    {
     "name": "stdout",
     "output_type": "stream",
     "text": [
      "Epoch [46], Train Loss : [0.89535] Val Loss : [0.46640] Val F1 Score : [0.83391]\n"
     ]
    },
    {
     "name": "stderr",
     "output_type": "stream",
     "text": [
      "\n",
      "100%|██████████| 148/148 [01:24<00:00,  1.75it/s]\n",
      "100%|██████████| 37/37 [00:07<00:00,  4.72it/s]"
     ]
    },
    {
     "name": "stdout",
     "output_type": "stream",
     "text": [
      "Epoch [47], Train Loss : [0.86522] Val Loss : [0.45493] Val F1 Score : [0.82775]\n",
      "Early Stopping...\n"
     ]
    },
    {
     "name": "stderr",
     "output_type": "stream",
     "text": [
      "\n"
     ]
    },
    {
     "name": "stdout",
     "output_type": "stream",
     "text": [
      "LR SCALES: [1.0, 1.0, 1.0, 1.0, 1.0, 1.0, 1.0, 1.0, 1.0, 1.0, 1.0, 1.0]\n"
     ]
    },
    {
     "name": "stderr",
     "output_type": "stream",
     "text": [
      "100%|██████████| 148/148 [01:24<00:00,  1.75it/s]\n",
      "100%|██████████| 37/37 [00:07<00:00,  4.65it/s]\n"
     ]
    },
    {
     "name": "stdout",
     "output_type": "stream",
     "text": [
      "Epoch [1], Train Loss : [4.21424] Val Loss : [4.22269] Val F1 Score : [0.01217]\n"
     ]
    },
    {
     "name": "stderr",
     "output_type": "stream",
     "text": [
      "100%|██████████| 148/148 [01:24<00:00,  1.75it/s]\n",
      "100%|██████████| 37/37 [00:07<00:00,  4.66it/s]\n"
     ]
    },
    {
     "name": "stdout",
     "output_type": "stream",
     "text": [
      "Epoch [2], Train Loss : [2.83785] Val Loss : [1.48515] Val F1 Score : [0.51455]\n"
     ]
    },
    {
     "name": "stderr",
     "output_type": "stream",
     "text": [
      "100%|██████████| 148/148 [01:24<00:00,  1.75it/s]\n",
      "100%|██████████| 37/37 [00:07<00:00,  4.69it/s]"
     ]
    },
    {
     "name": "stdout",
     "output_type": "stream",
     "text": [
      "Epoch [3], Train Loss : [2.35538] Val Loss : [1.48432] Val F1 Score : [0.50421]\n"
     ]
    },
    {
     "name": "stderr",
     "output_type": "stream",
     "text": [
      "\n",
      "100%|██████████| 148/148 [01:24<00:00,  1.75it/s]\n",
      "100%|██████████| 37/37 [00:08<00:00,  4.57it/s]\n"
     ]
    },
    {
     "name": "stdout",
     "output_type": "stream",
     "text": [
      "Epoch [4], Train Loss : [2.25036] Val Loss : [1.36704] Val F1 Score : [0.55712]\n"
     ]
    },
    {
     "name": "stderr",
     "output_type": "stream",
     "text": [
      "100%|██████████| 148/148 [01:24<00:00,  1.75it/s]\n",
      "100%|██████████| 37/37 [00:07<00:00,  4.65it/s]\n"
     ]
    },
    {
     "name": "stdout",
     "output_type": "stream",
     "text": [
      "Epoch [5], Train Loss : [2.06042] Val Loss : [1.25003] Val F1 Score : [0.59402]\n"
     ]
    },
    {
     "name": "stderr",
     "output_type": "stream",
     "text": [
      "100%|██████████| 148/148 [01:24<00:00,  1.75it/s]\n",
      "100%|██████████| 37/37 [00:08<00:00,  4.53it/s]\n"
     ]
    },
    {
     "name": "stdout",
     "output_type": "stream",
     "text": [
      "Epoch [6], Train Loss : [1.82976] Val Loss : [1.01136] Val F1 Score : [0.64488]\n"
     ]
    },
    {
     "name": "stderr",
     "output_type": "stream",
     "text": [
      "100%|██████████| 148/148 [01:24<00:00,  1.75it/s]\n",
      "100%|██████████| 37/37 [00:07<00:00,  4.69it/s]\n"
     ]
    },
    {
     "name": "stdout",
     "output_type": "stream",
     "text": [
      "Epoch [7], Train Loss : [1.67536] Val Loss : [0.88636] Val F1 Score : [0.69520]\n"
     ]
    },
    {
     "name": "stderr",
     "output_type": "stream",
     "text": [
      "100%|██████████| 148/148 [01:24<00:00,  1.75it/s]\n",
      "100%|██████████| 37/37 [00:08<00:00,  4.47it/s]\n"
     ]
    },
    {
     "name": "stdout",
     "output_type": "stream",
     "text": [
      "Epoch [8], Train Loss : [1.44746] Val Loss : [0.74308] Val F1 Score : [0.73515]\n"
     ]
    },
    {
     "name": "stderr",
     "output_type": "stream",
     "text": [
      "100%|██████████| 148/148 [01:24<00:00,  1.75it/s]\n",
      "100%|██████████| 37/37 [00:08<00:00,  4.59it/s]\n"
     ]
    },
    {
     "name": "stdout",
     "output_type": "stream",
     "text": [
      "Epoch [9], Train Loss : [1.28062] Val Loss : [0.62243] Val F1 Score : [0.77748]\n"
     ]
    },
    {
     "name": "stderr",
     "output_type": "stream",
     "text": [
      "100%|██████████| 148/148 [01:24<00:00,  1.74it/s]\n",
      "100%|██████████| 37/37 [00:08<00:00,  4.50it/s]"
     ]
    },
    {
     "name": "stdout",
     "output_type": "stream",
     "text": [
      "Epoch [10], Train Loss : [1.28961] Val Loss : [0.60080] Val F1 Score : [0.76542]\n"
     ]
    },
    {
     "name": "stderr",
     "output_type": "stream",
     "text": [
      "\n",
      "100%|██████████| 148/148 [01:24<00:00,  1.75it/s]\n",
      "100%|██████████| 37/37 [00:08<00:00,  4.55it/s]\n"
     ]
    },
    {
     "name": "stdout",
     "output_type": "stream",
     "text": [
      "Epoch [11], Train Loss : [1.25027] Val Loss : [0.58056] Val F1 Score : [0.79205]\n"
     ]
    },
    {
     "name": "stderr",
     "output_type": "stream",
     "text": [
      "100%|██████████| 148/148 [01:24<00:00,  1.75it/s]\n",
      "100%|██████████| 37/37 [00:08<00:00,  4.55it/s]"
     ]
    },
    {
     "name": "stdout",
     "output_type": "stream",
     "text": [
      "Epoch [12], Train Loss : [1.27345] Val Loss : [0.58405] Val F1 Score : [0.76848]\n"
     ]
    },
    {
     "name": "stderr",
     "output_type": "stream",
     "text": [
      "\n",
      "100%|██████████| 148/148 [01:24<00:00,  1.75it/s]\n",
      "100%|██████████| 37/37 [00:07<00:00,  4.70it/s]"
     ]
    },
    {
     "name": "stdout",
     "output_type": "stream",
     "text": [
      "Epoch [13], Train Loss : [1.29022] Val Loss : [0.64764] Val F1 Score : [0.77797]\n"
     ]
    },
    {
     "name": "stderr",
     "output_type": "stream",
     "text": [
      "\n",
      "100%|██████████| 148/148 [01:24<00:00,  1.75it/s]\n",
      "100%|██████████| 37/37 [00:08<00:00,  4.62it/s]"
     ]
    },
    {
     "name": "stdout",
     "output_type": "stream",
     "text": [
      "Epoch [14], Train Loss : [1.33469] Val Loss : [0.75987] Val F1 Score : [0.73104]\n"
     ]
    },
    {
     "name": "stderr",
     "output_type": "stream",
     "text": [
      "\n",
      "100%|██████████| 148/148 [01:24<00:00,  1.75it/s]\n",
      "100%|██████████| 37/37 [00:08<00:00,  4.59it/s]"
     ]
    },
    {
     "name": "stdout",
     "output_type": "stream",
     "text": [
      "Epoch [15], Train Loss : [1.34519] Val Loss : [0.71756] Val F1 Score : [0.76372]\n"
     ]
    },
    {
     "name": "stderr",
     "output_type": "stream",
     "text": [
      "\n",
      "100%|██████████| 148/148 [01:24<00:00,  1.75it/s]\n",
      "100%|██████████| 37/37 [00:07<00:00,  4.72it/s]"
     ]
    },
    {
     "name": "stdout",
     "output_type": "stream",
     "text": [
      "Epoch [16], Train Loss : [1.31324] Val Loss : [0.66742] Val F1 Score : [0.78518]\n"
     ]
    },
    {
     "name": "stderr",
     "output_type": "stream",
     "text": [
      "\n",
      "100%|██████████| 148/148 [01:24<00:00,  1.75it/s]\n",
      "100%|██████████| 37/37 [00:08<00:00,  4.56it/s]"
     ]
    },
    {
     "name": "stdout",
     "output_type": "stream",
     "text": [
      "Epoch [17], Train Loss : [1.25312] Val Loss : [0.59025] Val F1 Score : [0.78437]\n"
     ]
    },
    {
     "name": "stderr",
     "output_type": "stream",
     "text": [
      "\n",
      "100%|██████████| 148/148 [01:24<00:00,  1.75it/s]\n",
      "100%|██████████| 37/37 [00:07<00:00,  4.70it/s]\n"
     ]
    },
    {
     "name": "stdout",
     "output_type": "stream",
     "text": [
      "Epoch [18], Train Loss : [1.14827] Val Loss : [0.53435] Val F1 Score : [0.82642]\n"
     ]
    },
    {
     "name": "stderr",
     "output_type": "stream",
     "text": [
      "100%|██████████| 148/148 [01:24<00:00,  1.75it/s]\n",
      "100%|██████████| 37/37 [00:07<00:00,  4.65it/s]\n"
     ]
    },
    {
     "name": "stdout",
     "output_type": "stream",
     "text": [
      "Epoch [19], Train Loss : [1.06514] Val Loss : [0.52860] Val F1 Score : [0.82856]\n"
     ]
    },
    {
     "name": "stderr",
     "output_type": "stream",
     "text": [
      "100%|██████████| 148/148 [01:24<00:00,  1.75it/s]\n",
      "100%|██████████| 37/37 [00:08<00:00,  4.55it/s]\n"
     ]
    },
    {
     "name": "stdout",
     "output_type": "stream",
     "text": [
      "Epoch [20], Train Loss : [0.99633] Val Loss : [0.50895] Val F1 Score : [0.83160]\n"
     ]
    },
    {
     "name": "stderr",
     "output_type": "stream",
     "text": [
      "100%|██████████| 148/148 [01:24<00:00,  1.75it/s]\n",
      "100%|██████████| 37/37 [00:07<00:00,  4.68it/s]"
     ]
    },
    {
     "name": "stdout",
     "output_type": "stream",
     "text": [
      "Epoch [21], Train Loss : [1.01543] Val Loss : [0.53000] Val F1 Score : [0.80963]\n"
     ]
    },
    {
     "name": "stderr",
     "output_type": "stream",
     "text": [
      "\n",
      "100%|██████████| 148/148 [01:24<00:00,  1.75it/s]\n",
      "100%|██████████| 37/37 [00:07<00:00,  4.72it/s]"
     ]
    },
    {
     "name": "stdout",
     "output_type": "stream",
     "text": [
      "Epoch [22], Train Loss : [1.01481] Val Loss : [0.50779] Val F1 Score : [0.82548]\n"
     ]
    },
    {
     "name": "stderr",
     "output_type": "stream",
     "text": [
      "\n",
      "100%|██████████| 148/148 [01:24<00:00,  1.75it/s]\n",
      "100%|██████████| 37/37 [00:08<00:00,  4.59it/s]"
     ]
    },
    {
     "name": "stdout",
     "output_type": "stream",
     "text": [
      "Epoch [23], Train Loss : [1.02597] Val Loss : [0.52257] Val F1 Score : [0.81585]\n"
     ]
    },
    {
     "name": "stderr",
     "output_type": "stream",
     "text": [
      "\n",
      "100%|██████████| 148/148 [01:24<00:00,  1.75it/s]\n",
      "100%|██████████| 37/37 [00:08<00:00,  4.55it/s]"
     ]
    },
    {
     "name": "stdout",
     "output_type": "stream",
     "text": [
      "Epoch [24], Train Loss : [1.06823] Val Loss : [0.53630] Val F1 Score : [0.82157]\n"
     ]
    },
    {
     "name": "stderr",
     "output_type": "stream",
     "text": [
      "\n",
      "100%|██████████| 148/148 [01:24<00:00,  1.75it/s]\n",
      "100%|██████████| 37/37 [00:07<00:00,  4.69it/s]"
     ]
    },
    {
     "name": "stdout",
     "output_type": "stream",
     "text": [
      "Epoch [25], Train Loss : [1.05403] Val Loss : [0.53608] Val F1 Score : [0.81489]\n"
     ]
    },
    {
     "name": "stderr",
     "output_type": "stream",
     "text": [
      "\n",
      "100%|██████████| 148/148 [01:24<00:00,  1.75it/s]\n",
      "100%|██████████| 37/37 [00:07<00:00,  4.67it/s]"
     ]
    },
    {
     "name": "stdout",
     "output_type": "stream",
     "text": [
      "Epoch [26], Train Loss : [1.04747] Val Loss : [0.54637] Val F1 Score : [0.80717]\n"
     ]
    },
    {
     "name": "stderr",
     "output_type": "stream",
     "text": [
      "\n",
      "100%|██████████| 148/148 [01:24<00:00,  1.75it/s]\n",
      "100%|██████████| 37/37 [00:08<00:00,  4.53it/s]"
     ]
    },
    {
     "name": "stdout",
     "output_type": "stream",
     "text": [
      "Epoch [27], Train Loss : [1.03324] Val Loss : [0.48662] Val F1 Score : [0.81301]\n"
     ]
    },
    {
     "name": "stderr",
     "output_type": "stream",
     "text": [
      "\n",
      "100%|██████████| 148/148 [01:24<00:00,  1.74it/s]\n",
      "100%|██████████| 37/37 [00:07<00:00,  4.70it/s]"
     ]
    },
    {
     "name": "stdout",
     "output_type": "stream",
     "text": [
      "Epoch [28], Train Loss : [0.97400] Val Loss : [0.49459] Val F1 Score : [0.80900]\n"
     ]
    },
    {
     "name": "stderr",
     "output_type": "stream",
     "text": [
      "\n",
      "100%|██████████| 148/148 [01:24<00:00,  1.75it/s]\n",
      "100%|██████████| 37/37 [00:08<00:00,  4.56it/s]\n"
     ]
    },
    {
     "name": "stdout",
     "output_type": "stream",
     "text": [
      "Epoch [29], Train Loss : [0.92910] Val Loss : [0.48312] Val F1 Score : [0.83284]\n"
     ]
    },
    {
     "name": "stderr",
     "output_type": "stream",
     "text": [
      "100%|██████████| 148/148 [01:24<00:00,  1.75it/s]\n",
      "100%|██████████| 37/37 [00:08<00:00,  4.62it/s]\n"
     ]
    },
    {
     "name": "stdout",
     "output_type": "stream",
     "text": [
      "Epoch [30], Train Loss : [0.92175] Val Loss : [0.46366] Val F1 Score : [0.83855]\n"
     ]
    },
    {
     "name": "stderr",
     "output_type": "stream",
     "text": [
      "100%|██████████| 148/148 [01:24<00:00,  1.75it/s]\n",
      "100%|██████████| 37/37 [00:08<00:00,  4.58it/s]"
     ]
    },
    {
     "name": "stdout",
     "output_type": "stream",
     "text": [
      "Epoch [31], Train Loss : [0.91598] Val Loss : [0.47612] Val F1 Score : [0.83074]\n"
     ]
    },
    {
     "name": "stderr",
     "output_type": "stream",
     "text": [
      "\n",
      "100%|██████████| 148/148 [01:24<00:00,  1.75it/s]\n",
      "100%|██████████| 37/37 [00:07<00:00,  4.66it/s]\n"
     ]
    },
    {
     "name": "stdout",
     "output_type": "stream",
     "text": [
      "Epoch [32], Train Loss : [0.88854] Val Loss : [0.46032] Val F1 Score : [0.84216]\n"
     ]
    },
    {
     "name": "stderr",
     "output_type": "stream",
     "text": [
      "100%|██████████| 148/148 [01:24<00:00,  1.75it/s]\n",
      "100%|██████████| 37/37 [00:07<00:00,  4.64it/s]"
     ]
    },
    {
     "name": "stdout",
     "output_type": "stream",
     "text": [
      "Epoch [33], Train Loss : [0.94159] Val Loss : [0.45263] Val F1 Score : [0.83993]\n"
     ]
    },
    {
     "name": "stderr",
     "output_type": "stream",
     "text": [
      "\n",
      "100%|██████████| 148/148 [01:24<00:00,  1.75it/s]\n",
      "100%|██████████| 37/37 [00:08<00:00,  4.49it/s]"
     ]
    },
    {
     "name": "stdout",
     "output_type": "stream",
     "text": [
      "Epoch [34], Train Loss : [0.93287] Val Loss : [0.48169] Val F1 Score : [0.84132]\n"
     ]
    },
    {
     "name": "stderr",
     "output_type": "stream",
     "text": [
      "\n",
      "100%|██████████| 148/148 [01:24<00:00,  1.75it/s]\n",
      "100%|██████████| 37/37 [00:08<00:00,  4.54it/s]"
     ]
    },
    {
     "name": "stdout",
     "output_type": "stream",
     "text": [
      "Epoch [35], Train Loss : [0.90936] Val Loss : [0.48458] Val F1 Score : [0.82376]\n"
     ]
    },
    {
     "name": "stderr",
     "output_type": "stream",
     "text": [
      "\n",
      "100%|██████████| 148/148 [01:24<00:00,  1.75it/s]\n",
      "100%|██████████| 37/37 [00:07<00:00,  4.66it/s]"
     ]
    },
    {
     "name": "stdout",
     "output_type": "stream",
     "text": [
      "Epoch [36], Train Loss : [0.93323] Val Loss : [0.49410] Val F1 Score : [0.80935]\n"
     ]
    },
    {
     "name": "stderr",
     "output_type": "stream",
     "text": [
      "\n",
      "100%|██████████| 148/148 [01:24<00:00,  1.75it/s]\n",
      "100%|██████████| 37/37 [00:08<00:00,  4.60it/s]"
     ]
    },
    {
     "name": "stdout",
     "output_type": "stream",
     "text": [
      "Epoch [37], Train Loss : [0.91281] Val Loss : [0.47390] Val F1 Score : [0.83274]\n"
     ]
    },
    {
     "name": "stderr",
     "output_type": "stream",
     "text": [
      "\n",
      "100%|██████████| 148/148 [01:24<00:00,  1.75it/s]\n",
      "100%|██████████| 37/37 [00:08<00:00,  4.60it/s]"
     ]
    },
    {
     "name": "stdout",
     "output_type": "stream",
     "text": [
      "Epoch [38], Train Loss : [0.89957] Val Loss : [0.47463] Val F1 Score : [0.83012]\n"
     ]
    },
    {
     "name": "stderr",
     "output_type": "stream",
     "text": [
      "\n",
      "100%|██████████| 148/148 [01:24<00:00,  1.75it/s]\n",
      "100%|██████████| 37/37 [00:08<00:00,  4.57it/s]"
     ]
    },
    {
     "name": "stdout",
     "output_type": "stream",
     "text": [
      "Epoch [39], Train Loss : [0.88748] Val Loss : [0.46974] Val F1 Score : [0.83359]\n"
     ]
    },
    {
     "name": "stderr",
     "output_type": "stream",
     "text": [
      "\n",
      "100%|██████████| 148/148 [01:25<00:00,  1.74it/s]\n",
      "100%|██████████| 37/37 [00:08<00:00,  4.46it/s]\n"
     ]
    },
    {
     "name": "stdout",
     "output_type": "stream",
     "text": [
      "Epoch [40], Train Loss : [0.89976] Val Loss : [0.44167] Val F1 Score : [0.85116]\n"
     ]
    },
    {
     "name": "stderr",
     "output_type": "stream",
     "text": [
      "100%|██████████| 148/148 [01:24<00:00,  1.74it/s]\n",
      "100%|██████████| 37/37 [00:08<00:00,  4.53it/s]"
     ]
    },
    {
     "name": "stdout",
     "output_type": "stream",
     "text": [
      "Epoch [41], Train Loss : [0.86452] Val Loss : [0.45640] Val F1 Score : [0.84324]\n"
     ]
    },
    {
     "name": "stderr",
     "output_type": "stream",
     "text": [
      "\n",
      "100%|██████████| 148/148 [01:24<00:00,  1.75it/s]\n",
      "100%|██████████| 37/37 [00:08<00:00,  4.57it/s]"
     ]
    },
    {
     "name": "stdout",
     "output_type": "stream",
     "text": [
      "Epoch [42], Train Loss : [0.85723] Val Loss : [0.47302] Val F1 Score : [0.83954]\n"
     ]
    },
    {
     "name": "stderr",
     "output_type": "stream",
     "text": [
      "\n",
      "100%|██████████| 148/148 [01:24<00:00,  1.74it/s]\n",
      "100%|██████████| 37/37 [00:07<00:00,  4.69it/s]"
     ]
    },
    {
     "name": "stdout",
     "output_type": "stream",
     "text": [
      "Epoch [43], Train Loss : [0.88487] Val Loss : [0.46448] Val F1 Score : [0.83058]\n"
     ]
    },
    {
     "name": "stderr",
     "output_type": "stream",
     "text": [
      "\n",
      "100%|██████████| 148/148 [01:24<00:00,  1.74it/s]\n",
      "100%|██████████| 37/37 [00:08<00:00,  4.58it/s]"
     ]
    },
    {
     "name": "stdout",
     "output_type": "stream",
     "text": [
      "Epoch [44], Train Loss : [0.89614] Val Loss : [0.46823] Val F1 Score : [0.83544]\n"
     ]
    },
    {
     "name": "stderr",
     "output_type": "stream",
     "text": [
      "\n",
      "100%|██████████| 148/148 [01:24<00:00,  1.74it/s]\n",
      "100%|██████████| 37/37 [00:08<00:00,  4.54it/s]"
     ]
    },
    {
     "name": "stdout",
     "output_type": "stream",
     "text": [
      "Epoch [45], Train Loss : [0.84518] Val Loss : [0.46557] Val F1 Score : [0.83895]\n"
     ]
    },
    {
     "name": "stderr",
     "output_type": "stream",
     "text": [
      "\n",
      "100%|██████████| 148/148 [01:24<00:00,  1.75it/s]\n",
      "100%|██████████| 37/37 [00:07<00:00,  4.68it/s]"
     ]
    },
    {
     "name": "stdout",
     "output_type": "stream",
     "text": [
      "Epoch [46], Train Loss : [0.84122] Val Loss : [0.46490] Val F1 Score : [0.83289]\n"
     ]
    },
    {
     "name": "stderr",
     "output_type": "stream",
     "text": [
      "\n",
      "100%|██████████| 148/148 [01:24<00:00,  1.74it/s]\n",
      "100%|██████████| 37/37 [00:07<00:00,  4.64it/s]"
     ]
    },
    {
     "name": "stdout",
     "output_type": "stream",
     "text": [
      "Epoch [47], Train Loss : [0.85937] Val Loss : [0.48290] Val F1 Score : [0.82359]\n"
     ]
    },
    {
     "name": "stderr",
     "output_type": "stream",
     "text": [
      "\n",
      "100%|██████████| 148/148 [01:24<00:00,  1.75it/s]\n",
      "100%|██████████| 37/37 [00:07<00:00,  4.67it/s]"
     ]
    },
    {
     "name": "stdout",
     "output_type": "stream",
     "text": [
      "Epoch [48], Train Loss : [0.85715] Val Loss : [0.43668] Val F1 Score : [0.84870]\n"
     ]
    },
    {
     "name": "stderr",
     "output_type": "stream",
     "text": [
      "\n",
      "100%|██████████| 148/148 [01:24<00:00,  1.74it/s]\n",
      "100%|██████████| 37/37 [00:07<00:00,  4.68it/s]"
     ]
    },
    {
     "name": "stdout",
     "output_type": "stream",
     "text": [
      "Epoch [49], Train Loss : [0.84189] Val Loss : [0.45769] Val F1 Score : [0.84165]\n"
     ]
    },
    {
     "name": "stderr",
     "output_type": "stream",
     "text": [
      "\n",
      "100%|██████████| 148/148 [01:24<00:00,  1.75it/s]\n",
      "100%|██████████| 37/37 [00:08<00:00,  4.57it/s]"
     ]
    },
    {
     "name": "stdout",
     "output_type": "stream",
     "text": [
      "Epoch [50], Train Loss : [0.83469] Val Loss : [0.43888] Val F1 Score : [0.84912]\n"
     ]
    },
    {
     "name": "stderr",
     "output_type": "stream",
     "text": [
      "\n"
     ]
    },
    {
     "name": "stdout",
     "output_type": "stream",
     "text": [
      "LR SCALES: [1.0, 1.0, 1.0, 1.0, 1.0, 1.0, 1.0, 1.0, 1.0, 1.0, 1.0, 1.0]\n"
     ]
    },
    {
     "name": "stderr",
     "output_type": "stream",
     "text": [
      "100%|██████████| 148/148 [01:24<00:00,  1.75it/s]\n",
      "100%|██████████| 37/37 [00:08<00:00,  4.54it/s]\n"
     ]
    },
    {
     "name": "stdout",
     "output_type": "stream",
     "text": [
      "Epoch [1], Train Loss : [4.17213] Val Loss : [4.16152] Val F1 Score : [0.01747]\n"
     ]
    },
    {
     "name": "stderr",
     "output_type": "stream",
     "text": [
      "100%|██████████| 148/148 [01:24<00:00,  1.74it/s]\n",
      "100%|██████████| 37/37 [00:08<00:00,  4.59it/s]\n"
     ]
    },
    {
     "name": "stdout",
     "output_type": "stream",
     "text": [
      "Epoch [2], Train Loss : [2.85447] Val Loss : [1.47555] Val F1 Score : [0.50539]\n"
     ]
    },
    {
     "name": "stderr",
     "output_type": "stream",
     "text": [
      "100%|██████████| 148/148 [01:24<00:00,  1.74it/s]\n",
      "100%|██████████| 37/37 [00:08<00:00,  4.53it/s]\n"
     ]
    },
    {
     "name": "stdout",
     "output_type": "stream",
     "text": [
      "Epoch [3], Train Loss : [2.35062] Val Loss : [1.43506] Val F1 Score : [0.51744]\n"
     ]
    },
    {
     "name": "stderr",
     "output_type": "stream",
     "text": [
      "100%|██████████| 148/148 [01:24<00:00,  1.74it/s]\n",
      "100%|██████████| 37/37 [00:08<00:00,  4.55it/s]\n"
     ]
    },
    {
     "name": "stdout",
     "output_type": "stream",
     "text": [
      "Epoch [4], Train Loss : [2.28704] Val Loss : [1.33948] Val F1 Score : [0.53166]\n"
     ]
    },
    {
     "name": "stderr",
     "output_type": "stream",
     "text": [
      "100%|██████████| 148/148 [01:24<00:00,  1.74it/s]\n",
      "100%|██████████| 37/37 [00:08<00:00,  4.58it/s]\n"
     ]
    },
    {
     "name": "stdout",
     "output_type": "stream",
     "text": [
      "Epoch [5], Train Loss : [2.13601] Val Loss : [1.33485] Val F1 Score : [0.55392]\n"
     ]
    },
    {
     "name": "stderr",
     "output_type": "stream",
     "text": [
      "100%|██████████| 148/148 [01:24<00:00,  1.75it/s]\n",
      "100%|██████████| 37/37 [00:07<00:00,  4.70it/s]\n"
     ]
    },
    {
     "name": "stdout",
     "output_type": "stream",
     "text": [
      "Epoch [6], Train Loss : [1.96516] Val Loss : [1.06525] Val F1 Score : [0.61617]\n"
     ]
    },
    {
     "name": "stderr",
     "output_type": "stream",
     "text": [
      "100%|██████████| 148/148 [01:24<00:00,  1.74it/s]\n",
      "100%|██████████| 37/37 [00:07<00:00,  4.67it/s]\n"
     ]
    },
    {
     "name": "stdout",
     "output_type": "stream",
     "text": [
      "Epoch [7], Train Loss : [1.74673] Val Loss : [0.86086] Val F1 Score : [0.70278]\n"
     ]
    },
    {
     "name": "stderr",
     "output_type": "stream",
     "text": [
      "100%|██████████| 148/148 [01:24<00:00,  1.75it/s]\n",
      "100%|██████████| 37/37 [00:07<00:00,  4.64it/s]\n"
     ]
    },
    {
     "name": "stdout",
     "output_type": "stream",
     "text": [
      "Epoch [8], Train Loss : [1.59486] Val Loss : [0.77237] Val F1 Score : [0.71835]\n"
     ]
    },
    {
     "name": "stderr",
     "output_type": "stream",
     "text": [
      "100%|██████████| 148/148 [01:24<00:00,  1.75it/s]\n",
      "100%|██████████| 37/37 [00:08<00:00,  4.49it/s]\n"
     ]
    },
    {
     "name": "stdout",
     "output_type": "stream",
     "text": [
      "Epoch [9], Train Loss : [1.39908] Val Loss : [0.63800] Val F1 Score : [0.76300]\n"
     ]
    },
    {
     "name": "stderr",
     "output_type": "stream",
     "text": [
      "100%|██████████| 148/148 [01:24<00:00,  1.75it/s]\n",
      "100%|██████████| 37/37 [00:07<00:00,  4.63it/s]\n"
     ]
    },
    {
     "name": "stdout",
     "output_type": "stream",
     "text": [
      "Epoch [10], Train Loss : [1.30038] Val Loss : [0.63407] Val F1 Score : [0.76602]\n"
     ]
    },
    {
     "name": "stderr",
     "output_type": "stream",
     "text": [
      "100%|██████████| 148/148 [01:24<00:00,  1.75it/s]\n",
      "100%|██████████| 37/37 [00:07<00:00,  4.67it/s]\n"
     ]
    },
    {
     "name": "stdout",
     "output_type": "stream",
     "text": [
      "Epoch [11], Train Loss : [1.31632] Val Loss : [0.58696] Val F1 Score : [0.78586]\n"
     ]
    },
    {
     "name": "stderr",
     "output_type": "stream",
     "text": [
      "100%|██████████| 148/148 [01:24<00:00,  1.75it/s]\n",
      "100%|██████████| 37/37 [00:07<00:00,  4.63it/s]\n"
     ]
    },
    {
     "name": "stdout",
     "output_type": "stream",
     "text": [
      "Epoch [12], Train Loss : [1.27770] Val Loss : [0.61142] Val F1 Score : [0.79380]\n"
     ]
    },
    {
     "name": "stderr",
     "output_type": "stream",
     "text": [
      "100%|██████████| 148/148 [01:24<00:00,  1.75it/s]\n",
      "100%|██████████| 37/37 [00:07<00:00,  4.65it/s]"
     ]
    },
    {
     "name": "stdout",
     "output_type": "stream",
     "text": [
      "Epoch [13], Train Loss : [1.35958] Val Loss : [0.67406] Val F1 Score : [0.74631]\n"
     ]
    },
    {
     "name": "stderr",
     "output_type": "stream",
     "text": [
      "\n",
      "100%|██████████| 148/148 [01:24<00:00,  1.75it/s]\n",
      "100%|██████████| 37/37 [00:07<00:00,  4.71it/s]"
     ]
    },
    {
     "name": "stdout",
     "output_type": "stream",
     "text": [
      "Epoch [14], Train Loss : [1.39784] Val Loss : [0.73547] Val F1 Score : [0.72352]\n"
     ]
    },
    {
     "name": "stderr",
     "output_type": "stream",
     "text": [
      "\n",
      "100%|██████████| 148/148 [01:24<00:00,  1.75it/s]\n",
      "100%|██████████| 37/37 [00:08<00:00,  4.49it/s]"
     ]
    },
    {
     "name": "stdout",
     "output_type": "stream",
     "text": [
      "Epoch [15], Train Loss : [1.44483] Val Loss : [0.74513] Val F1 Score : [0.73015]\n"
     ]
    },
    {
     "name": "stderr",
     "output_type": "stream",
     "text": [
      "\n",
      "100%|██████████| 148/148 [01:24<00:00,  1.74it/s]\n",
      "100%|██████████| 37/37 [00:08<00:00,  4.58it/s]"
     ]
    },
    {
     "name": "stdout",
     "output_type": "stream",
     "text": [
      "Epoch [16], Train Loss : [1.31288] Val Loss : [0.65645] Val F1 Score : [0.76435]\n"
     ]
    },
    {
     "name": "stderr",
     "output_type": "stream",
     "text": [
      "\n",
      "100%|██████████| 148/148 [01:24<00:00,  1.75it/s]\n",
      "100%|██████████| 37/37 [00:08<00:00,  4.47it/s]"
     ]
    },
    {
     "name": "stdout",
     "output_type": "stream",
     "text": [
      "Epoch [17], Train Loss : [1.29820] Val Loss : [0.62589] Val F1 Score : [0.76488]\n"
     ]
    },
    {
     "name": "stderr",
     "output_type": "stream",
     "text": [
      "\n",
      "100%|██████████| 148/148 [01:24<00:00,  1.74it/s]\n",
      "100%|██████████| 37/37 [00:07<00:00,  4.70it/s]\n"
     ]
    },
    {
     "name": "stdout",
     "output_type": "stream",
     "text": [
      "Epoch [18], Train Loss : [1.19896] Val Loss : [0.54092] Val F1 Score : [0.80372]\n"
     ]
    },
    {
     "name": "stderr",
     "output_type": "stream",
     "text": [
      "100%|██████████| 148/148 [01:24<00:00,  1.75it/s]\n",
      "100%|██████████| 37/37 [00:07<00:00,  4.65it/s]\n"
     ]
    },
    {
     "name": "stdout",
     "output_type": "stream",
     "text": [
      "Epoch [19], Train Loss : [1.10656] Val Loss : [0.52448] Val F1 Score : [0.82002]\n"
     ]
    },
    {
     "name": "stderr",
     "output_type": "stream",
     "text": [
      "100%|██████████| 148/148 [01:24<00:00,  1.75it/s]\n",
      "100%|██████████| 37/37 [00:07<00:00,  4.64it/s]"
     ]
    },
    {
     "name": "stdout",
     "output_type": "stream",
     "text": [
      "Epoch [20], Train Loss : [1.08569] Val Loss : [0.51589] Val F1 Score : [0.80346]\n"
     ]
    },
    {
     "name": "stderr",
     "output_type": "stream",
     "text": [
      "\n",
      "100%|██████████| 148/148 [01:24<00:00,  1.75it/s]\n",
      "100%|██████████| 37/37 [00:07<00:00,  4.66it/s]"
     ]
    },
    {
     "name": "stdout",
     "output_type": "stream",
     "text": [
      "Epoch [21], Train Loss : [1.05326] Val Loss : [0.51492] Val F1 Score : [0.81472]\n"
     ]
    },
    {
     "name": "stderr",
     "output_type": "stream",
     "text": [
      "\n",
      "100%|██████████| 148/148 [01:24<00:00,  1.75it/s]\n",
      "100%|██████████| 37/37 [00:07<00:00,  4.68it/s]"
     ]
    },
    {
     "name": "stdout",
     "output_type": "stream",
     "text": [
      "Epoch [22], Train Loss : [1.06536] Val Loss : [0.50914] Val F1 Score : [0.81722]\n"
     ]
    },
    {
     "name": "stderr",
     "output_type": "stream",
     "text": [
      "\n",
      "100%|██████████| 148/148 [01:24<00:00,  1.75it/s]\n",
      "100%|██████████| 37/37 [00:07<00:00,  4.66it/s]\n"
     ]
    },
    {
     "name": "stdout",
     "output_type": "stream",
     "text": [
      "Epoch [23], Train Loss : [1.06061] Val Loss : [0.53933] Val F1 Score : [0.82089]\n"
     ]
    },
    {
     "name": "stderr",
     "output_type": "stream",
     "text": [
      "100%|██████████| 148/148 [01:24<00:00,  1.75it/s]\n",
      "100%|██████████| 37/37 [00:08<00:00,  4.58it/s]"
     ]
    },
    {
     "name": "stdout",
     "output_type": "stream",
     "text": [
      "Epoch [24], Train Loss : [1.09812] Val Loss : [0.56713] Val F1 Score : [0.78608]\n"
     ]
    },
    {
     "name": "stderr",
     "output_type": "stream",
     "text": [
      "\n",
      "100%|██████████| 148/148 [01:24<00:00,  1.75it/s]\n",
      "100%|██████████| 37/37 [00:07<00:00,  4.63it/s]"
     ]
    },
    {
     "name": "stdout",
     "output_type": "stream",
     "text": [
      "Epoch [25], Train Loss : [1.06475] Val Loss : [0.55048] Val F1 Score : [0.79655]\n"
     ]
    },
    {
     "name": "stderr",
     "output_type": "stream",
     "text": [
      "\n",
      "100%|██████████| 148/148 [01:24<00:00,  1.75it/s]\n",
      "100%|██████████| 37/37 [00:08<00:00,  4.47it/s]"
     ]
    },
    {
     "name": "stdout",
     "output_type": "stream",
     "text": [
      "Epoch [26], Train Loss : [1.09539] Val Loss : [0.54162] Val F1 Score : [0.78067]\n"
     ]
    },
    {
     "name": "stderr",
     "output_type": "stream",
     "text": [
      "\n",
      "100%|██████████| 148/148 [01:24<00:00,  1.75it/s]\n",
      "100%|██████████| 37/37 [00:07<00:00,  4.66it/s]"
     ]
    },
    {
     "name": "stdout",
     "output_type": "stream",
     "text": [
      "Epoch [27], Train Loss : [1.05278] Val Loss : [0.52508] Val F1 Score : [0.79784]\n"
     ]
    },
    {
     "name": "stderr",
     "output_type": "stream",
     "text": [
      "\n",
      "100%|██████████| 148/148 [01:24<00:00,  1.75it/s]\n",
      "100%|██████████| 37/37 [00:08<00:00,  4.55it/s]"
     ]
    },
    {
     "name": "stdout",
     "output_type": "stream",
     "text": [
      "Epoch [28], Train Loss : [1.00955] Val Loss : [0.49562] Val F1 Score : [0.81668]\n"
     ]
    },
    {
     "name": "stderr",
     "output_type": "stream",
     "text": [
      "\n",
      "100%|██████████| 148/148 [01:24<00:00,  1.75it/s]\n",
      "100%|██████████| 37/37 [00:07<00:00,  4.67it/s]\n"
     ]
    },
    {
     "name": "stdout",
     "output_type": "stream",
     "text": [
      "Epoch [29], Train Loss : [0.98416] Val Loss : [0.48029] Val F1 Score : [0.83867]\n"
     ]
    },
    {
     "name": "stderr",
     "output_type": "stream",
     "text": [
      "100%|██████████| 148/148 [01:24<00:00,  1.75it/s]\n",
      "100%|██████████| 37/37 [00:07<00:00,  4.63it/s]"
     ]
    },
    {
     "name": "stdout",
     "output_type": "stream",
     "text": [
      "Epoch [30], Train Loss : [0.97855] Val Loss : [0.49182] Val F1 Score : [0.83164]\n"
     ]
    },
    {
     "name": "stderr",
     "output_type": "stream",
     "text": [
      "\n",
      "100%|██████████| 148/148 [01:24<00:00,  1.74it/s]\n",
      "100%|██████████| 37/37 [00:07<00:00,  4.63it/s]"
     ]
    },
    {
     "name": "stdout",
     "output_type": "stream",
     "text": [
      "Epoch [31], Train Loss : [0.99246] Val Loss : [0.48411] Val F1 Score : [0.81196]\n"
     ]
    },
    {
     "name": "stderr",
     "output_type": "stream",
     "text": [
      "\n",
      "100%|██████████| 148/148 [01:24<00:00,  1.75it/s]\n",
      "100%|██████████| 37/37 [00:08<00:00,  4.54it/s]"
     ]
    },
    {
     "name": "stdout",
     "output_type": "stream",
     "text": [
      "Epoch [32], Train Loss : [0.95821] Val Loss : [0.46237] Val F1 Score : [0.82428]\n"
     ]
    },
    {
     "name": "stderr",
     "output_type": "stream",
     "text": [
      "\n",
      "100%|██████████| 148/148 [01:24<00:00,  1.75it/s]\n",
      "100%|██████████| 37/37 [00:07<00:00,  4.64it/s]"
     ]
    },
    {
     "name": "stdout",
     "output_type": "stream",
     "text": [
      "Epoch [33], Train Loss : [0.95427] Val Loss : [0.47543] Val F1 Score : [0.82318]\n"
     ]
    },
    {
     "name": "stderr",
     "output_type": "stream",
     "text": [
      "\n",
      "100%|██████████| 148/148 [01:24<00:00,  1.75it/s]\n",
      "100%|██████████| 37/37 [00:07<00:00,  4.70it/s]"
     ]
    },
    {
     "name": "stdout",
     "output_type": "stream",
     "text": [
      "Epoch [34], Train Loss : [0.93790] Val Loss : [0.49134] Val F1 Score : [0.82491]\n"
     ]
    },
    {
     "name": "stderr",
     "output_type": "stream",
     "text": [
      "\n",
      "100%|██████████| 148/148 [01:24<00:00,  1.75it/s]\n",
      "100%|██████████| 37/37 [00:08<00:00,  4.52it/s]"
     ]
    },
    {
     "name": "stdout",
     "output_type": "stream",
     "text": [
      "Epoch [35], Train Loss : [0.92742] Val Loss : [0.48906] Val F1 Score : [0.80600]\n"
     ]
    },
    {
     "name": "stderr",
     "output_type": "stream",
     "text": [
      "\n",
      "100%|██████████| 148/148 [01:24<00:00,  1.75it/s]\n",
      "100%|██████████| 37/37 [00:07<00:00,  4.65it/s]"
     ]
    },
    {
     "name": "stdout",
     "output_type": "stream",
     "text": [
      "Epoch [36], Train Loss : [0.95160] Val Loss : [0.47927] Val F1 Score : [0.83520]\n"
     ]
    },
    {
     "name": "stderr",
     "output_type": "stream",
     "text": [
      "\n",
      "100%|██████████| 148/148 [01:24<00:00,  1.75it/s]\n",
      "100%|██████████| 37/37 [00:07<00:00,  4.66it/s]"
     ]
    },
    {
     "name": "stdout",
     "output_type": "stream",
     "text": [
      "Epoch [37], Train Loss : [0.93754] Val Loss : [0.49281] Val F1 Score : [0.81913]\n"
     ]
    },
    {
     "name": "stderr",
     "output_type": "stream",
     "text": [
      "\n",
      "100%|██████████| 148/148 [01:24<00:00,  1.75it/s]\n",
      "100%|██████████| 37/37 [00:07<00:00,  4.65it/s]"
     ]
    },
    {
     "name": "stdout",
     "output_type": "stream",
     "text": [
      "Epoch [38], Train Loss : [0.90197] Val Loss : [0.46474] Val F1 Score : [0.82385]\n"
     ]
    },
    {
     "name": "stderr",
     "output_type": "stream",
     "text": [
      "\n",
      "100%|██████████| 148/148 [01:24<00:00,  1.75it/s]\n",
      "100%|██████████| 37/37 [00:07<00:00,  4.69it/s]"
     ]
    },
    {
     "name": "stdout",
     "output_type": "stream",
     "text": [
      "Epoch [39], Train Loss : [0.92393] Val Loss : [0.46361] Val F1 Score : [0.81873]\n"
     ]
    },
    {
     "name": "stderr",
     "output_type": "stream",
     "text": [
      "\n",
      "100%|██████████| 148/148 [01:24<00:00,  1.75it/s]\n",
      "100%|██████████| 37/37 [00:07<00:00,  4.70it/s]"
     ]
    },
    {
     "name": "stdout",
     "output_type": "stream",
     "text": [
      "Epoch [40], Train Loss : [0.88516] Val Loss : [0.45764] Val F1 Score : [0.83282]\n",
      "Early Stopping...\n"
     ]
    },
    {
     "name": "stderr",
     "output_type": "stream",
     "text": [
      "\n"
     ]
    },
    {
     "name": "stdout",
     "output_type": "stream",
     "text": [
      "Inference Done! Inference result saved at ./output/stratified_7fold_tta_answer.csv\n"
     ]
    }
   ],
   "source": [
    "model = BaseModel()\n",
    "\n",
    "model.eval()\n",
    "\n",
    "optimizer = torch.optim.Adam(params = model.parameters(), lr = 0)\n",
    "scheduler = CosineAnnealingWarmUpRestarts(optimizer, T_0=10, T_mult=1, eta_max=0.001,  T_up=3, gamma=0.5)\n",
    "train_stratified_kfold(device)"
   ]
  }
 ],
 "metadata": {
  "accelerator": "GPU",
  "colab": {
   "collapsed_sections": [],
   "machine_shape": "hm",
   "provenance": []
  },
  "gpuClass": "premium",
  "kernelspec": {
   "display_name": "dacon",
   "language": "python",
   "name": "dacon"
  },
  "language_info": {
   "codemirror_mode": {
    "name": "ipython",
    "version": 3
   },
   "file_extension": ".py",
   "mimetype": "text/x-python",
   "name": "python",
   "nbconvert_exporter": "python",
   "pygments_lexer": "ipython3",
   "version": "3.8.5"
  }
 },
 "nbformat": 4,
 "nbformat_minor": 4
}
